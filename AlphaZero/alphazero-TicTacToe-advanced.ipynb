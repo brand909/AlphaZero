{
 "cells": [
  {
   "cell_type": "markdown",
   "metadata": {},
   "source": [
    "# Initialize a game"
   ]
  },
  {
   "cell_type": "code",
   "execution_count": 1,
   "metadata": {},
   "outputs": [],
   "source": [
    "from ConnectN import ConnectN\n",
    "\n",
    "game_setting = {'size':(6,6), 'N':4, 'pie_rule':True}\n",
    "game = ConnectN(**game_setting)\n"
   ]
  },
  {
   "cell_type": "code",
   "execution_count": 3,
   "metadata": {},
   "outputs": [
    {
     "data": {
      "application/javascript": [
       "/* Put everything inside the global mpl namespace */\n",
       "window.mpl = {};\n",
       "\n",
       "\n",
       "mpl.get_websocket_type = function() {\n",
       "    if (typeof(WebSocket) !== 'undefined') {\n",
       "        return WebSocket;\n",
       "    } else if (typeof(MozWebSocket) !== 'undefined') {\n",
       "        return MozWebSocket;\n",
       "    } else {\n",
       "        alert('Your browser does not have WebSocket support.' +\n",
       "              'Please try Chrome, Safari or Firefox ≥ 6. ' +\n",
       "              'Firefox 4 and 5 are also supported but you ' +\n",
       "              'have to enable WebSockets in about:config.');\n",
       "    };\n",
       "}\n",
       "\n",
       "mpl.figure = function(figure_id, websocket, ondownload, parent_element) {\n",
       "    this.id = figure_id;\n",
       "\n",
       "    this.ws = websocket;\n",
       "\n",
       "    this.supports_binary = (this.ws.binaryType != undefined);\n",
       "\n",
       "    if (!this.supports_binary) {\n",
       "        var warnings = document.getElementById(\"mpl-warnings\");\n",
       "        if (warnings) {\n",
       "            warnings.style.display = 'block';\n",
       "            warnings.textContent = (\n",
       "                \"This browser does not support binary websocket messages. \" +\n",
       "                    \"Performance may be slow.\");\n",
       "        }\n",
       "    }\n",
       "\n",
       "    this.imageObj = new Image();\n",
       "\n",
       "    this.context = undefined;\n",
       "    this.message = undefined;\n",
       "    this.canvas = undefined;\n",
       "    this.rubberband_canvas = undefined;\n",
       "    this.rubberband_context = undefined;\n",
       "    this.format_dropdown = undefined;\n",
       "\n",
       "    this.image_mode = 'full';\n",
       "\n",
       "    this.root = $('<div/>');\n",
       "    this._root_extra_style(this.root)\n",
       "    this.root.attr('style', 'display: inline-block');\n",
       "\n",
       "    $(parent_element).append(this.root);\n",
       "\n",
       "    this._init_header(this);\n",
       "    this._init_canvas(this);\n",
       "    this._init_toolbar(this);\n",
       "\n",
       "    var fig = this;\n",
       "\n",
       "    this.waiting = false;\n",
       "\n",
       "    this.ws.onopen =  function () {\n",
       "            fig.send_message(\"supports_binary\", {value: fig.supports_binary});\n",
       "            fig.send_message(\"send_image_mode\", {});\n",
       "            if (mpl.ratio != 1) {\n",
       "                fig.send_message(\"set_dpi_ratio\", {'dpi_ratio': mpl.ratio});\n",
       "            }\n",
       "            fig.send_message(\"refresh\", {});\n",
       "        }\n",
       "\n",
       "    this.imageObj.onload = function() {\n",
       "            if (fig.image_mode == 'full') {\n",
       "                // Full images could contain transparency (where diff images\n",
       "                // almost always do), so we need to clear the canvas so that\n",
       "                // there is no ghosting.\n",
       "                fig.context.clearRect(0, 0, fig.canvas.width, fig.canvas.height);\n",
       "            }\n",
       "            fig.context.drawImage(fig.imageObj, 0, 0);\n",
       "        };\n",
       "\n",
       "    this.imageObj.onunload = function() {\n",
       "        fig.ws.close();\n",
       "    }\n",
       "\n",
       "    this.ws.onmessage = this._make_on_message_function(this);\n",
       "\n",
       "    this.ondownload = ondownload;\n",
       "}\n",
       "\n",
       "mpl.figure.prototype._init_header = function() {\n",
       "    var titlebar = $(\n",
       "        '<div class=\"ui-dialog-titlebar ui-widget-header ui-corner-all ' +\n",
       "        'ui-helper-clearfix\"/>');\n",
       "    var titletext = $(\n",
       "        '<div class=\"ui-dialog-title\" style=\"width: 100%; ' +\n",
       "        'text-align: center; padding: 3px;\"/>');\n",
       "    titlebar.append(titletext)\n",
       "    this.root.append(titlebar);\n",
       "    this.header = titletext[0];\n",
       "}\n",
       "\n",
       "\n",
       "\n",
       "mpl.figure.prototype._canvas_extra_style = function(canvas_div) {\n",
       "\n",
       "}\n",
       "\n",
       "\n",
       "mpl.figure.prototype._root_extra_style = function(canvas_div) {\n",
       "\n",
       "}\n",
       "\n",
       "mpl.figure.prototype._init_canvas = function() {\n",
       "    var fig = this;\n",
       "\n",
       "    var canvas_div = $('<div/>');\n",
       "\n",
       "    canvas_div.attr('style', 'position: relative; clear: both; outline: 0');\n",
       "\n",
       "    function canvas_keyboard_event(event) {\n",
       "        return fig.key_event(event, event['data']);\n",
       "    }\n",
       "\n",
       "    canvas_div.keydown('key_press', canvas_keyboard_event);\n",
       "    canvas_div.keyup('key_release', canvas_keyboard_event);\n",
       "    this.canvas_div = canvas_div\n",
       "    this._canvas_extra_style(canvas_div)\n",
       "    this.root.append(canvas_div);\n",
       "\n",
       "    var canvas = $('<canvas/>');\n",
       "    canvas.addClass('mpl-canvas');\n",
       "    canvas.attr('style', \"left: 0; top: 0; z-index: 0; outline: 0\")\n",
       "\n",
       "    this.canvas = canvas[0];\n",
       "    this.context = canvas[0].getContext(\"2d\");\n",
       "\n",
       "    var backingStore = this.context.backingStorePixelRatio ||\n",
       "\tthis.context.webkitBackingStorePixelRatio ||\n",
       "\tthis.context.mozBackingStorePixelRatio ||\n",
       "\tthis.context.msBackingStorePixelRatio ||\n",
       "\tthis.context.oBackingStorePixelRatio ||\n",
       "\tthis.context.backingStorePixelRatio || 1;\n",
       "\n",
       "    mpl.ratio = (window.devicePixelRatio || 1) / backingStore;\n",
       "\n",
       "    var rubberband = $('<canvas/>');\n",
       "    rubberband.attr('style', \"position: absolute; left: 0; top: 0; z-index: 1;\")\n",
       "\n",
       "    var pass_mouse_events = true;\n",
       "\n",
       "    canvas_div.resizable({\n",
       "        start: function(event, ui) {\n",
       "            pass_mouse_events = false;\n",
       "        },\n",
       "        resize: function(event, ui) {\n",
       "            fig.request_resize(ui.size.width, ui.size.height);\n",
       "        },\n",
       "        stop: function(event, ui) {\n",
       "            pass_mouse_events = true;\n",
       "            fig.request_resize(ui.size.width, ui.size.height);\n",
       "        },\n",
       "    });\n",
       "\n",
       "    function mouse_event_fn(event) {\n",
       "        if (pass_mouse_events)\n",
       "            return fig.mouse_event(event, event['data']);\n",
       "    }\n",
       "\n",
       "    rubberband.mousedown('button_press', mouse_event_fn);\n",
       "    rubberband.mouseup('button_release', mouse_event_fn);\n",
       "    // Throttle sequential mouse events to 1 every 20ms.\n",
       "    rubberband.mousemove('motion_notify', mouse_event_fn);\n",
       "\n",
       "    rubberband.mouseenter('figure_enter', mouse_event_fn);\n",
       "    rubberband.mouseleave('figure_leave', mouse_event_fn);\n",
       "\n",
       "    canvas_div.on(\"wheel\", function (event) {\n",
       "        event = event.originalEvent;\n",
       "        event['data'] = 'scroll'\n",
       "        if (event.deltaY < 0) {\n",
       "            event.step = 1;\n",
       "        } else {\n",
       "            event.step = -1;\n",
       "        }\n",
       "        mouse_event_fn(event);\n",
       "    });\n",
       "\n",
       "    canvas_div.append(canvas);\n",
       "    canvas_div.append(rubberband);\n",
       "\n",
       "    this.rubberband = rubberband;\n",
       "    this.rubberband_canvas = rubberband[0];\n",
       "    this.rubberband_context = rubberband[0].getContext(\"2d\");\n",
       "    this.rubberband_context.strokeStyle = \"#000000\";\n",
       "\n",
       "    this._resize_canvas = function(width, height) {\n",
       "        // Keep the size of the canvas, canvas container, and rubber band\n",
       "        // canvas in synch.\n",
       "        canvas_div.css('width', width)\n",
       "        canvas_div.css('height', height)\n",
       "\n",
       "        canvas.attr('width', width * mpl.ratio);\n",
       "        canvas.attr('height', height * mpl.ratio);\n",
       "        canvas.attr('style', 'width: ' + width + 'px; height: ' + height + 'px;');\n",
       "\n",
       "        rubberband.attr('width', width);\n",
       "        rubberband.attr('height', height);\n",
       "    }\n",
       "\n",
       "    // Set the figure to an initial 600x600px, this will subsequently be updated\n",
       "    // upon first draw.\n",
       "    this._resize_canvas(600, 600);\n",
       "\n",
       "    // Disable right mouse context menu.\n",
       "    $(this.rubberband_canvas).bind(\"contextmenu\",function(e){\n",
       "        return false;\n",
       "    });\n",
       "\n",
       "    function set_focus () {\n",
       "        canvas.focus();\n",
       "        canvas_div.focus();\n",
       "    }\n",
       "\n",
       "    window.setTimeout(set_focus, 100);\n",
       "}\n",
       "\n",
       "mpl.figure.prototype._init_toolbar = function() {\n",
       "    var fig = this;\n",
       "\n",
       "    var nav_element = $('<div/>')\n",
       "    nav_element.attr('style', 'width: 100%');\n",
       "    this.root.append(nav_element);\n",
       "\n",
       "    // Define a callback function for later on.\n",
       "    function toolbar_event(event) {\n",
       "        return fig.toolbar_button_onclick(event['data']);\n",
       "    }\n",
       "    function toolbar_mouse_event(event) {\n",
       "        return fig.toolbar_button_onmouseover(event['data']);\n",
       "    }\n",
       "\n",
       "    for(var toolbar_ind in mpl.toolbar_items) {\n",
       "        var name = mpl.toolbar_items[toolbar_ind][0];\n",
       "        var tooltip = mpl.toolbar_items[toolbar_ind][1];\n",
       "        var image = mpl.toolbar_items[toolbar_ind][2];\n",
       "        var method_name = mpl.toolbar_items[toolbar_ind][3];\n",
       "\n",
       "        if (!name) {\n",
       "            // put a spacer in here.\n",
       "            continue;\n",
       "        }\n",
       "        var button = $('<button/>');\n",
       "        button.addClass('ui-button ui-widget ui-state-default ui-corner-all ' +\n",
       "                        'ui-button-icon-only');\n",
       "        button.attr('role', 'button');\n",
       "        button.attr('aria-disabled', 'false');\n",
       "        button.click(method_name, toolbar_event);\n",
       "        button.mouseover(tooltip, toolbar_mouse_event);\n",
       "\n",
       "        var icon_img = $('<span/>');\n",
       "        icon_img.addClass('ui-button-icon-primary ui-icon');\n",
       "        icon_img.addClass(image);\n",
       "        icon_img.addClass('ui-corner-all');\n",
       "\n",
       "        var tooltip_span = $('<span/>');\n",
       "        tooltip_span.addClass('ui-button-text');\n",
       "        tooltip_span.html(tooltip);\n",
       "\n",
       "        button.append(icon_img);\n",
       "        button.append(tooltip_span);\n",
       "\n",
       "        nav_element.append(button);\n",
       "    }\n",
       "\n",
       "    var fmt_picker_span = $('<span/>');\n",
       "\n",
       "    var fmt_picker = $('<select/>');\n",
       "    fmt_picker.addClass('mpl-toolbar-option ui-widget ui-widget-content');\n",
       "    fmt_picker_span.append(fmt_picker);\n",
       "    nav_element.append(fmt_picker_span);\n",
       "    this.format_dropdown = fmt_picker[0];\n",
       "\n",
       "    for (var ind in mpl.extensions) {\n",
       "        var fmt = mpl.extensions[ind];\n",
       "        var option = $(\n",
       "            '<option/>', {selected: fmt === mpl.default_extension}).html(fmt);\n",
       "        fmt_picker.append(option)\n",
       "    }\n",
       "\n",
       "    // Add hover states to the ui-buttons\n",
       "    $( \".ui-button\" ).hover(\n",
       "        function() { $(this).addClass(\"ui-state-hover\");},\n",
       "        function() { $(this).removeClass(\"ui-state-hover\");}\n",
       "    );\n",
       "\n",
       "    var status_bar = $('<span class=\"mpl-message\"/>');\n",
       "    nav_element.append(status_bar);\n",
       "    this.message = status_bar[0];\n",
       "}\n",
       "\n",
       "mpl.figure.prototype.request_resize = function(x_pixels, y_pixels) {\n",
       "    // Request matplotlib to resize the figure. Matplotlib will then trigger a resize in the client,\n",
       "    // which will in turn request a refresh of the image.\n",
       "    this.send_message('resize', {'width': x_pixels, 'height': y_pixels});\n",
       "}\n",
       "\n",
       "mpl.figure.prototype.send_message = function(type, properties) {\n",
       "    properties['type'] = type;\n",
       "    properties['figure_id'] = this.id;\n",
       "    this.ws.send(JSON.stringify(properties));\n",
       "}\n",
       "\n",
       "mpl.figure.prototype.send_draw_message = function() {\n",
       "    if (!this.waiting) {\n",
       "        this.waiting = true;\n",
       "        this.ws.send(JSON.stringify({type: \"draw\", figure_id: this.id}));\n",
       "    }\n",
       "}\n",
       "\n",
       "\n",
       "mpl.figure.prototype.handle_save = function(fig, msg) {\n",
       "    var format_dropdown = fig.format_dropdown;\n",
       "    var format = format_dropdown.options[format_dropdown.selectedIndex].value;\n",
       "    fig.ondownload(fig, format);\n",
       "}\n",
       "\n",
       "\n",
       "mpl.figure.prototype.handle_resize = function(fig, msg) {\n",
       "    var size = msg['size'];\n",
       "    if (size[0] != fig.canvas.width || size[1] != fig.canvas.height) {\n",
       "        fig._resize_canvas(size[0], size[1]);\n",
       "        fig.send_message(\"refresh\", {});\n",
       "    };\n",
       "}\n",
       "\n",
       "mpl.figure.prototype.handle_rubberband = function(fig, msg) {\n",
       "    var x0 = msg['x0'] / mpl.ratio;\n",
       "    var y0 = (fig.canvas.height - msg['y0']) / mpl.ratio;\n",
       "    var x1 = msg['x1'] / mpl.ratio;\n",
       "    var y1 = (fig.canvas.height - msg['y1']) / mpl.ratio;\n",
       "    x0 = Math.floor(x0) + 0.5;\n",
       "    y0 = Math.floor(y0) + 0.5;\n",
       "    x1 = Math.floor(x1) + 0.5;\n",
       "    y1 = Math.floor(y1) + 0.5;\n",
       "    var min_x = Math.min(x0, x1);\n",
       "    var min_y = Math.min(y0, y1);\n",
       "    var width = Math.abs(x1 - x0);\n",
       "    var height = Math.abs(y1 - y0);\n",
       "\n",
       "    fig.rubberband_context.clearRect(\n",
       "        0, 0, fig.canvas.width, fig.canvas.height);\n",
       "\n",
       "    fig.rubberband_context.strokeRect(min_x, min_y, width, height);\n",
       "}\n",
       "\n",
       "mpl.figure.prototype.handle_figure_label = function(fig, msg) {\n",
       "    // Updates the figure title.\n",
       "    fig.header.textContent = msg['label'];\n",
       "}\n",
       "\n",
       "mpl.figure.prototype.handle_cursor = function(fig, msg) {\n",
       "    var cursor = msg['cursor'];\n",
       "    switch(cursor)\n",
       "    {\n",
       "    case 0:\n",
       "        cursor = 'pointer';\n",
       "        break;\n",
       "    case 1:\n",
       "        cursor = 'default';\n",
       "        break;\n",
       "    case 2:\n",
       "        cursor = 'crosshair';\n",
       "        break;\n",
       "    case 3:\n",
       "        cursor = 'move';\n",
       "        break;\n",
       "    }\n",
       "    fig.rubberband_canvas.style.cursor = cursor;\n",
       "}\n",
       "\n",
       "mpl.figure.prototype.handle_message = function(fig, msg) {\n",
       "    fig.message.textContent = msg['message'];\n",
       "}\n",
       "\n",
       "mpl.figure.prototype.handle_draw = function(fig, msg) {\n",
       "    // Request the server to send over a new figure.\n",
       "    fig.send_draw_message();\n",
       "}\n",
       "\n",
       "mpl.figure.prototype.handle_image_mode = function(fig, msg) {\n",
       "    fig.image_mode = msg['mode'];\n",
       "}\n",
       "\n",
       "mpl.figure.prototype.updated_canvas_event = function() {\n",
       "    // Called whenever the canvas gets updated.\n",
       "    this.send_message(\"ack\", {});\n",
       "}\n",
       "\n",
       "// A function to construct a web socket function for onmessage handling.\n",
       "// Called in the figure constructor.\n",
       "mpl.figure.prototype._make_on_message_function = function(fig) {\n",
       "    return function socket_on_message(evt) {\n",
       "        if (evt.data instanceof Blob) {\n",
       "            /* FIXME: We get \"Resource interpreted as Image but\n",
       "             * transferred with MIME type text/plain:\" errors on\n",
       "             * Chrome.  But how to set the MIME type?  It doesn't seem\n",
       "             * to be part of the websocket stream */\n",
       "            evt.data.type = \"image/png\";\n",
       "\n",
       "            /* Free the memory for the previous frames */\n",
       "            if (fig.imageObj.src) {\n",
       "                (window.URL || window.webkitURL).revokeObjectURL(\n",
       "                    fig.imageObj.src);\n",
       "            }\n",
       "\n",
       "            fig.imageObj.src = (window.URL || window.webkitURL).createObjectURL(\n",
       "                evt.data);\n",
       "            fig.updated_canvas_event();\n",
       "            fig.waiting = false;\n",
       "            return;\n",
       "        }\n",
       "        else if (typeof evt.data === 'string' && evt.data.slice(0, 21) == \"data:image/png;base64\") {\n",
       "            fig.imageObj.src = evt.data;\n",
       "            fig.updated_canvas_event();\n",
       "            fig.waiting = false;\n",
       "            return;\n",
       "        }\n",
       "\n",
       "        var msg = JSON.parse(evt.data);\n",
       "        var msg_type = msg['type'];\n",
       "\n",
       "        // Call the  \"handle_{type}\" callback, which takes\n",
       "        // the figure and JSON message as its only arguments.\n",
       "        try {\n",
       "            var callback = fig[\"handle_\" + msg_type];\n",
       "        } catch (e) {\n",
       "            console.log(\"No handler for the '\" + msg_type + \"' message type: \", msg);\n",
       "            return;\n",
       "        }\n",
       "\n",
       "        if (callback) {\n",
       "            try {\n",
       "                // console.log(\"Handling '\" + msg_type + \"' message: \", msg);\n",
       "                callback(fig, msg);\n",
       "            } catch (e) {\n",
       "                console.log(\"Exception inside the 'handler_\" + msg_type + \"' callback:\", e, e.stack, msg);\n",
       "            }\n",
       "        }\n",
       "    };\n",
       "}\n",
       "\n",
       "// from http://stackoverflow.com/questions/1114465/getting-mouse-location-in-canvas\n",
       "mpl.findpos = function(e) {\n",
       "    //this section is from http://www.quirksmode.org/js/events_properties.html\n",
       "    var targ;\n",
       "    if (!e)\n",
       "        e = window.event;\n",
       "    if (e.target)\n",
       "        targ = e.target;\n",
       "    else if (e.srcElement)\n",
       "        targ = e.srcElement;\n",
       "    if (targ.nodeType == 3) // defeat Safari bug\n",
       "        targ = targ.parentNode;\n",
       "\n",
       "    // jQuery normalizes the pageX and pageY\n",
       "    // pageX,Y are the mouse positions relative to the document\n",
       "    // offset() returns the position of the element relative to the document\n",
       "    var x = e.pageX - $(targ).offset().left;\n",
       "    var y = e.pageY - $(targ).offset().top;\n",
       "\n",
       "    return {\"x\": x, \"y\": y};\n",
       "};\n",
       "\n",
       "/*\n",
       " * return a copy of an object with only non-object keys\n",
       " * we need this to avoid circular references\n",
       " * http://stackoverflow.com/a/24161582/3208463\n",
       " */\n",
       "function simpleKeys (original) {\n",
       "  return Object.keys(original).reduce(function (obj, key) {\n",
       "    if (typeof original[key] !== 'object')\n",
       "        obj[key] = original[key]\n",
       "    return obj;\n",
       "  }, {});\n",
       "}\n",
       "\n",
       "mpl.figure.prototype.mouse_event = function(event, name) {\n",
       "    var canvas_pos = mpl.findpos(event)\n",
       "\n",
       "    if (name === 'button_press')\n",
       "    {\n",
       "        this.canvas.focus();\n",
       "        this.canvas_div.focus();\n",
       "    }\n",
       "\n",
       "    var x = canvas_pos.x * mpl.ratio;\n",
       "    var y = canvas_pos.y * mpl.ratio;\n",
       "\n",
       "    this.send_message(name, {x: x, y: y, button: event.button,\n",
       "                             step: event.step,\n",
       "                             guiEvent: simpleKeys(event)});\n",
       "\n",
       "    /* This prevents the web browser from automatically changing to\n",
       "     * the text insertion cursor when the button is pressed.  We want\n",
       "     * to control all of the cursor setting manually through the\n",
       "     * 'cursor' event from matplotlib */\n",
       "    event.preventDefault();\n",
       "    return false;\n",
       "}\n",
       "\n",
       "mpl.figure.prototype._key_event_extra = function(event, name) {\n",
       "    // Handle any extra behaviour associated with a key event\n",
       "}\n",
       "\n",
       "mpl.figure.prototype.key_event = function(event, name) {\n",
       "\n",
       "    // Prevent repeat events\n",
       "    if (name == 'key_press')\n",
       "    {\n",
       "        if (event.which === this._key)\n",
       "            return;\n",
       "        else\n",
       "            this._key = event.which;\n",
       "    }\n",
       "    if (name == 'key_release')\n",
       "        this._key = null;\n",
       "\n",
       "    var value = '';\n",
       "    if (event.ctrlKey && event.which != 17)\n",
       "        value += \"ctrl+\";\n",
       "    if (event.altKey && event.which != 18)\n",
       "        value += \"alt+\";\n",
       "    if (event.shiftKey && event.which != 16)\n",
       "        value += \"shift+\";\n",
       "\n",
       "    value += 'k';\n",
       "    value += event.which.toString();\n",
       "\n",
       "    this._key_event_extra(event, name);\n",
       "\n",
       "    this.send_message(name, {key: value,\n",
       "                             guiEvent: simpleKeys(event)});\n",
       "    return false;\n",
       "}\n",
       "\n",
       "mpl.figure.prototype.toolbar_button_onclick = function(name) {\n",
       "    if (name == 'download') {\n",
       "        this.handle_save(this, null);\n",
       "    } else {\n",
       "        this.send_message(\"toolbar_button\", {name: name});\n",
       "    }\n",
       "};\n",
       "\n",
       "mpl.figure.prototype.toolbar_button_onmouseover = function(tooltip) {\n",
       "    this.message.textContent = tooltip;\n",
       "};\n",
       "mpl.toolbar_items = [[\"Home\", \"Reset original view\", \"fa fa-home icon-home\", \"home\"], [\"Back\", \"Back to  previous view\", \"fa fa-arrow-left icon-arrow-left\", \"back\"], [\"Forward\", \"Forward to next view\", \"fa fa-arrow-right icon-arrow-right\", \"forward\"], [\"\", \"\", \"\", \"\"], [\"Pan\", \"Pan axes with left mouse, zoom with right\", \"fa fa-arrows icon-move\", \"pan\"], [\"Zoom\", \"Zoom to rectangle\", \"fa fa-square-o icon-check-empty\", \"zoom\"], [\"\", \"\", \"\", \"\"], [\"Download\", \"Download plot\", \"fa fa-floppy-o icon-save\", \"download\"]];\n",
       "\n",
       "mpl.extensions = [\"eps\", \"jpeg\", \"pdf\", \"png\", \"ps\", \"raw\", \"svg\", \"tif\"];\n",
       "\n",
       "mpl.default_extension = \"png\";var comm_websocket_adapter = function(comm) {\n",
       "    // Create a \"websocket\"-like object which calls the given IPython comm\n",
       "    // object with the appropriate methods. Currently this is a non binary\n",
       "    // socket, so there is still some room for performance tuning.\n",
       "    var ws = {};\n",
       "\n",
       "    ws.close = function() {\n",
       "        comm.close()\n",
       "    };\n",
       "    ws.send = function(m) {\n",
       "        //console.log('sending', m);\n",
       "        comm.send(m);\n",
       "    };\n",
       "    // Register the callback with on_msg.\n",
       "    comm.on_msg(function(msg) {\n",
       "        //console.log('receiving', msg['content']['data'], msg);\n",
       "        // Pass the mpl event to the overriden (by mpl) onmessage function.\n",
       "        ws.onmessage(msg['content']['data'])\n",
       "    });\n",
       "    return ws;\n",
       "}\n",
       "\n",
       "mpl.mpl_figure_comm = function(comm, msg) {\n",
       "    // This is the function which gets called when the mpl process\n",
       "    // starts-up an IPython Comm through the \"matplotlib\" channel.\n",
       "\n",
       "    var id = msg.content.data.id;\n",
       "    // Get hold of the div created by the display call when the Comm\n",
       "    // socket was opened in Python.\n",
       "    var element = $(\"#\" + id);\n",
       "    var ws_proxy = comm_websocket_adapter(comm)\n",
       "\n",
       "    function ondownload(figure, format) {\n",
       "        window.open(figure.imageObj.src);\n",
       "    }\n",
       "\n",
       "    var fig = new mpl.figure(id, ws_proxy,\n",
       "                           ondownload,\n",
       "                           element.get(0));\n",
       "\n",
       "    // Call onopen now - mpl needs it, as it is assuming we've passed it a real\n",
       "    // web socket which is closed, not our websocket->open comm proxy.\n",
       "    ws_proxy.onopen();\n",
       "\n",
       "    fig.parent_element = element.get(0);\n",
       "    fig.cell_info = mpl.find_output_cell(\"<div id='\" + id + \"'></div>\");\n",
       "    if (!fig.cell_info) {\n",
       "        console.error(\"Failed to find cell for figure\", id, fig);\n",
       "        return;\n",
       "    }\n",
       "\n",
       "    var output_index = fig.cell_info[2]\n",
       "    var cell = fig.cell_info[0];\n",
       "\n",
       "};\n",
       "\n",
       "mpl.figure.prototype.handle_close = function(fig, msg) {\n",
       "    var width = fig.canvas.width/mpl.ratio\n",
       "    fig.root.unbind('remove')\n",
       "\n",
       "    // Update the output cell to use the data from the current canvas.\n",
       "    fig.push_to_output();\n",
       "    var dataURL = fig.canvas.toDataURL();\n",
       "    // Re-enable the keyboard manager in IPython - without this line, in FF,\n",
       "    // the notebook keyboard shortcuts fail.\n",
       "    IPython.keyboard_manager.enable()\n",
       "    $(fig.parent_element).html('<img src=\"' + dataURL + '\" width=\"' + width + '\">');\n",
       "    fig.close_ws(fig, msg);\n",
       "}\n",
       "\n",
       "mpl.figure.prototype.close_ws = function(fig, msg){\n",
       "    fig.send_message('closing', msg);\n",
       "    // fig.ws.close()\n",
       "}\n",
       "\n",
       "mpl.figure.prototype.push_to_output = function(remove_interactive) {\n",
       "    // Turn the data on the canvas into data in the output cell.\n",
       "    var width = this.canvas.width/mpl.ratio\n",
       "    var dataURL = this.canvas.toDataURL();\n",
       "    this.cell_info[1]['text/html'] = '<img src=\"' + dataURL + '\" width=\"' + width + '\">';\n",
       "}\n",
       "\n",
       "mpl.figure.prototype.updated_canvas_event = function() {\n",
       "    // Tell IPython that the notebook contents must change.\n",
       "    IPython.notebook.set_dirty(true);\n",
       "    this.send_message(\"ack\", {});\n",
       "    var fig = this;\n",
       "    // Wait a second, then push the new image to the DOM so\n",
       "    // that it is saved nicely (might be nice to debounce this).\n",
       "    setTimeout(function () { fig.push_to_output() }, 1000);\n",
       "}\n",
       "\n",
       "mpl.figure.prototype._init_toolbar = function() {\n",
       "    var fig = this;\n",
       "\n",
       "    var nav_element = $('<div/>')\n",
       "    nav_element.attr('style', 'width: 100%');\n",
       "    this.root.append(nav_element);\n",
       "\n",
       "    // Define a callback function for later on.\n",
       "    function toolbar_event(event) {\n",
       "        return fig.toolbar_button_onclick(event['data']);\n",
       "    }\n",
       "    function toolbar_mouse_event(event) {\n",
       "        return fig.toolbar_button_onmouseover(event['data']);\n",
       "    }\n",
       "\n",
       "    for(var toolbar_ind in mpl.toolbar_items){\n",
       "        var name = mpl.toolbar_items[toolbar_ind][0];\n",
       "        var tooltip = mpl.toolbar_items[toolbar_ind][1];\n",
       "        var image = mpl.toolbar_items[toolbar_ind][2];\n",
       "        var method_name = mpl.toolbar_items[toolbar_ind][3];\n",
       "\n",
       "        if (!name) { continue; };\n",
       "\n",
       "        var button = $('<button class=\"btn btn-default\" href=\"#\" title=\"' + name + '\"><i class=\"fa ' + image + ' fa-lg\"></i></button>');\n",
       "        button.click(method_name, toolbar_event);\n",
       "        button.mouseover(tooltip, toolbar_mouse_event);\n",
       "        nav_element.append(button);\n",
       "    }\n",
       "\n",
       "    // Add the status bar.\n",
       "    var status_bar = $('<span class=\"mpl-message\" style=\"text-align:right; float: right;\"/>');\n",
       "    nav_element.append(status_bar);\n",
       "    this.message = status_bar[0];\n",
       "\n",
       "    // Add the close button to the window.\n",
       "    var buttongrp = $('<div class=\"btn-group inline pull-right\"></div>');\n",
       "    var button = $('<button class=\"btn btn-mini btn-primary\" href=\"#\" title=\"Stop Interaction\"><i class=\"fa fa-power-off icon-remove icon-large\"></i></button>');\n",
       "    button.click(function (evt) { fig.handle_close(fig, {}); } );\n",
       "    button.mouseover('Stop Interaction', toolbar_mouse_event);\n",
       "    buttongrp.append(button);\n",
       "    var titlebar = this.root.find($('.ui-dialog-titlebar'));\n",
       "    titlebar.prepend(buttongrp);\n",
       "}\n",
       "\n",
       "mpl.figure.prototype._root_extra_style = function(el){\n",
       "    var fig = this\n",
       "    el.on(\"remove\", function(){\n",
       "\tfig.close_ws(fig, {});\n",
       "    });\n",
       "}\n",
       "\n",
       "mpl.figure.prototype._canvas_extra_style = function(el){\n",
       "    // this is important to make the div 'focusable\n",
       "    el.attr('tabindex', 0)\n",
       "    // reach out to IPython and tell the keyboard manager to turn it's self\n",
       "    // off when our div gets focus\n",
       "\n",
       "    // location in version 3\n",
       "    if (IPython.notebook.keyboard_manager) {\n",
       "        IPython.notebook.keyboard_manager.register_events(el);\n",
       "    }\n",
       "    else {\n",
       "        // location in version 2\n",
       "        IPython.keyboard_manager.register_events(el);\n",
       "    }\n",
       "\n",
       "}\n",
       "\n",
       "mpl.figure.prototype._key_event_extra = function(event, name) {\n",
       "    var manager = IPython.notebook.keyboard_manager;\n",
       "    if (!manager)\n",
       "        manager = IPython.keyboard_manager;\n",
       "\n",
       "    // Check for shift+enter\n",
       "    if (event.shiftKey && event.which == 13) {\n",
       "        this.canvas_div.blur();\n",
       "        event.shiftKey = false;\n",
       "        // Send a \"J\" for go to next cell\n",
       "        event.which = 74;\n",
       "        event.keyCode = 74;\n",
       "        manager.command_mode();\n",
       "        manager.handle_keydown(event);\n",
       "    }\n",
       "}\n",
       "\n",
       "mpl.figure.prototype.handle_save = function(fig, msg) {\n",
       "    fig.ondownload(fig, null);\n",
       "}\n",
       "\n",
       "\n",
       "mpl.find_output_cell = function(html_output) {\n",
       "    // Return the cell and output element which can be found *uniquely* in the notebook.\n",
       "    // Note - this is a bit hacky, but it is done because the \"notebook_saving.Notebook\"\n",
       "    // IPython event is triggered only after the cells have been serialised, which for\n",
       "    // our purposes (turning an active figure into a static one), is too late.\n",
       "    var cells = IPython.notebook.get_cells();\n",
       "    var ncells = cells.length;\n",
       "    for (var i=0; i<ncells; i++) {\n",
       "        var cell = cells[i];\n",
       "        if (cell.cell_type === 'code'){\n",
       "            for (var j=0; j<cell.output_area.outputs.length; j++) {\n",
       "                var data = cell.output_area.outputs[j];\n",
       "                if (data.data) {\n",
       "                    // IPython >= 3 moved mimebundle to data attribute of output\n",
       "                    data = data.data;\n",
       "                }\n",
       "                if (data['text/html'] == html_output) {\n",
       "                    return [cell, data, j];\n",
       "                }\n",
       "            }\n",
       "        }\n",
       "    }\n",
       "}\n",
       "\n",
       "// Register the function which deals with the matplotlib target/channel.\n",
       "// The kernel may be null if the page has been refreshed.\n",
       "if (IPython.notebook.kernel != null) {\n",
       "    IPython.notebook.kernel.comm_manager.register_target('matplotlib', mpl.mpl_figure_comm);\n",
       "}\n"
      ],
      "text/plain": [
       "<IPython.core.display.Javascript object>"
      ]
     },
     "metadata": {},
     "output_type": "display_data"
    },
    {
     "data": {
      "text/html": [
       "<img src=\"data:image/png;base64,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\" width=\"285\">"
      ],
      "text/plain": [
       "<IPython.core.display.HTML object>"
      ]
     },
     "metadata": {},
     "output_type": "display_data"
    }
   ],
   "source": [
    "%matplotlib notebook\n",
    "\n",
    "from Play import Play\n",
    "\n",
    "\n",
    "gameplay=Play(ConnectN(**game_setting), \n",
    "              player1=None, \n",
    "              player2=None)\n"
   ]
  },
  {
   "cell_type": "markdown",
   "metadata": {},
   "source": [
    "# Define our policy\n",
    "\n",
    "Please go ahead and define your own policy! See if you can train it under 1000 games and with only 1000 steps of exploration in each move."
   ]
  },
  {
   "cell_type": "code",
   "execution_count": 4,
   "metadata": {},
   "outputs": [],
   "source": [
    "import torch\n",
    "import torch.nn as nn\n",
    "import torch.nn.functional as F\n",
    "from math import *\n",
    "import numpy as np\n",
    "\n",
    "from ConnectN import ConnectN\n",
    "game_setting = {'size':(6,6), 'N':4}\n",
    "game = ConnectN(**game_setting)\n",
    "\n",
    "class Policy(nn.Module):\n",
    "\n",
    "    def __init__(self, game):\n",
    "        super(Policy, self).__init__()\n",
    "\n",
    "        # input = 6x6 board\n",
    "        # convert to 5x5x16\n",
    "        self.conv1 = nn.Conv2d(1, 16, kernel_size=2, stride=1, bias=False)\n",
    "        # 5x5x16 to 3x3x32\n",
    "        self.conv2 = nn.Conv2d(16, 32, kernel_size=3, stride=1, bias=False)\n",
    "\n",
    "        self.size=3*3*32\n",
    "        \n",
    "        # the part for actions\n",
    "        self.fc_action1 = nn.Linear(self.size, self.size//4)\n",
    "        self.fc_action2 = nn.Linear(self.size//4, 36)\n",
    "        \n",
    "        # the part for the value function\n",
    "        self.fc_value1 = nn.Linear(self.size, self.size//6)\n",
    "        self.fc_value2 = nn.Linear(self.size//6, 1)\n",
    "        self.tanh_value = nn.Tanh()\n",
    "        \n",
    "    def forward(self, x):\n",
    "\n",
    "        y = F.leaky_relu(self.conv1(x))\n",
    "        y = F.leaky_relu(self.conv2(y))\n",
    "        y = y.view(-1, self.size)\n",
    "        \n",
    "        # action head\n",
    "        a = self.fc_action2(F.leaky_relu(self.fc_action1(y)))\n",
    "        \n",
    "        avail = (torch.abs(x.squeeze())!=1).type(torch.FloatTensor)\n",
    "        avail = avail.view(-1, 36)\n",
    "        maxa = torch.max(a)\n",
    "        exp = avail*torch.exp(a-maxa)\n",
    "        prob = exp/torch.sum(exp)\n",
    "        \n",
    "        # value head\n",
    "        value = self.tanh_value(self.fc_value2(F.leaky_relu( self.fc_value1(y) )))\n",
    "        return prob.view(6,6), value\n",
    "\n",
    "policy = Policy(game)\n"
   ]
  },
  {
   "cell_type": "markdown",
   "metadata": {},
   "source": [
    "# Define a MCTS player for Play"
   ]
  },
  {
   "cell_type": "code",
   "execution_count": 5,
   "metadata": {},
   "outputs": [],
   "source": [
    "import MCTS\n",
    "\n",
    "from copy import copy\n",
    "\n",
    "def Policy_Player_MCTS(game):\n",
    "    mytree = MCTS.Node(copy(game))\n",
    "    for _ in range(1000):\n",
    "        mytree.explore(policy)\n",
    "       \n",
    "    mytreenext, (v, nn_v, p, nn_p) = mytree.next(temperature=0.1)\n",
    "    \n",
    "    return mytreenext.game.last_move\n",
    "\n",
    "import random\n",
    "\n",
    "def Random_Player(game):\n",
    "    return random.choice(game.available_moves())    \n"
   ]
  },
  {
   "cell_type": "markdown",
   "metadata": {},
   "source": [
    "# Play a game against a random policy"
   ]
  },
  {
   "cell_type": "code",
   "execution_count": 9,
   "metadata": {},
   "outputs": [
    {
     "data": {
      "application/javascript": [
       "/* Put everything inside the global mpl namespace */\n",
       "window.mpl = {};\n",
       "\n",
       "\n",
       "mpl.get_websocket_type = function() {\n",
       "    if (typeof(WebSocket) !== 'undefined') {\n",
       "        return WebSocket;\n",
       "    } else if (typeof(MozWebSocket) !== 'undefined') {\n",
       "        return MozWebSocket;\n",
       "    } else {\n",
       "        alert('Your browser does not have WebSocket support.' +\n",
       "              'Please try Chrome, Safari or Firefox ≥ 6. ' +\n",
       "              'Firefox 4 and 5 are also supported but you ' +\n",
       "              'have to enable WebSockets in about:config.');\n",
       "    };\n",
       "}\n",
       "\n",
       "mpl.figure = function(figure_id, websocket, ondownload, parent_element) {\n",
       "    this.id = figure_id;\n",
       "\n",
       "    this.ws = websocket;\n",
       "\n",
       "    this.supports_binary = (this.ws.binaryType != undefined);\n",
       "\n",
       "    if (!this.supports_binary) {\n",
       "        var warnings = document.getElementById(\"mpl-warnings\");\n",
       "        if (warnings) {\n",
       "            warnings.style.display = 'block';\n",
       "            warnings.textContent = (\n",
       "                \"This browser does not support binary websocket messages. \" +\n",
       "                    \"Performance may be slow.\");\n",
       "        }\n",
       "    }\n",
       "\n",
       "    this.imageObj = new Image();\n",
       "\n",
       "    this.context = undefined;\n",
       "    this.message = undefined;\n",
       "    this.canvas = undefined;\n",
       "    this.rubberband_canvas = undefined;\n",
       "    this.rubberband_context = undefined;\n",
       "    this.format_dropdown = undefined;\n",
       "\n",
       "    this.image_mode = 'full';\n",
       "\n",
       "    this.root = $('<div/>');\n",
       "    this._root_extra_style(this.root)\n",
       "    this.root.attr('style', 'display: inline-block');\n",
       "\n",
       "    $(parent_element).append(this.root);\n",
       "\n",
       "    this._init_header(this);\n",
       "    this._init_canvas(this);\n",
       "    this._init_toolbar(this);\n",
       "\n",
       "    var fig = this;\n",
       "\n",
       "    this.waiting = false;\n",
       "\n",
       "    this.ws.onopen =  function () {\n",
       "            fig.send_message(\"supports_binary\", {value: fig.supports_binary});\n",
       "            fig.send_message(\"send_image_mode\", {});\n",
       "            if (mpl.ratio != 1) {\n",
       "                fig.send_message(\"set_dpi_ratio\", {'dpi_ratio': mpl.ratio});\n",
       "            }\n",
       "            fig.send_message(\"refresh\", {});\n",
       "        }\n",
       "\n",
       "    this.imageObj.onload = function() {\n",
       "            if (fig.image_mode == 'full') {\n",
       "                // Full images could contain transparency (where diff images\n",
       "                // almost always do), so we need to clear the canvas so that\n",
       "                // there is no ghosting.\n",
       "                fig.context.clearRect(0, 0, fig.canvas.width, fig.canvas.height);\n",
       "            }\n",
       "            fig.context.drawImage(fig.imageObj, 0, 0);\n",
       "        };\n",
       "\n",
       "    this.imageObj.onunload = function() {\n",
       "        fig.ws.close();\n",
       "    }\n",
       "\n",
       "    this.ws.onmessage = this._make_on_message_function(this);\n",
       "\n",
       "    this.ondownload = ondownload;\n",
       "}\n",
       "\n",
       "mpl.figure.prototype._init_header = function() {\n",
       "    var titlebar = $(\n",
       "        '<div class=\"ui-dialog-titlebar ui-widget-header ui-corner-all ' +\n",
       "        'ui-helper-clearfix\"/>');\n",
       "    var titletext = $(\n",
       "        '<div class=\"ui-dialog-title\" style=\"width: 100%; ' +\n",
       "        'text-align: center; padding: 3px;\"/>');\n",
       "    titlebar.append(titletext)\n",
       "    this.root.append(titlebar);\n",
       "    this.header = titletext[0];\n",
       "}\n",
       "\n",
       "\n",
       "\n",
       "mpl.figure.prototype._canvas_extra_style = function(canvas_div) {\n",
       "\n",
       "}\n",
       "\n",
       "\n",
       "mpl.figure.prototype._root_extra_style = function(canvas_div) {\n",
       "\n",
       "}\n",
       "\n",
       "mpl.figure.prototype._init_canvas = function() {\n",
       "    var fig = this;\n",
       "\n",
       "    var canvas_div = $('<div/>');\n",
       "\n",
       "    canvas_div.attr('style', 'position: relative; clear: both; outline: 0');\n",
       "\n",
       "    function canvas_keyboard_event(event) {\n",
       "        return fig.key_event(event, event['data']);\n",
       "    }\n",
       "\n",
       "    canvas_div.keydown('key_press', canvas_keyboard_event);\n",
       "    canvas_div.keyup('key_release', canvas_keyboard_event);\n",
       "    this.canvas_div = canvas_div\n",
       "    this._canvas_extra_style(canvas_div)\n",
       "    this.root.append(canvas_div);\n",
       "\n",
       "    var canvas = $('<canvas/>');\n",
       "    canvas.addClass('mpl-canvas');\n",
       "    canvas.attr('style', \"left: 0; top: 0; z-index: 0; outline: 0\")\n",
       "\n",
       "    this.canvas = canvas[0];\n",
       "    this.context = canvas[0].getContext(\"2d\");\n",
       "\n",
       "    var backingStore = this.context.backingStorePixelRatio ||\n",
       "\tthis.context.webkitBackingStorePixelRatio ||\n",
       "\tthis.context.mozBackingStorePixelRatio ||\n",
       "\tthis.context.msBackingStorePixelRatio ||\n",
       "\tthis.context.oBackingStorePixelRatio ||\n",
       "\tthis.context.backingStorePixelRatio || 1;\n",
       "\n",
       "    mpl.ratio = (window.devicePixelRatio || 1) / backingStore;\n",
       "\n",
       "    var rubberband = $('<canvas/>');\n",
       "    rubberband.attr('style', \"position: absolute; left: 0; top: 0; z-index: 1;\")\n",
       "\n",
       "    var pass_mouse_events = true;\n",
       "\n",
       "    canvas_div.resizable({\n",
       "        start: function(event, ui) {\n",
       "            pass_mouse_events = false;\n",
       "        },\n",
       "        resize: function(event, ui) {\n",
       "            fig.request_resize(ui.size.width, ui.size.height);\n",
       "        },\n",
       "        stop: function(event, ui) {\n",
       "            pass_mouse_events = true;\n",
       "            fig.request_resize(ui.size.width, ui.size.height);\n",
       "        },\n",
       "    });\n",
       "\n",
       "    function mouse_event_fn(event) {\n",
       "        if (pass_mouse_events)\n",
       "            return fig.mouse_event(event, event['data']);\n",
       "    }\n",
       "\n",
       "    rubberband.mousedown('button_press', mouse_event_fn);\n",
       "    rubberband.mouseup('button_release', mouse_event_fn);\n",
       "    // Throttle sequential mouse events to 1 every 20ms.\n",
       "    rubberband.mousemove('motion_notify', mouse_event_fn);\n",
       "\n",
       "    rubberband.mouseenter('figure_enter', mouse_event_fn);\n",
       "    rubberband.mouseleave('figure_leave', mouse_event_fn);\n",
       "\n",
       "    canvas_div.on(\"wheel\", function (event) {\n",
       "        event = event.originalEvent;\n",
       "        event['data'] = 'scroll'\n",
       "        if (event.deltaY < 0) {\n",
       "            event.step = 1;\n",
       "        } else {\n",
       "            event.step = -1;\n",
       "        }\n",
       "        mouse_event_fn(event);\n",
       "    });\n",
       "\n",
       "    canvas_div.append(canvas);\n",
       "    canvas_div.append(rubberband);\n",
       "\n",
       "    this.rubberband = rubberband;\n",
       "    this.rubberband_canvas = rubberband[0];\n",
       "    this.rubberband_context = rubberband[0].getContext(\"2d\");\n",
       "    this.rubberband_context.strokeStyle = \"#000000\";\n",
       "\n",
       "    this._resize_canvas = function(width, height) {\n",
       "        // Keep the size of the canvas, canvas container, and rubber band\n",
       "        // canvas in synch.\n",
       "        canvas_div.css('width', width)\n",
       "        canvas_div.css('height', height)\n",
       "\n",
       "        canvas.attr('width', width * mpl.ratio);\n",
       "        canvas.attr('height', height * mpl.ratio);\n",
       "        canvas.attr('style', 'width: ' + width + 'px; height: ' + height + 'px;');\n",
       "\n",
       "        rubberband.attr('width', width);\n",
       "        rubberband.attr('height', height);\n",
       "    }\n",
       "\n",
       "    // Set the figure to an initial 600x600px, this will subsequently be updated\n",
       "    // upon first draw.\n",
       "    this._resize_canvas(600, 600);\n",
       "\n",
       "    // Disable right mouse context menu.\n",
       "    $(this.rubberband_canvas).bind(\"contextmenu\",function(e){\n",
       "        return false;\n",
       "    });\n",
       "\n",
       "    function set_focus () {\n",
       "        canvas.focus();\n",
       "        canvas_div.focus();\n",
       "    }\n",
       "\n",
       "    window.setTimeout(set_focus, 100);\n",
       "}\n",
       "\n",
       "mpl.figure.prototype._init_toolbar = function() {\n",
       "    var fig = this;\n",
       "\n",
       "    var nav_element = $('<div/>')\n",
       "    nav_element.attr('style', 'width: 100%');\n",
       "    this.root.append(nav_element);\n",
       "\n",
       "    // Define a callback function for later on.\n",
       "    function toolbar_event(event) {\n",
       "        return fig.toolbar_button_onclick(event['data']);\n",
       "    }\n",
       "    function toolbar_mouse_event(event) {\n",
       "        return fig.toolbar_button_onmouseover(event['data']);\n",
       "    }\n",
       "\n",
       "    for(var toolbar_ind in mpl.toolbar_items) {\n",
       "        var name = mpl.toolbar_items[toolbar_ind][0];\n",
       "        var tooltip = mpl.toolbar_items[toolbar_ind][1];\n",
       "        var image = mpl.toolbar_items[toolbar_ind][2];\n",
       "        var method_name = mpl.toolbar_items[toolbar_ind][3];\n",
       "\n",
       "        if (!name) {\n",
       "            // put a spacer in here.\n",
       "            continue;\n",
       "        }\n",
       "        var button = $('<button/>');\n",
       "        button.addClass('ui-button ui-widget ui-state-default ui-corner-all ' +\n",
       "                        'ui-button-icon-only');\n",
       "        button.attr('role', 'button');\n",
       "        button.attr('aria-disabled', 'false');\n",
       "        button.click(method_name, toolbar_event);\n",
       "        button.mouseover(tooltip, toolbar_mouse_event);\n",
       "\n",
       "        var icon_img = $('<span/>');\n",
       "        icon_img.addClass('ui-button-icon-primary ui-icon');\n",
       "        icon_img.addClass(image);\n",
       "        icon_img.addClass('ui-corner-all');\n",
       "\n",
       "        var tooltip_span = $('<span/>');\n",
       "        tooltip_span.addClass('ui-button-text');\n",
       "        tooltip_span.html(tooltip);\n",
       "\n",
       "        button.append(icon_img);\n",
       "        button.append(tooltip_span);\n",
       "\n",
       "        nav_element.append(button);\n",
       "    }\n",
       "\n",
       "    var fmt_picker_span = $('<span/>');\n",
       "\n",
       "    var fmt_picker = $('<select/>');\n",
       "    fmt_picker.addClass('mpl-toolbar-option ui-widget ui-widget-content');\n",
       "    fmt_picker_span.append(fmt_picker);\n",
       "    nav_element.append(fmt_picker_span);\n",
       "    this.format_dropdown = fmt_picker[0];\n",
       "\n",
       "    for (var ind in mpl.extensions) {\n",
       "        var fmt = mpl.extensions[ind];\n",
       "        var option = $(\n",
       "            '<option/>', {selected: fmt === mpl.default_extension}).html(fmt);\n",
       "        fmt_picker.append(option)\n",
       "    }\n",
       "\n",
       "    // Add hover states to the ui-buttons\n",
       "    $( \".ui-button\" ).hover(\n",
       "        function() { $(this).addClass(\"ui-state-hover\");},\n",
       "        function() { $(this).removeClass(\"ui-state-hover\");}\n",
       "    );\n",
       "\n",
       "    var status_bar = $('<span class=\"mpl-message\"/>');\n",
       "    nav_element.append(status_bar);\n",
       "    this.message = status_bar[0];\n",
       "}\n",
       "\n",
       "mpl.figure.prototype.request_resize = function(x_pixels, y_pixels) {\n",
       "    // Request matplotlib to resize the figure. Matplotlib will then trigger a resize in the client,\n",
       "    // which will in turn request a refresh of the image.\n",
       "    this.send_message('resize', {'width': x_pixels, 'height': y_pixels});\n",
       "}\n",
       "\n",
       "mpl.figure.prototype.send_message = function(type, properties) {\n",
       "    properties['type'] = type;\n",
       "    properties['figure_id'] = this.id;\n",
       "    this.ws.send(JSON.stringify(properties));\n",
       "}\n",
       "\n",
       "mpl.figure.prototype.send_draw_message = function() {\n",
       "    if (!this.waiting) {\n",
       "        this.waiting = true;\n",
       "        this.ws.send(JSON.stringify({type: \"draw\", figure_id: this.id}));\n",
       "    }\n",
       "}\n",
       "\n",
       "\n",
       "mpl.figure.prototype.handle_save = function(fig, msg) {\n",
       "    var format_dropdown = fig.format_dropdown;\n",
       "    var format = format_dropdown.options[format_dropdown.selectedIndex].value;\n",
       "    fig.ondownload(fig, format);\n",
       "}\n",
       "\n",
       "\n",
       "mpl.figure.prototype.handle_resize = function(fig, msg) {\n",
       "    var size = msg['size'];\n",
       "    if (size[0] != fig.canvas.width || size[1] != fig.canvas.height) {\n",
       "        fig._resize_canvas(size[0], size[1]);\n",
       "        fig.send_message(\"refresh\", {});\n",
       "    };\n",
       "}\n",
       "\n",
       "mpl.figure.prototype.handle_rubberband = function(fig, msg) {\n",
       "    var x0 = msg['x0'] / mpl.ratio;\n",
       "    var y0 = (fig.canvas.height - msg['y0']) / mpl.ratio;\n",
       "    var x1 = msg['x1'] / mpl.ratio;\n",
       "    var y1 = (fig.canvas.height - msg['y1']) / mpl.ratio;\n",
       "    x0 = Math.floor(x0) + 0.5;\n",
       "    y0 = Math.floor(y0) + 0.5;\n",
       "    x1 = Math.floor(x1) + 0.5;\n",
       "    y1 = Math.floor(y1) + 0.5;\n",
       "    var min_x = Math.min(x0, x1);\n",
       "    var min_y = Math.min(y0, y1);\n",
       "    var width = Math.abs(x1 - x0);\n",
       "    var height = Math.abs(y1 - y0);\n",
       "\n",
       "    fig.rubberband_context.clearRect(\n",
       "        0, 0, fig.canvas.width, fig.canvas.height);\n",
       "\n",
       "    fig.rubberband_context.strokeRect(min_x, min_y, width, height);\n",
       "}\n",
       "\n",
       "mpl.figure.prototype.handle_figure_label = function(fig, msg) {\n",
       "    // Updates the figure title.\n",
       "    fig.header.textContent = msg['label'];\n",
       "}\n",
       "\n",
       "mpl.figure.prototype.handle_cursor = function(fig, msg) {\n",
       "    var cursor = msg['cursor'];\n",
       "    switch(cursor)\n",
       "    {\n",
       "    case 0:\n",
       "        cursor = 'pointer';\n",
       "        break;\n",
       "    case 1:\n",
       "        cursor = 'default';\n",
       "        break;\n",
       "    case 2:\n",
       "        cursor = 'crosshair';\n",
       "        break;\n",
       "    case 3:\n",
       "        cursor = 'move';\n",
       "        break;\n",
       "    }\n",
       "    fig.rubberband_canvas.style.cursor = cursor;\n",
       "}\n",
       "\n",
       "mpl.figure.prototype.handle_message = function(fig, msg) {\n",
       "    fig.message.textContent = msg['message'];\n",
       "}\n",
       "\n",
       "mpl.figure.prototype.handle_draw = function(fig, msg) {\n",
       "    // Request the server to send over a new figure.\n",
       "    fig.send_draw_message();\n",
       "}\n",
       "\n",
       "mpl.figure.prototype.handle_image_mode = function(fig, msg) {\n",
       "    fig.image_mode = msg['mode'];\n",
       "}\n",
       "\n",
       "mpl.figure.prototype.updated_canvas_event = function() {\n",
       "    // Called whenever the canvas gets updated.\n",
       "    this.send_message(\"ack\", {});\n",
       "}\n",
       "\n",
       "// A function to construct a web socket function for onmessage handling.\n",
       "// Called in the figure constructor.\n",
       "mpl.figure.prototype._make_on_message_function = function(fig) {\n",
       "    return function socket_on_message(evt) {\n",
       "        if (evt.data instanceof Blob) {\n",
       "            /* FIXME: We get \"Resource interpreted as Image but\n",
       "             * transferred with MIME type text/plain:\" errors on\n",
       "             * Chrome.  But how to set the MIME type?  It doesn't seem\n",
       "             * to be part of the websocket stream */\n",
       "            evt.data.type = \"image/png\";\n",
       "\n",
       "            /* Free the memory for the previous frames */\n",
       "            if (fig.imageObj.src) {\n",
       "                (window.URL || window.webkitURL).revokeObjectURL(\n",
       "                    fig.imageObj.src);\n",
       "            }\n",
       "\n",
       "            fig.imageObj.src = (window.URL || window.webkitURL).createObjectURL(\n",
       "                evt.data);\n",
       "            fig.updated_canvas_event();\n",
       "            fig.waiting = false;\n",
       "            return;\n",
       "        }\n",
       "        else if (typeof evt.data === 'string' && evt.data.slice(0, 21) == \"data:image/png;base64\") {\n",
       "            fig.imageObj.src = evt.data;\n",
       "            fig.updated_canvas_event();\n",
       "            fig.waiting = false;\n",
       "            return;\n",
       "        }\n",
       "\n",
       "        var msg = JSON.parse(evt.data);\n",
       "        var msg_type = msg['type'];\n",
       "\n",
       "        // Call the  \"handle_{type}\" callback, which takes\n",
       "        // the figure and JSON message as its only arguments.\n",
       "        try {\n",
       "            var callback = fig[\"handle_\" + msg_type];\n",
       "        } catch (e) {\n",
       "            console.log(\"No handler for the '\" + msg_type + \"' message type: \", msg);\n",
       "            return;\n",
       "        }\n",
       "\n",
       "        if (callback) {\n",
       "            try {\n",
       "                // console.log(\"Handling '\" + msg_type + \"' message: \", msg);\n",
       "                callback(fig, msg);\n",
       "            } catch (e) {\n",
       "                console.log(\"Exception inside the 'handler_\" + msg_type + \"' callback:\", e, e.stack, msg);\n",
       "            }\n",
       "        }\n",
       "    };\n",
       "}\n",
       "\n",
       "// from http://stackoverflow.com/questions/1114465/getting-mouse-location-in-canvas\n",
       "mpl.findpos = function(e) {\n",
       "    //this section is from http://www.quirksmode.org/js/events_properties.html\n",
       "    var targ;\n",
       "    if (!e)\n",
       "        e = window.event;\n",
       "    if (e.target)\n",
       "        targ = e.target;\n",
       "    else if (e.srcElement)\n",
       "        targ = e.srcElement;\n",
       "    if (targ.nodeType == 3) // defeat Safari bug\n",
       "        targ = targ.parentNode;\n",
       "\n",
       "    // jQuery normalizes the pageX and pageY\n",
       "    // pageX,Y are the mouse positions relative to the document\n",
       "    // offset() returns the position of the element relative to the document\n",
       "    var x = e.pageX - $(targ).offset().left;\n",
       "    var y = e.pageY - $(targ).offset().top;\n",
       "\n",
       "    return {\"x\": x, \"y\": y};\n",
       "};\n",
       "\n",
       "/*\n",
       " * return a copy of an object with only non-object keys\n",
       " * we need this to avoid circular references\n",
       " * http://stackoverflow.com/a/24161582/3208463\n",
       " */\n",
       "function simpleKeys (original) {\n",
       "  return Object.keys(original).reduce(function (obj, key) {\n",
       "    if (typeof original[key] !== 'object')\n",
       "        obj[key] = original[key]\n",
       "    return obj;\n",
       "  }, {});\n",
       "}\n",
       "\n",
       "mpl.figure.prototype.mouse_event = function(event, name) {\n",
       "    var canvas_pos = mpl.findpos(event)\n",
       "\n",
       "    if (name === 'button_press')\n",
       "    {\n",
       "        this.canvas.focus();\n",
       "        this.canvas_div.focus();\n",
       "    }\n",
       "\n",
       "    var x = canvas_pos.x * mpl.ratio;\n",
       "    var y = canvas_pos.y * mpl.ratio;\n",
       "\n",
       "    this.send_message(name, {x: x, y: y, button: event.button,\n",
       "                             step: event.step,\n",
       "                             guiEvent: simpleKeys(event)});\n",
       "\n",
       "    /* This prevents the web browser from automatically changing to\n",
       "     * the text insertion cursor when the button is pressed.  We want\n",
       "     * to control all of the cursor setting manually through the\n",
       "     * 'cursor' event from matplotlib */\n",
       "    event.preventDefault();\n",
       "    return false;\n",
       "}\n",
       "\n",
       "mpl.figure.prototype._key_event_extra = function(event, name) {\n",
       "    // Handle any extra behaviour associated with a key event\n",
       "}\n",
       "\n",
       "mpl.figure.prototype.key_event = function(event, name) {\n",
       "\n",
       "    // Prevent repeat events\n",
       "    if (name == 'key_press')\n",
       "    {\n",
       "        if (event.which === this._key)\n",
       "            return;\n",
       "        else\n",
       "            this._key = event.which;\n",
       "    }\n",
       "    if (name == 'key_release')\n",
       "        this._key = null;\n",
       "\n",
       "    var value = '';\n",
       "    if (event.ctrlKey && event.which != 17)\n",
       "        value += \"ctrl+\";\n",
       "    if (event.altKey && event.which != 18)\n",
       "        value += \"alt+\";\n",
       "    if (event.shiftKey && event.which != 16)\n",
       "        value += \"shift+\";\n",
       "\n",
       "    value += 'k';\n",
       "    value += event.which.toString();\n",
       "\n",
       "    this._key_event_extra(event, name);\n",
       "\n",
       "    this.send_message(name, {key: value,\n",
       "                             guiEvent: simpleKeys(event)});\n",
       "    return false;\n",
       "}\n",
       "\n",
       "mpl.figure.prototype.toolbar_button_onclick = function(name) {\n",
       "    if (name == 'download') {\n",
       "        this.handle_save(this, null);\n",
       "    } else {\n",
       "        this.send_message(\"toolbar_button\", {name: name});\n",
       "    }\n",
       "};\n",
       "\n",
       "mpl.figure.prototype.toolbar_button_onmouseover = function(tooltip) {\n",
       "    this.message.textContent = tooltip;\n",
       "};\n",
       "mpl.toolbar_items = [[\"Home\", \"Reset original view\", \"fa fa-home icon-home\", \"home\"], [\"Back\", \"Back to  previous view\", \"fa fa-arrow-left icon-arrow-left\", \"back\"], [\"Forward\", \"Forward to next view\", \"fa fa-arrow-right icon-arrow-right\", \"forward\"], [\"\", \"\", \"\", \"\"], [\"Pan\", \"Pan axes with left mouse, zoom with right\", \"fa fa-arrows icon-move\", \"pan\"], [\"Zoom\", \"Zoom to rectangle\", \"fa fa-square-o icon-check-empty\", \"zoom\"], [\"\", \"\", \"\", \"\"], [\"Download\", \"Download plot\", \"fa fa-floppy-o icon-save\", \"download\"]];\n",
       "\n",
       "mpl.extensions = [\"eps\", \"jpeg\", \"pdf\", \"png\", \"ps\", \"raw\", \"svg\", \"tif\"];\n",
       "\n",
       "mpl.default_extension = \"png\";var comm_websocket_adapter = function(comm) {\n",
       "    // Create a \"websocket\"-like object which calls the given IPython comm\n",
       "    // object with the appropriate methods. Currently this is a non binary\n",
       "    // socket, so there is still some room for performance tuning.\n",
       "    var ws = {};\n",
       "\n",
       "    ws.close = function() {\n",
       "        comm.close()\n",
       "    };\n",
       "    ws.send = function(m) {\n",
       "        //console.log('sending', m);\n",
       "        comm.send(m);\n",
       "    };\n",
       "    // Register the callback with on_msg.\n",
       "    comm.on_msg(function(msg) {\n",
       "        //console.log('receiving', msg['content']['data'], msg);\n",
       "        // Pass the mpl event to the overriden (by mpl) onmessage function.\n",
       "        ws.onmessage(msg['content']['data'])\n",
       "    });\n",
       "    return ws;\n",
       "}\n",
       "\n",
       "mpl.mpl_figure_comm = function(comm, msg) {\n",
       "    // This is the function which gets called when the mpl process\n",
       "    // starts-up an IPython Comm through the \"matplotlib\" channel.\n",
       "\n",
       "    var id = msg.content.data.id;\n",
       "    // Get hold of the div created by the display call when the Comm\n",
       "    // socket was opened in Python.\n",
       "    var element = $(\"#\" + id);\n",
       "    var ws_proxy = comm_websocket_adapter(comm)\n",
       "\n",
       "    function ondownload(figure, format) {\n",
       "        window.open(figure.imageObj.src);\n",
       "    }\n",
       "\n",
       "    var fig = new mpl.figure(id, ws_proxy,\n",
       "                           ondownload,\n",
       "                           element.get(0));\n",
       "\n",
       "    // Call onopen now - mpl needs it, as it is assuming we've passed it a real\n",
       "    // web socket which is closed, not our websocket->open comm proxy.\n",
       "    ws_proxy.onopen();\n",
       "\n",
       "    fig.parent_element = element.get(0);\n",
       "    fig.cell_info = mpl.find_output_cell(\"<div id='\" + id + \"'></div>\");\n",
       "    if (!fig.cell_info) {\n",
       "        console.error(\"Failed to find cell for figure\", id, fig);\n",
       "        return;\n",
       "    }\n",
       "\n",
       "    var output_index = fig.cell_info[2]\n",
       "    var cell = fig.cell_info[0];\n",
       "\n",
       "};\n",
       "\n",
       "mpl.figure.prototype.handle_close = function(fig, msg) {\n",
       "    var width = fig.canvas.width/mpl.ratio\n",
       "    fig.root.unbind('remove')\n",
       "\n",
       "    // Update the output cell to use the data from the current canvas.\n",
       "    fig.push_to_output();\n",
       "    var dataURL = fig.canvas.toDataURL();\n",
       "    // Re-enable the keyboard manager in IPython - without this line, in FF,\n",
       "    // the notebook keyboard shortcuts fail.\n",
       "    IPython.keyboard_manager.enable()\n",
       "    $(fig.parent_element).html('<img src=\"' + dataURL + '\" width=\"' + width + '\">');\n",
       "    fig.close_ws(fig, msg);\n",
       "}\n",
       "\n",
       "mpl.figure.prototype.close_ws = function(fig, msg){\n",
       "    fig.send_message('closing', msg);\n",
       "    // fig.ws.close()\n",
       "}\n",
       "\n",
       "mpl.figure.prototype.push_to_output = function(remove_interactive) {\n",
       "    // Turn the data on the canvas into data in the output cell.\n",
       "    var width = this.canvas.width/mpl.ratio\n",
       "    var dataURL = this.canvas.toDataURL();\n",
       "    this.cell_info[1]['text/html'] = '<img src=\"' + dataURL + '\" width=\"' + width + '\">';\n",
       "}\n",
       "\n",
       "mpl.figure.prototype.updated_canvas_event = function() {\n",
       "    // Tell IPython that the notebook contents must change.\n",
       "    IPython.notebook.set_dirty(true);\n",
       "    this.send_message(\"ack\", {});\n",
       "    var fig = this;\n",
       "    // Wait a second, then push the new image to the DOM so\n",
       "    // that it is saved nicely (might be nice to debounce this).\n",
       "    setTimeout(function () { fig.push_to_output() }, 1000);\n",
       "}\n",
       "\n",
       "mpl.figure.prototype._init_toolbar = function() {\n",
       "    var fig = this;\n",
       "\n",
       "    var nav_element = $('<div/>')\n",
       "    nav_element.attr('style', 'width: 100%');\n",
       "    this.root.append(nav_element);\n",
       "\n",
       "    // Define a callback function for later on.\n",
       "    function toolbar_event(event) {\n",
       "        return fig.toolbar_button_onclick(event['data']);\n",
       "    }\n",
       "    function toolbar_mouse_event(event) {\n",
       "        return fig.toolbar_button_onmouseover(event['data']);\n",
       "    }\n",
       "\n",
       "    for(var toolbar_ind in mpl.toolbar_items){\n",
       "        var name = mpl.toolbar_items[toolbar_ind][0];\n",
       "        var tooltip = mpl.toolbar_items[toolbar_ind][1];\n",
       "        var image = mpl.toolbar_items[toolbar_ind][2];\n",
       "        var method_name = mpl.toolbar_items[toolbar_ind][3];\n",
       "\n",
       "        if (!name) { continue; };\n",
       "\n",
       "        var button = $('<button class=\"btn btn-default\" href=\"#\" title=\"' + name + '\"><i class=\"fa ' + image + ' fa-lg\"></i></button>');\n",
       "        button.click(method_name, toolbar_event);\n",
       "        button.mouseover(tooltip, toolbar_mouse_event);\n",
       "        nav_element.append(button);\n",
       "    }\n",
       "\n",
       "    // Add the status bar.\n",
       "    var status_bar = $('<span class=\"mpl-message\" style=\"text-align:right; float: right;\"/>');\n",
       "    nav_element.append(status_bar);\n",
       "    this.message = status_bar[0];\n",
       "\n",
       "    // Add the close button to the window.\n",
       "    var buttongrp = $('<div class=\"btn-group inline pull-right\"></div>');\n",
       "    var button = $('<button class=\"btn btn-mini btn-primary\" href=\"#\" title=\"Stop Interaction\"><i class=\"fa fa-power-off icon-remove icon-large\"></i></button>');\n",
       "    button.click(function (evt) { fig.handle_close(fig, {}); } );\n",
       "    button.mouseover('Stop Interaction', toolbar_mouse_event);\n",
       "    buttongrp.append(button);\n",
       "    var titlebar = this.root.find($('.ui-dialog-titlebar'));\n",
       "    titlebar.prepend(buttongrp);\n",
       "}\n",
       "\n",
       "mpl.figure.prototype._root_extra_style = function(el){\n",
       "    var fig = this\n",
       "    el.on(\"remove\", function(){\n",
       "\tfig.close_ws(fig, {});\n",
       "    });\n",
       "}\n",
       "\n",
       "mpl.figure.prototype._canvas_extra_style = function(el){\n",
       "    // this is important to make the div 'focusable\n",
       "    el.attr('tabindex', 0)\n",
       "    // reach out to IPython and tell the keyboard manager to turn it's self\n",
       "    // off when our div gets focus\n",
       "\n",
       "    // location in version 3\n",
       "    if (IPython.notebook.keyboard_manager) {\n",
       "        IPython.notebook.keyboard_manager.register_events(el);\n",
       "    }\n",
       "    else {\n",
       "        // location in version 2\n",
       "        IPython.keyboard_manager.register_events(el);\n",
       "    }\n",
       "\n",
       "}\n",
       "\n",
       "mpl.figure.prototype._key_event_extra = function(event, name) {\n",
       "    var manager = IPython.notebook.keyboard_manager;\n",
       "    if (!manager)\n",
       "        manager = IPython.keyboard_manager;\n",
       "\n",
       "    // Check for shift+enter\n",
       "    if (event.shiftKey && event.which == 13) {\n",
       "        this.canvas_div.blur();\n",
       "        event.shiftKey = false;\n",
       "        // Send a \"J\" for go to next cell\n",
       "        event.which = 74;\n",
       "        event.keyCode = 74;\n",
       "        manager.command_mode();\n",
       "        manager.handle_keydown(event);\n",
       "    }\n",
       "}\n",
       "\n",
       "mpl.figure.prototype.handle_save = function(fig, msg) {\n",
       "    fig.ondownload(fig, null);\n",
       "}\n",
       "\n",
       "\n",
       "mpl.find_output_cell = function(html_output) {\n",
       "    // Return the cell and output element which can be found *uniquely* in the notebook.\n",
       "    // Note - this is a bit hacky, but it is done because the \"notebook_saving.Notebook\"\n",
       "    // IPython event is triggered only after the cells have been serialised, which for\n",
       "    // our purposes (turning an active figure into a static one), is too late.\n",
       "    var cells = IPython.notebook.get_cells();\n",
       "    var ncells = cells.length;\n",
       "    for (var i=0; i<ncells; i++) {\n",
       "        var cell = cells[i];\n",
       "        if (cell.cell_type === 'code'){\n",
       "            for (var j=0; j<cell.output_area.outputs.length; j++) {\n",
       "                var data = cell.output_area.outputs[j];\n",
       "                if (data.data) {\n",
       "                    // IPython >= 3 moved mimebundle to data attribute of output\n",
       "                    data = data.data;\n",
       "                }\n",
       "                if (data['text/html'] == html_output) {\n",
       "                    return [cell, data, j];\n",
       "                }\n",
       "            }\n",
       "        }\n",
       "    }\n",
       "}\n",
       "\n",
       "// Register the function which deals with the matplotlib target/channel.\n",
       "// The kernel may be null if the page has been refreshed.\n",
       "if (IPython.notebook.kernel != null) {\n",
       "    IPython.notebook.kernel.comm_manager.register_target('matplotlib', mpl.mpl_figure_comm);\n",
       "}\n"
      ],
      "text/plain": [
       "<IPython.core.display.Javascript object>"
      ]
     },
     "metadata": {},
     "output_type": "display_data"
    },
    {
     "data": {
      "text/html": [
       "<img src=\"data:image/png;base64,iVBORw0KGgoAAAANSUhEUgAAAR0AAAEdCAYAAAAxarN7AAAgAElEQVR4nO2df2xd5X3Gn3sdyuhCMolA0DTaAO1WUuimooGG1ADSpokh0kwUuUi060T/gA6WDkOakEjNj5GE2VampBntYqD8iNvYjXSHcROEE7mCOA2+iZduQmhBGba5toYbHC+7SXxz7nn2x7Fv7rXvPfec6/c95319vx/pK/kmvtfPeb/vee77vuf9AcQAFZPL5ZhKpZjL5VR/tHJEqx5s0WqLTlKf1jg8R0xHtCrHFq226CTFdHyRROpBtKrHFp2kmI4vkkg9iFb12KKTFNPxRRKpB9GqHlt0kmI6vpicSMd1OZp1OTCW54FBhx2nctx5JMOOUzkeGHQ4MJbnaNal47pxS52FyeXqOg7dzBDz6T46XZ3M7d3DTOsW5vbuodPVyXy6j25miK7jxC21BClTMR1tnJ102ZtxuONkjttOePH8ics/z3y942SOvRmHZyfNMR8Ty9UdP0Onp5u57euZ2/iUF5ufvvzzzNfb19Pp6aY7fiZu6SSlTEkxHeVccFz+cvASt53IcfsMk6kW07//y8FLvOjEbz4mlat74TwvvbHPq/SbmkpviGqxqYm5jU289MY+uhcvxHodUqZiOko5PZHnzt9UN5sfdP+2qvns+k2OpyfysV6PKeWa//AD5lp+GP7GKHejtGxk/sMPYrsWKVMxHWWkP3ECtW4ee/kjAs187OXBQK2e9CfxjUmYUK7OsXdq+yb2/YZ+is6xd2K5HilTMR0lTBtOkLjr4bcJNPOuh98O/J64jCfuci3cHJoiDuORMhXTmTOnJ/KBzeO59CQXXrObQDOvXrKbW49PBn5vHF2tOMs1/+EHWm+O6Yi6qyVlKqYzJy44bqAxnOl4/JUhAs2F+N6rQ4EHmHf9Jhf54HJc5epeOK9mvCFIt6BlY6SDy1KmYjpz4peDl0I9ofratw4x2dBCoJnJhhau+PbhUE+2fjl4KdLri6tcL72xT//NUXSTXHpjX2TXJmUqplMz4xfdUI/Dtx6f5OKlL5S0dBZf/+NQXaxtJ3KRzuOJo1zd8TPR3Bgl0RTZPB4pUzGdmunNOKFaOU+2f1xiONPx5M8yoVo7vZnoBpXjKFenpzu6b+Sib2anpzuS65MyDW86GwFwRnxQb6bjuG7JTOMgce+jvUxMda2mI9nQwnu/+6tQn7PjZC6yJRNRl6vrOKWzYqOM7esjWTIhZVqb6fwngOuLYkm9mc5otrRr9cCa93jV4l28atHOipFc0Fq2pZNc0Or7vs8u3sUH1vSX/L3R7Dw1ncxQPDfHVLgjw9qvUcq0NtP597Bvmm+mMzBW+pj8ideHC4/CVcfCa3bzideHS/7ewFg0j8+jLtd8ui/WGySfPqr9GqVMazOdLIARAKcB7AXwuXoznQODzqzFmxsOT/BLK36h1HBuuXs/NxyeKPk7z5/wVqdHQeTd1q7O2QsNo4rNT9Pp6tR+jVKm4U3nPgAPAfgKgL8E0AdgEMDVPu+5EsCi4jh37hxzuZyyyGazTKVSzGazSj+3UnScqvyEauXafiYXtBYejYeNZEMLkwta+fV16YpPtjpO6b/GOMo1t3dPrN/KufY2KdMIyjSs6czk9wBMAHjU53c2Ysbgc2NjI1OplLWx84j/E6fV+0a45PN7mEiGM55EsoVLlrVx9b4R38/feSQTexnoiEzrllhvkEzrltjLoB7KdK6mAwD9ALb5/H/dtHSKY9ORLO948IBnKIkqhjP1/3c8eJCbjmSrfra0dKSlY3OZztVwFgL4FMDfh3mT6n5rLhf/mE6luO6mFwOZznU3vRjo82RMR1PImE5kZRrWZFoA3A1gGYC7ALwNYAzAtfVkOjOfXlWKNW/+NlT3qto+O/L0Sm/I06toyjSs6fwc3pOrSQAfT72+OeyHqC7YqBM5c55Opbj/qV8zUa2VMz2ek2jm/U3HAn2uzNPREzJPJ5oyDesXSlBdsJE3WQPOSL7h1ldnda2mB5dnDTInmnnDba/JjGTDZs+qRspUTKdmqq29WvfWp2VbNMvv2c+m1Cdcfs/+smM7694ar/iZsvZKU8jaq0jLVEynRs5O+nexVv6gv9DKSTa0sOGKVq569nhh7s3W45Nc9WyaDVcUzelJNHPl2n7fz5VV5jpCVplHWaZiOnPAbz+dG7/aXuhGXbusjd/vHC37e6s7RrhkWRsTCc94bry9vWIrR/bT0fONLPvpRFumYjpz4KLjcleZnQPXHzpbGEC+86GD3Nx33rf1srnvPO/8xsGCSW04NDHLcOpq58CLF5hr2WjELneqkTIV05kz5fZIfqZrjEtvfomPtLwf6GnUdDzS8j6X3vwSn+kam/V/skeynpA9kqMvUzEdBYQ5DaKWOC6nQWgJ5713I78mKVMxHWUEPfcqaGyP2XBIM8pV2xlNMRgOKWVKiuko5fREvuwYTy2GIyd8XsY7jVLBeISc8FkgzjIV01GMnGWuh8vnbjfJWeaKiKtMxXQ0cXbSZW/GKZm5PHORaPHrHSe9iX9RzsOphonl6o6f8Sa7Fc+ynbmgsfj19vV0erojm4dTDSlTMR3tOK7L0azLgbE8Dww67Djl7YfTccpbLT4wludo1o1saUMYTC5X13Hojgwznz7qraRub/P2jmlvo9PVyXz6KN2R4UiWNoRBylRMJ3JEqx5s0WqLTlKfVjGdiBGterBFqy06STEdXySRehCt6rFFJymm44skUg+iVT226CTFdHyRROpBtKrHFp2kmI4vkkg9iFb12KKTFNPxRRKpB9GqHlt0kmI6vkgi9SBa1WOLTlJMxxdJpB5Eq3ps0UmK6fgiidSDaFWPLTpJMR1fJJFqkCUb6nEdh25miPl0n7e0YO8eb2nB3j1TSwv66GaGjFuuQYrp+GJqhSuHiVplcap6bF+YSorp+GJahfPDJK2yDYd6Lm8XUcMmWQZtwUGK6fhiSoULgilaT0/kuTPAhmPVjjqWDccu422M9cN5sdkYKabjiwkVLigmaA26tepjL39EoJmPvTwYqNWTruOtVbVtAXrsnViuhxTT8SXuCheGuLWG2UT+roffJtDMux5+O/B74jKeOMtV+2bnMRmPmI4Pcd/IYYhTa7njcirFc+lJLrxmN4FmXr1kd+Fk0iBRT8flmHKsiw7EdHwQ06nOBccNNIYzHY+/MlRyzvr3Xh0Ktal8PRwM6F44r2YMJ+AYT9SDy2I6PojpVMfvCORy8bVvHSqcsZ5saOGKbx8O9WSrHo5ANumoXh2I6fggpuPP+EU31OPwrccnuXjpCyUtncXX/zhUF2vbiVyk83iiLld3/Ew0ZlMSTZHO4xHT8UFMx5/ejBOqlfNk+8clhjMdT/4sE6q105uJblA56nJ1erqja+UUtXacnu5Iro8013TWAiCAfxbTCUbkN4frlsw0DhL3PtrLxFTXajqSDS2897u/CvU5O07mIlsyEWW5uo5TOtM4yti+PrIlEyaazp8C+G8AJ8V0ghO11tFsadfqgTXv8arFu3jVop0VI7mgtWxLJ7mg1fd9n128iw+s6S/5e6PZeWg6maF4DGcq3JFh7ddImmc6CwH8F4A/B9ArphOcqLUOjJU+Jn/i9eHCo3DVsfCa3Xzi9eGSvzcwFs3j8yjLNZ/ui9V08umj2q+RNM90XgGwY+pnMZ0QRK31wKAza/HmhsMT/NKKXyg1nFvu3s8NhydK/s7zJ7zV6VEQZbk6XZ2zF29GFZufptPVqf0aSbNM55sA/gPA7wQ0nSsBLCqOc+fOMZfLKYtsNstUKsVsNqv0c3VE1Fo7TlV+QrVybT+TC1oLj8bDRrKhhckFrfz6unTFJ1sdp+Zhue7dE2tLJ9feZnWZhjWcGwD8D4CvFP1bNdPZCG+wuRCNjY1MpVISEcTOI/5PnFbvG+GSz+9hIhnOeBLJFi5Z1sbV+0Z8P3/nkUzsZaA6Mq1bYjWdTOuW2MtgLhHWdFZNGYdTFATgTv3cUOY90tKJUWullk5xbDqS5R0PHvAMJVHFcKb+/44HD3LTkWzVz5aWjrR0ZkZY07kawK0zoh/Aa1M/B0JpB5EypuNHuTGdSnHdTS8GMp3rbnox0OfJmI6M6ZQjrOmUoxcykByYqLXOfHpVKda8+dtQ3atq++zI0yt9Ua9Pr8R0aiRqrTPn6VSK+5/6NRPVWjnT4zmJZt7fdCzQ58o8HfVRr/N05oTSK6CYjh9BZyTfcOurs7pW04PLswaZE8284bbXZEZyHKZT5zOSxXRqIA6t1dZerXvr07ItmuX37GdT6hMuv2d/2bGddW+NV/xMWXulIWTtlZhOLcSh9eykfxdr5Q/6C62cZEMLG65o5apnjxfm3mw9PslVz6bZcEXRnJ5EM1eu7ff9XFllrjpklbmYTg3EpdVvP50bv9pe6EZdu6yN3+8cLft7qztGuGRZGxMJz3huvL29YitH9tNR38qR/XTEdGoiLq0XHZe7yuwcuP7Q2cIA8p0PHeTmvvO+rZfNfed55zcOFkxqw6GJWYZTNzsHXrzAXMtG2TkwJGI6EROn1nJ7JD/TNcalN7/ER1reD/Q0ajoeaXmfS29+ic90jc36P9kjWX3IHsliOjUTt9Ywp0HUEsflNAjl4bz3buTXRIrp+BL3jRwGE7QGPfcqaGyP2XDI+MtV27lXMRkOKabjS9wVLgymaD09kS87xlOL4cgJnx7eCZ8KxnjkhE8xHZWYpFXOMlfP5bPMm+Qs8wqI6USMiVrPTrrszTglM5dnLhItfr3jpDfxL8p5ONUwrVzd8TPeBMLimcszF4kWv96+nk5Pd6TzcKohpuODaRXOD5O1Oq7L0azLgbE8Dww67Djl7YfTccpbLT4wludo1o1saUMYTC1X13Hojgwznz7qrU5vb/P242lvo9PVyXz6KN2R4ciWNoRBTMcHUytcOUSrHmzRaotOUkzHF0mkHkSremzRSYrp+CKJ1INoVY8tOkkxHV8kkXoQreqxRScppuOLJFIPolU9tugkxXR8kUTqQbSqxxadpJiOL5JIPYhW9diikxTT8UUSqQfRqh5bdJJiOr5IIvUgWtVji05STKcE13HoZoaYT/d5szz37vFmee7dMzXLs49uZsiIWZ42zfIVreqxqa5GpdUq07FpPYtN65lEq3psqqtRa7XCdC6v3K1hv5KIV+7atHJbtKrHproal1bjTcfbo+SHVuxRcnoiz52W7FEzH7VWO3VUt1ab6mqcWo02HW27sR17p6ZE+aFrN760ht345qPWx17+iEAzH3t5MBatNtXVuLUaazra951VmEzd+w6rvEHmq9a7Hn6bQDPvevjtyLXaVFdN0Gqk6di0w365ExZ0hIouwXzV+lx6kguv2U2gmVcv2V04JDAKrTbVVVO0Gmc67oXzavqa1ULBWUIXHFfJuEi1UHGW1HzW+vgrQyVHHn/v1aFItNpUV03Sapzp2HRqot+pmTpu5rmcmjmftX7tW4cKxx0nG1q44tuHI9FqU101SatRpmPT+dDjF/3PB9cVtcw3mc9atx6f5OKlL5S0dBZf/+NQXaxatNpUV03TapTpOD3d0blxkSs7Pd2hE9mbcSJrORR/K/dmwg9+zmetT7Z/XGI40/HkzzJatdpUV03TaozpuI5TOiMyyti+PtTUbsd1S2bERhk7TuZCTe2f71rvfbSXiamu1XQkG1p473d/pU2rTXXVRK1h/eJxAL8B8L9TcRTAfUpMJzMUT8FMhTsyHDiRo9l4uivTMZoNfiPbrPWBNe/xqsW7eNWinRUjuaC1bEsnuaDV932fXbyLD6zpr0mrTXXVRK1h/eIBAH8F4IsA/hDAcwByAL48V9PJp/tiLZx8+mjgRA6MRfPouVIMjAV/zGuz1ideHy48ClcdC6/ZzSdeH65Jq0111UStYU2nHJ8CeHSupuN0dc5eZBZVbH6aTldn4EQeGHRmLTKMKp4/4a2irhetGw5P8EsrfqHUcG65ez83HJ6oWatNddVErXMxmwYA3wQwCWC5z+9dCWBRcZw7d465XK409u6J1ZFz7W2zNVWIjlPxtRy2nfD+fj1p3Xp8kivX9jO5oLXwaDxsJBtamFzQyq+vS1d8shVYq0V11USttZjNbQD+D4AD4Cy87pYfGwGwOBobG5lKpUoi07ol1sLJtG6ZpalS7DwS/MmIjth5JFOXWlfvG+GSz+9hIhnOeBLJFi5Z1sbV+0aUaLWprpqotRbT+QyALwC4HcA2AGOQlo51rQdbtW46kuUdDx7wDCVRxXCm/v+OBw9y05GsOq0W1VUTtdZiOjPpAfCTMG+wpe9ZCdvHSeaD1utuejGQ6Vx304vKtdpUV03UqsJ0DgP46VxNx8RR9krY/ERoPmhd8+ZvQ3Wvqu2zE1arTXXVRK1hDWYbgBUAlsEb29kGwAXwF3M1HRPnE1TC5rkv80Hr/U/9molqrZzp8ZxEM+9vOqZUq0111UStYU3nRQAfwXti9Qm8rlUow6loOgbOnKzEfJ/la7rWG259dVbXanpwedYgc6KZN9z2mlKtNtVVE7WG9QslVKx0hq0R8WM+r2cyWeu6tz4t26JZfs9+NqU+4fJ79pcd21n31rhSrTbVVdO0GmU6pq2G9ePspD0rt+eT1pU/6C+0cpINLWy4opWrnj1emHuz9fgkVz2bZsMVRXN6Es1cubZfqVab6qppWo0yHdKsfT+qMZ/3qDFV641fbS90o65d1sbvd46W/b3VHSNcsqyNiYRnPDfe3q5cq0111SStxpmOe/ECcy0bjdjhrBoXHZe7LNmNbz5oXX/obGEA+c6HDnJz33lfLZv7zvPObxwsmNSGQxNKtdpUV03SapzpkObs5RqE+brvsIlan+ka49KbX+IjLe+H0vNIy/tcevNLfKZrTLlWm+qqKVqNNB0ygl3r33t3zkmcRvcJC8ctOg2iHrXaVFdN0Gqs6ZQUkOrzeRQmcRpdZ0mpvIlFqz6tNtXVuLUabTrk9EmECvqiEZ3wqWLcJKpTM0WrWmyqq3FqNd50yOIzl5uMPx/aljO3RasebKqrcWm1wnQKhTR+xpvoVDzDcuZituLX29fT6emuaW7DXDk76bI345TMsJ25mLH49Y6T3gS1Wua2iFbztNpUV6PWapXpFArJceiODDOfPuqtom1v8/YNaW+j09XJfPoo3ZHhUNPFdeG4LkezLgfG8jww6LDjlLdvS8cpb1XzwFieo1k31HIB0WqPVpvqalRarTSdmeRyOaZSKeZyOdUfrRzRqgdbtNqik9SnVUwnYkSrHmzRaotOUkzHF0mkHkSremzRSYrp+CKJ1INoVY8tOkkxHV8kkXoQreqxRScppuOLJFIPolU9tugkxXR8kUTqQbSqxxadpJiOL5JIPYhW9diikxTT8UUSqQfRqh5bdJJiOr5IIvUgWtVji05STKcEW6bAk1NTyzNDzKf7vKnle/d4U8v37pmaWt5HNzNkzjR4S7TaUgds0VkOMR3as9iPlAV/urClDtii04+6Nh1btjUgi7cLeMqirQ3M12pLHbBFZxDq1nROT+S504INnMjpjZF+aNEmTnZotaUOBNVZ7ZjjKOpqEOrSdHRtVZnWsK2mti0gj71T11ptqQNBdT728kcEmvnYy4Ox1dWg1J3p6N6UW2UytW92rfBmtkmrLXUgjM67Hn6bQDPvevjtWOpqGOrKdGw6KsWUYz3mm1Zb6kAYnc+lJ7nwmt0Emnn1kt2FU0mjqqthqRvTueC4Svrv1ULFoXDuhfNqxkWCdF/metiaRVptqQNhdT7+ylDJGevfe3UosrpaC3VjOjYdf2vSUa3zSastdSCszq9961DhfPVkQwtXfPtwZHW1FurCdMYvupFUtJlRy9wI0w6lny9abakDYXVuPT7JxUtfKGnpLL7+x6G6WLXW1VqpC9PpzTiRfcMVf4P0ZsIP1Dk93dG1HIpaEE5P97zWaksdCKvzyfaPSwxnOp78WUZ7Xa2VeW86juuWzN6MMnaczIWahu46Tuns3Shj+/pQyxBs0mpLHahF572P9jIx1bWajmRDC+/97q+01tW5YIrprAPQD+AcgE8ApAD8kQrTGc3G06yejtFsCNPJDMVzE0+FOzI8L7XaUgdm6nxgzXu8avEuXrVoZ8VILmgt29JJLmj1fd9nF+/iA2v6a66rc8EU0zkI4DsAvgzgjwF0AxgE8LtzNZ2BsWgekVaKgbHgjyTz6b5Yb+R8+ui81GpLHZip84nXhwuPwlXHwmt284nXh2uuq3PBFNOZybUACGDFXE3nwKAza0FcVPH8CW/Fb1Ccrs7ZCyKjis1P0+nqnJdabakD5XRuODzBL634hVLDueXu/dxweGJOdXUumGo6X5gynVt9fudKAIuK49y5c8zlciXRcSq+b7htJ7y/P1NTxdi7J9bWQ669bV5qtaUOVNK59fgkV67tZ3JBa+HReNhINrQwuaCVX1+XrvhkK1RdnUNks1mmUilms1mlnzsXw0kCeBPAu1V+b+OUMRWisbGRqVSqJHYeCT6KryN2HsnM0lQpMq1bYr2RM61b5qVWW+pANZ2r941wyef3MJEMZzyJZAuXLGvj6n0jyuqqiTEX03kBwEcA/qDK70lLR1o6ddHSKY5NR7K848EDnqEkqhjO1P/f8eBBbjqSVVtX51FL50cAhgHcWMuby/XzbOnPk3aNk9ik1ZY6EEbndTe9GMh0rrvpRS11dS7kcmaM6SSmDCcD4Iu1GE4l07HlyQVp1xMhm7TaUgeC6lzz5m9Dda+q7bNTS12dC6aYzr8AOAvgbgDXF8VVczUdW+ZokHbNfbFJqy11IKjO+5/6NRPVWjnT4zmJZt7fdEx5XZ0LppgOK8R35mo6tsxGJe2a5WuTVlvqQFCdN9z66qyu1fTg8qxB5kQzb7jtNeV1dS6YYjpKqCTGlnU3pF3rmWzSaksdqKZz3Vuflm3RLL9nP5tSn3D5PfvLju2se2tceV2tlbownbOTdqwwJu1auW2TVlvqQDWdK3/QX2jlJBta2HBFK1c9e7ww92br8UmuejbNhiuK5vQkmrlybb9SnXOhLkyHtGcvFdKuPWps0mpLHfDTeeNX2wvdqGuXtfH7naNlf291xwiXLGtjIuEZz423t2upq7VQN6Zz0XG5y4Jd40jSvXiBuZaNVuzGZ5NWW+pAJZ3rD50tDCDf+dBBbu4776tjc9953vmNgwWT2nBoQqnOWqkb0yHt2R+XtGvfYZu02lIHyul8pmuMS29+iY+0vB9KyyMt73PpzS/xma4xLXU1LHVlOqT+kwCO23QaxHvv1qVWW+qALTrDUnemQ+o780hHErWdJaXwJrZRqy11wBadYahL0yG95quK/n10J3wqGDeJ7IRPO7TaUgds0RmUujUd0q7zoS+fD95k/PngNmm1pQ7YojMIdW0605yddNmbcUpmg85ceFf8esdJbzJVlHMbpnHHz3iT8opnA89ceFn8evt6Oj3dNc1tqSetttQBW3T6IaZThOO6HM26HBjL88Cgw45T3h4jHae8FbgDY3mOZt3Ipov74ToO3ZFh5tNHvRXf7W3eHjftbXS6OplPH6U7MhxquYBotacO2KKzHGI6PugqHB2IVj3YotUWnaSYji+SSD2IVvXYopMU0/FFEqkH0aoeW3SSYjq+SCL1IFrVY4tOUkzHF0mkHkSremzRSYrp+CKJ1INoVY8tOkkxHV8kkXoQreqxRScppuOLJFIPolU9tugkxXR8kUTqQbSqxxadpJiOL5JIPYhW9diikxTT8UUSqQaZsq8fW3SSYjq+SCLnhixOjA5bdJJiOr5IImtDtmGIHlt0kmI6vkgiw3N6Is+dsuFU5NiikxTT8UUSGQ5dW2um5+HWmqqxRScppuOLJDI4ujcRj8t44i7XoNiikxTT8UUSGQxbjnWpBVvqgC06STEdXySR1bnguErGcIKO8cyXg+FUY4tOUkzHF0lkdWw5qrdWbKkDtugkxXR8kUT6M37RjcRsZkaU83hsqQO26CTFdHyRRPrTm3Eia+UUt3Z6M9ENKttSB2zRSYrp+CKJrIzjuiUzjaOMHSdzkS2ZsKUO2KKTNMt0VgDoAjACgABWiekEJ2qto9l4ulbTMZoV0ynGFp2kWaZzH4B/BPDXYjrhiVrrwFg0j8krxcBYNI/PbakDtugkzTKdEv8Q0wlH1FoPDDqzFm9GFc+f8FanR4EtdcAWnaTdpnMlgEXFce7cOeZyOWWRzWaZSqWYzWaVfq6OiFprx6n4WjnbTnh/fz6W63zXqVNrFKazcer3CtHY2MhUKiURQew8konVdHYeycReBhJmRRSmIy2dGLVKS8essEWnTq1RmM7sNykml5N+ciVkTMcsbNFJ2j2mI6ZTRNRa5emVWdiikzTLdBYC+JOpIIB/mPr5c2I61Ylaq8zTMQtbdJJmmc49mDEwPBU/FdOpTtRaZUayWdiikzTLdOaM0iugJLIasvbKHGzRSYrp+CKJ9OfspKwyNwVbdJJiOr5IIqsj++mYgS06STEdXySR1bnouNwlOwfGji06STEdXySRwZA9kuPHFp2kmI4vksjg6D4N4ricBuGLLTpJMR1fJJHh0HXuVVyGQ5pRrkGwRScppuOLJDI8pyfySsZ45ITPcNiikxTT8UUSWRtylnn02KKTFNPxRRI5N85OuuzNOCUzl2cuEi1+veOkN/Evynk41TCxXMthi05STMcXSaQaHNflaNblwFieBwYddpzy9sPpOOWtFh8Yy3M060a2tCEMJpdrMbboJMV0fJFE6kG0qscWnaSYji+SSD2IVvXYopMU0/FFEqkH0aoeW3SSYjq+SCL1IFrVY4tOUkzHF0mkHkSremzRSYrp+CKJ1INoVY8tOkkxHV8kkXoQreqxRScppuOLJFIPolU9tugkxXR8kUTqQbSqxxadpJiOL5JIPYhW9diikxTT8UUSqQeTtbqOQzczxHy6j05XJ3N79zDTuoW5vXvodHUyn+6jm0tj75MAAAa6SURBVBmi68S33UY5TC7TmYjp+CCJ1IOJWt3xM3R6upnbvp65jU95sfnpyz/PfL19PZ2ebrrjZ+KWTtLMMq2EmI4Pkkg9mKTVvXCel97Y5xnJpqZSk6kWm5qY29jES2/so3vxQqzXYVKZVkNMxwdJpB5M0Zr/8APmWn4Y3mzKmU/LRuY//CC2azGlTIMgpuODJFIPJmh1jr1TW+vGt9XzFJ1j78RyPSaUaVDEdHyQROohbq0Fw9EUcRhP3GUaBjEdHySReohTa/7DD7QaznRE3dWS/IvpRI5orY574byaMZyAYzxRDi5L/sV0Ike0VufSG/v0G06R8Vx6Y19k1yb5F9OJHNHqjzt+JhqzKYmmyObxSP7FdCJHtPrj9HRH18opau04Pd2RXJ/kv3bT+TsAHwG4COAYgDvEdIIhWivjOk7pTOMoY/v6SJZMSP5rM51GAJMA/hbAcgD/CmAcwHViOtURrZVxM0PxGM5UuCPD2q9R8l+b6RwD8KOi10kAGQBrxXSqI1ork0/3xWo6+fRR7dco+Q9vOp8B4ABYNePfXwHwb2I61RGtlXG6Omcv3owqNj9Np6tT+zVK/sObzu8DIIA/m/Hv/wSvBVSOKwEsKo5z584xl8spi2w2y1QqxWw2q/RzdYRo9Ym9e2Jt6eTa2+ZfmRqoNQrT2Tj1nkI0NjYylUpJSJREpnVLrKaTad0SexnUQ4Q1nVq6V9LSEa3BQlo6RoUpLR3Aa9HsKnqdBPAxZCA5EKK1MjKmYxa6tNZiOo3w5uf8DYBbAPwE3iPzpWI61RGtlZGnV2ZhkukAwBMABuHN1zkG4M4wb1Z6BZRE6iJqrTJPxyxMM505ofQKKInUReSmIzOSjUJMxwdJpB7i0Cprr8xBTMcHSaQe4tAqq8zNQUzHB0mkHuLSKvvpmIGYjg+SSD3EpdW9eIG5lo2yc2DMiOn4IInUQ5xaZY/k+BHT8UESqYe4tWo/DeK9dyO/prjLNAxiOj5IIvVgglZt517FYDikGWUaFDEdHySRejBFq3fCp4IxHjnhMxRiOj5IIvVgktbLZ5k3yVnmESGm44MkUg8manXHz3gTCItnLs9cJFr8evt6Oj3dkc3DqYaJZVoJMR0fJJF6MFmr6zh0R4aZTx/1Vqe3t3n78bS30enqZD59lO7IcCRLG8JgcpnOREzHB0mkHkSremzRSYrp+CKJ1INoVY8tOkkxHV8kkXoQreqxRScppuOLJFIPolU9tugk55npaOBKeBvAXxmzjiCIVj3YotUWnYBdWiNnEbyTJhbFLSQAolUPtmi1RSdgl9bIsalwRKsebNFqi07ALq2RY1PhiFY92KLVFp2AXVojx6bCEa16sEWrLToBu7RGjk0DXqJVD7ZotUUnYJdWQRAEQRAEQRAEQRAEQRAEQTCHvwPwEYCL8M5VvyNWNZVZAaALwAi8x5Cr4pVTkXUA+gGcA/AJgBSAP4pVUWUeB/AbAP87FUcB3BerouCshVcP/jluIWXYCE9bcXwQpyCTaAQwCeBvASwH8K8AxgFcF6eoCtwH4B8B/DXMNp2DAL4D4MsA/hhAN4BBAL8bo6ZKPADgrwB8EcAfAngOQA6edpP5UwD/DeAkzDWd/wRwfVEsiVOQSRwD8KOi10kAGXjfIiZjsunM5Fp4elfELSQgnwJ4NG4RPiwE8F8A/hxAL8w1nX+PW4SJfAaAg9k37ysA/i16OaGwyXS+AE/vrXELqUIDgG/Ca/kuj1mLH68A2DH1cy/MNZ0svKGA0wD2AvhcnIJM4ffh3Qx/NuPf/wleC8hkbDGdJIA3AbwbtxAfbgPwf/C+gM7C626ZyjcB/AeA35l63QszTec+AA8B+AqAvwTQB6+LfXWcokxATEc/L8AbpP+DmHX48Rl4rbHbAWwDMAYzWzo3APgfeDfyNL0w03Rm8nsAJmB2tzUSpHullx8BGAZwY9xCQtID4CdxiyjDKnh5d4qCANypnxvikxaIfnimXvccA7Cr6HUSwMeQgeS5kIBnOBl4T4Vs4zCAn8YtogxXwxsXK45+AK/B/PGyhfAG6P8+biEm0Ahvfs7fALgF3jfcOIClcYqqwEIAfzIVBPAPUz+bNkD3L/DGRu5G6SPTq+IUVYFt8J6qLYM3trMNXsvhL2LUFIZemNm9aoGX/2UA7gLwNrxu67UxajKKJ+ANck3Ca/ncGa+cityD2ROuCPO+lctpJLy5O6bxIrwxp0l4Exl7YI/hAOaazs/hPbmahNdz+DmAm2NVJAiCIAiCIAiCIAiCIAiCIAiCIAiCIAiCIAhCKP4f2G4JccqIE8kAAAAASUVORK5CYII=\" width=\"285\">"
      ],
      "text/plain": [
       "<IPython.core.display.HTML object>"
      ]
     },
     "metadata": {},
     "output_type": "display_data"
    }
   ],
   "source": [
    "%matplotlib notebook\n",
    "\n",
    "from Play import Play\n",
    "\n",
    "\n",
    "gameplay=Play(ConnectN(**game_setting), \n",
    "              player1=Policy_Player_MCTS, \n",
    "              player2=None)\n"
   ]
  },
  {
   "cell_type": "markdown",
   "metadata": {},
   "source": [
    "# Training"
   ]
  },
  {
   "cell_type": "code",
   "execution_count": 10,
   "metadata": {},
   "outputs": [
    {
     "name": "stdout",
     "output_type": "stream",
     "text": [
      "Requirement already satisfied: progressbar in /anaconda3/lib/python3.6/site-packages (2.5)\n",
      "\u001b[33mWARNING: You are using pip version 19.1, however version 19.2.1 is available.\n",
      "You should consider upgrading via the 'pip install --upgrade pip' command.\u001b[0m\n"
     ]
    }
   ],
   "source": [
    "# initialize our alphazero agent and optimizer\n",
    "import torch.optim as optim\n",
    "\n",
    "game=ConnectN(**game_setting)\n",
    "policy = Policy(game)\n",
    "optimizer = optim.Adam(policy.parameters(), lr=.01, weight_decay=1.e-5)\n",
    "\n",
    "! pip install progressbar"
   ]
  },
  {
   "cell_type": "markdown",
   "metadata": {},
   "source": [
    "Beware, training is **VERY VERY** slow!!"
   ]
  },
  {
   "cell_type": "code",
   "execution_count": 11,
   "metadata": {},
   "outputs": [
    {
     "name": "stderr",
     "output_type": "stream",
     "text": [
      "/anaconda3/lib/python3.6/site-packages/torch/serialization.py:241: UserWarning: Couldn't retrieve source code for container of type Policy. It won't be checked for correctness upon loading.\n",
      "  \"type \" + obj.__name__ + \". It won't be checked \"\n",
      "training loop:   0% |                                          | ETA:  23:13:50\r"
     ]
    },
    {
     "name": "stdout",
     "output_type": "stream",
     "text": [
      "game:  1 , mean loss: 27.44 , recent outcomes:  [1]\n"
     ]
    },
    {
     "name": "stderr",
     "output_type": "stream",
     "text": [
      "training loop:   0% |                                           | ETA:  9:56:26\r"
     ]
    },
    {
     "name": "stdout",
     "output_type": "stream",
     "text": [
      "game:  11 , mean loss: 23.75 , recent outcomes:  [1, 1, 1, -1, -1, -1, -1, -1, 1, -1]\n"
     ]
    },
    {
     "name": "stderr",
     "output_type": "stream",
     "text": [
      "training loop:   1% |                                           | ETA:  7:30:38\r"
     ]
    },
    {
     "name": "stdout",
     "output_type": "stream",
     "text": [
      "game:  21 , mean loss: 20.95 , recent outcomes:  [1, 1, 1, 1, -1, 1, 1, 1, 1, -1]\n"
     ]
    },
    {
     "name": "stderr",
     "output_type": "stream",
     "text": [
      "training loop:   1% |                                           | ETA:  6:09:44\r"
     ]
    },
    {
     "name": "stdout",
     "output_type": "stream",
     "text": [
      "game:  31 , mean loss: 17.53 , recent outcomes:  [1, 1, 1, 1, -1, 1, 1, 1, -1, 1]\n"
     ]
    },
    {
     "name": "stderr",
     "output_type": "stream",
     "text": [
      "training loop:   2% |                                           | ETA:  5:40:09\r"
     ]
    },
    {
     "name": "stdout",
     "output_type": "stream",
     "text": [
      "game:  41 , mean loss: 15.61 , recent outcomes:  [1, -1, 1, 1, 1, 1, 1, 1, 1, 1]\n"
     ]
    },
    {
     "name": "stderr",
     "output_type": "stream",
     "text": [
      "training loop:   2% |#                                          | ETA:  5:10:02\r"
     ]
    },
    {
     "name": "stdout",
     "output_type": "stream",
     "text": [
      "game:  51 , mean loss: 11.44 , recent outcomes:  [1, 1, 1, 1, 1, 1, 1, 1, 1, 1]\n"
     ]
    },
    {
     "name": "stderr",
     "output_type": "stream",
     "text": [
      "training loop:   3% |#                                          | ETA:  4:51:22\r"
     ]
    },
    {
     "name": "stdout",
     "output_type": "stream",
     "text": [
      "game:  61 , mean loss: 10.63 , recent outcomes:  [1, -1, -1, -1, 1, 1, 1, 1, 1, 1]\n"
     ]
    },
    {
     "name": "stderr",
     "output_type": "stream",
     "text": [
      "training loop:   3% |#                                          | ETA:  4:45:34\r"
     ]
    },
    {
     "name": "stdout",
     "output_type": "stream",
     "text": [
      "game:  71 , mean loss: 11.37 , recent outcomes:  [1, -1, 1, 1, 1, 1, 1, -1, 1, 1]\n"
     ]
    },
    {
     "name": "stderr",
     "output_type": "stream",
     "text": [
      "training loop:   4% |#                                          | ETA:  4:31:21\r"
     ]
    },
    {
     "name": "stdout",
     "output_type": "stream",
     "text": [
      "game:  81 , mean loss: 8.67 , recent outcomes:  [1, 1, 1, 1, 1, 1, 1, 1, 1, 1]\n"
     ]
    },
    {
     "name": "stderr",
     "output_type": "stream",
     "text": [
      "training loop:   4% |#                                          | ETA:  4:20:08\r"
     ]
    },
    {
     "name": "stdout",
     "output_type": "stream",
     "text": [
      "game:  91 , mean loss: 6.88 , recent outcomes:  [1, 1, 1, 1, 1, 1, 1, 1, 1, 1]\n"
     ]
    },
    {
     "name": "stderr",
     "output_type": "stream",
     "text": [
      "training loop:   5% |##                                         | ETA:  4:05:21\r"
     ]
    },
    {
     "name": "stdout",
     "output_type": "stream",
     "text": [
      "game:  101 , mean loss: 5.95 , recent outcomes:  [1, 1, 1, 1, 1, 1, 1, 1, 1, 1]\n"
     ]
    },
    {
     "name": "stderr",
     "output_type": "stream",
     "text": [
      "training loop:   5% |##                                         | ETA:  3:50:14\r"
     ]
    },
    {
     "name": "stdout",
     "output_type": "stream",
     "text": [
      "game:  111 , mean loss: 5.50 , recent outcomes:  [1, 1, 1, 1, 1, 1, 1, 1, 1, 1]\n"
     ]
    },
    {
     "name": "stderr",
     "output_type": "stream",
     "text": [
      "training loop:   6% |##                                         | ETA:  3:37:48\r"
     ]
    },
    {
     "name": "stdout",
     "output_type": "stream",
     "text": [
      "game:  121 , mean loss: 5.35 , recent outcomes:  [1, 1, 1, 1, 1, 1, 1, 1, 1, 1]\n"
     ]
    },
    {
     "name": "stderr",
     "output_type": "stream",
     "text": [
      "training loop:   6% |##                                         | ETA:  3:33:22\r"
     ]
    },
    {
     "name": "stdout",
     "output_type": "stream",
     "text": [
      "game:  131 , mean loss: 4.75 , recent outcomes:  [1, 1, 1, 1, 1, 1, 1, 1, 1, 1]\n"
     ]
    },
    {
     "name": "stderr",
     "output_type": "stream",
     "text": [
      "training loop:   7% |###                                        | ETA:  3:27:45\r"
     ]
    },
    {
     "name": "stdout",
     "output_type": "stream",
     "text": [
      "game:  141 , mean loss: 4.69 , recent outcomes:  [1, 1, 1, 1, 1, 1, 1, 1, 1, 1]\n"
     ]
    },
    {
     "name": "stderr",
     "output_type": "stream",
     "text": [
      "training loop:   7% |###                                        | ETA:  3:22:31\r"
     ]
    },
    {
     "name": "stdout",
     "output_type": "stream",
     "text": [
      "game:  151 , mean loss: 4.65 , recent outcomes:  [1, 1, 1, 1, 1, 1, 1, 1, 1, 1]\n"
     ]
    },
    {
     "name": "stderr",
     "output_type": "stream",
     "text": [
      "training loop:   8% |###                                        | ETA:  3:15:23\r"
     ]
    },
    {
     "name": "stdout",
     "output_type": "stream",
     "text": [
      "game:  161 , mean loss: 3.72 , recent outcomes:  [1, 1, 1, 1, 1, 1, 1, 1, 1, 1]\n"
     ]
    },
    {
     "name": "stderr",
     "output_type": "stream",
     "text": [
      "training loop:   8% |###                                        | ETA:  3:11:20\r"
     ]
    },
    {
     "name": "stdout",
     "output_type": "stream",
     "text": [
      "game:  171 , mean loss: 3.37 , recent outcomes:  [1, 1, 1, 1, 1, 1, 1, 1, 1, 1]\n"
     ]
    },
    {
     "name": "stderr",
     "output_type": "stream",
     "text": [
      "training loop:   9% |###                                        | ETA:  3:08:34\r"
     ]
    },
    {
     "name": "stdout",
     "output_type": "stream",
     "text": [
      "game:  181 , mean loss: 3.34 , recent outcomes:  [1, 1, 1, 1, 1, 1, 1, 1, 1, 1]\n"
     ]
    },
    {
     "name": "stderr",
     "output_type": "stream",
     "text": [
      "training loop:   9% |####                                       | ETA:  3:05:01\r"
     ]
    },
    {
     "name": "stdout",
     "output_type": "stream",
     "text": [
      "game:  191 , mean loss: 2.93 , recent outcomes:  [1, 1, 1, 1, 1, 1, 1, 1, 1, 1]\n"
     ]
    },
    {
     "name": "stderr",
     "output_type": "stream",
     "text": [
      "training loop:  10% |####                                       | ETA:  3:02:16\r"
     ]
    },
    {
     "name": "stdout",
     "output_type": "stream",
     "text": [
      "game:  201 , mean loss: 2.75 , recent outcomes:  [1, 1, 1, 1, 1, 1, 1, 1, 1, 1]\n"
     ]
    },
    {
     "name": "stderr",
     "output_type": "stream",
     "text": [
      "training loop:  10% |####                                       | ETA:  2:59:35\r"
     ]
    },
    {
     "name": "stdout",
     "output_type": "stream",
     "text": [
      "game:  211 , mean loss: 2.92 , recent outcomes:  [1, 1, 1, 1, 1, 1, 1, 1, 1, 1]\n"
     ]
    },
    {
     "name": "stderr",
     "output_type": "stream",
     "text": [
      "training loop:  11% |####                                       | ETA:  2:56:39\r"
     ]
    },
    {
     "name": "stdout",
     "output_type": "stream",
     "text": [
      "game:  221 , mean loss: 3.53 , recent outcomes:  [1, 1, 1, 1, 1, 1, 1, 1, 1, 1]\n"
     ]
    },
    {
     "name": "stderr",
     "output_type": "stream",
     "text": [
      "training loop:  11% |####                                       | ETA:  2:54:19\r"
     ]
    },
    {
     "name": "stdout",
     "output_type": "stream",
     "text": [
      "game:  231 , mean loss: 5.32 , recent outcomes:  [1, 1, 1, 1, 1, 1, 1, 1, -1, 1]\n"
     ]
    },
    {
     "name": "stderr",
     "output_type": "stream",
     "text": [
      "training loop:  12% |#####                                      | ETA:  2:52:44\r"
     ]
    },
    {
     "name": "stdout",
     "output_type": "stream",
     "text": [
      "game:  241 , mean loss: 3.99 , recent outcomes:  [1, 1, 1, 1, 1, 1, 1, 1, 1, 1]\n"
     ]
    },
    {
     "name": "stderr",
     "output_type": "stream",
     "text": [
      "training loop:  12% |#####                                      | ETA:  2:50:12\r"
     ]
    },
    {
     "name": "stdout",
     "output_type": "stream",
     "text": [
      "game:  251 , mean loss: 2.37 , recent outcomes:  [1, 1, 1, 1, 1, 1, 1, 1, 1, 1]\n"
     ]
    },
    {
     "name": "stderr",
     "output_type": "stream",
     "text": [
      "training loop:  13% |#####                                      | ETA:  2:49:56\r"
     ]
    },
    {
     "name": "stdout",
     "output_type": "stream",
     "text": [
      "game:  261 , mean loss: 6.63 , recent outcomes:  [1, 1, 1, 1, 1, -1, 1, -1, 1, 1]\n"
     ]
    },
    {
     "name": "stderr",
     "output_type": "stream",
     "text": [
      "training loop:  13% |#####                                      | ETA:  2:54:40\r"
     ]
    },
    {
     "name": "stdout",
     "output_type": "stream",
     "text": [
      "game:  271 , mean loss: 9.73 , recent outcomes:  [1, 0, 1, 1, 1, 1, 1, 1, 1, 1]\n"
     ]
    },
    {
     "name": "stderr",
     "output_type": "stream",
     "text": [
      "training loop:  14% |######                                     | ETA:  2:56:26\r"
     ]
    },
    {
     "name": "stdout",
     "output_type": "stream",
     "text": [
      "game:  281 , mean loss: 9.20 , recent outcomes:  [1, 1, 1, 1, 1, 1, -1, 1, 1, 1]\n"
     ]
    },
    {
     "name": "stderr",
     "output_type": "stream",
     "text": [
      "training loop:  14% |######                                     | ETA:  2:56:09\r"
     ]
    },
    {
     "name": "stdout",
     "output_type": "stream",
     "text": [
      "game:  291 , mean loss: 7.94 , recent outcomes:  [1, 1, 1, 1, 1, 1, 1, 1, -1, 1]\n"
     ]
    },
    {
     "name": "stderr",
     "output_type": "stream",
     "text": [
      "training loop:  15% |######                                     | ETA:  2:57:24\r"
     ]
    },
    {
     "name": "stdout",
     "output_type": "stream",
     "text": [
      "game:  301 , mean loss: 12.31 , recent outcomes:  [1, 1, 1, -1, 1, 1, -1, 1, 1, 1]\n"
     ]
    },
    {
     "name": "stderr",
     "output_type": "stream",
     "text": [
      "training loop:  15% |######                                     | ETA:  2:59:05\r"
     ]
    },
    {
     "name": "stdout",
     "output_type": "stream",
     "text": [
      "game:  311 , mean loss: 16.28 , recent outcomes:  [1, 1, 1, -1, 1, 1, 1, 1, -1, -1]\n"
     ]
    },
    {
     "name": "stderr",
     "output_type": "stream",
     "text": [
      "training loop:  16% |######                                     | ETA:  3:00:27\r"
     ]
    },
    {
     "name": "stdout",
     "output_type": "stream",
     "text": [
      "game:  321 , mean loss: 12.05 , recent outcomes:  [1, 1, 1, 1, 1, -1, 1, 1, 1, 1]\n"
     ]
    },
    {
     "name": "stderr",
     "output_type": "stream",
     "text": [
      "training loop:  16% |#######                                    | ETA:  3:01:36\r"
     ]
    },
    {
     "name": "stdout",
     "output_type": "stream",
     "text": [
      "game:  331 , mean loss: 10.85 , recent outcomes:  [1, 1, 1, 1, 1, -1, 1, -1, 1, 1]\n"
     ]
    },
    {
     "name": "stderr",
     "output_type": "stream",
     "text": [
      "training loop:  17% |#######                                    | ETA:  3:04:30\r"
     ]
    },
    {
     "name": "stdout",
     "output_type": "stream",
     "text": [
      "game:  341 , mean loss: 14.06 , recent outcomes:  [-1, 1, 1, 1, 1, 1, -1, 1, 0, 1]\n"
     ]
    },
    {
     "name": "stderr",
     "output_type": "stream",
     "text": [
      "training loop:  17% |#######                                    | ETA:  3:05:41\r"
     ]
    },
    {
     "name": "stdout",
     "output_type": "stream",
     "text": [
      "game:  351 , mean loss: 15.86 , recent outcomes:  [1, 1, 1, -1, -1, 1, -1, 1, 1, 1]\n"
     ]
    },
    {
     "name": "stderr",
     "output_type": "stream",
     "text": [
      "training loop:  18% |#######                                    | ETA:  3:09:23\r"
     ]
    },
    {
     "name": "stdout",
     "output_type": "stream",
     "text": [
      "game:  361 , mean loss: 20.39 , recent outcomes:  [1, -1, -1, -1, 1, -1, -1, 1, 1, 1]\n"
     ]
    },
    {
     "name": "stderr",
     "output_type": "stream",
     "text": [
      "training loop:  18% |#######                                    | ETA:  3:15:20\r"
     ]
    },
    {
     "name": "stdout",
     "output_type": "stream",
     "text": [
      "game:  371 , mean loss: 21.89 , recent outcomes:  [1, -1, -1, -1, -1, 1, -1, 1, -1, 1]\n"
     ]
    },
    {
     "name": "stderr",
     "output_type": "stream",
     "text": [
      "training loop:  19% |########                                   | ETA:  3:18:56\r"
     ]
    },
    {
     "name": "stdout",
     "output_type": "stream",
     "text": [
      "game:  381 , mean loss: 20.27 , recent outcomes:  [1, -1, 1, 1, -1, -1, 1, 1, -1, -1]\n"
     ]
    },
    {
     "name": "stderr",
     "output_type": "stream",
     "text": [
      "training loop:  19% |########                                   | ETA:  3:20:23\r"
     ]
    },
    {
     "name": "stdout",
     "output_type": "stream",
     "text": [
      "game:  391 , mean loss: 18.12 , recent outcomes:  [-1, 1, 1, 1, -1, 1, 1, 1, 1, 1]\n"
     ]
    },
    {
     "name": "stderr",
     "output_type": "stream",
     "text": [
      "training loop:  20% |########                                   | ETA:  3:20:47\r"
     ]
    },
    {
     "name": "stdout",
     "output_type": "stream",
     "text": [
      "game:  401 , mean loss: 18.79 , recent outcomes:  [1, 1, -1, -1, -1, -1, 1, 1, -1, -1]\n"
     ]
    },
    {
     "name": "stderr",
     "output_type": "stream",
     "text": [
      "training loop:  20% |########                                   | ETA:  3:21:15\r"
     ]
    },
    {
     "name": "stdout",
     "output_type": "stream",
     "text": [
      "game:  411 , mean loss: 22.26 , recent outcomes:  [1, 1, 1, 1, 1, -1, 1, 1, -1, -1]\n"
     ]
    },
    {
     "name": "stderr",
     "output_type": "stream",
     "text": [
      "training loop:  21% |#########                                  | ETA:  3:22:24\r"
     ]
    },
    {
     "name": "stdout",
     "output_type": "stream",
     "text": [
      "game:  421 , mean loss: 20.67 , recent outcomes:  [-1, -1, -1, -1, 1, -1, -1, 1, -1, 1]\n"
     ]
    },
    {
     "name": "stderr",
     "output_type": "stream",
     "text": [
      "training loop:  21% |#########                                  | ETA:  3:25:00\r"
     ]
    },
    {
     "name": "stdout",
     "output_type": "stream",
     "text": [
      "game:  431 , mean loss: 19.47 , recent outcomes:  [1, 1, 1, -1, 1, 1, -1, -1, -1, -1]\n"
     ]
    },
    {
     "name": "stderr",
     "output_type": "stream",
     "text": [
      "training loop:  22% |#########                                  | ETA:  3:25:56\r"
     ]
    },
    {
     "name": "stdout",
     "output_type": "stream",
     "text": [
      "game:  441 , mean loss: 20.20 , recent outcomes:  [-1, 1, 1, 1, -1, -1, 1, -1, -1, 1]\n"
     ]
    },
    {
     "name": "stderr",
     "output_type": "stream",
     "text": [
      "training loop:  22% |#########                                  | ETA:  3:27:24\r"
     ]
    },
    {
     "name": "stdout",
     "output_type": "stream",
     "text": [
      "game:  451 , mean loss: 19.18 , recent outcomes:  [1, -1, 1, -1, -1, -1, -1, 1, 1, 1]\n"
     ]
    },
    {
     "name": "stderr",
     "output_type": "stream",
     "text": [
      "training loop:  23% |#########                                  | ETA:  3:26:44\r"
     ]
    },
    {
     "name": "stdout",
     "output_type": "stream",
     "text": [
      "game:  461 , mean loss: 17.11 , recent outcomes:  [1, 1, -1, 1, -1, 1, -1, 1, -1, -1]\n"
     ]
    },
    {
     "name": "stderr",
     "output_type": "stream",
     "text": [
      "training loop:  23% |##########                                 | ETA:  3:28:30\r"
     ]
    },
    {
     "name": "stdout",
     "output_type": "stream",
     "text": [
      "game:  471 , mean loss: 18.79 , recent outcomes:  [1, 1, 1, 1, 1, -1, 1, 1, 1, -1]\n"
     ]
    },
    {
     "name": "stderr",
     "output_type": "stream",
     "text": [
      "training loop:  24% |##########                                 | ETA:  3:29:44\r"
     ]
    },
    {
     "name": "stdout",
     "output_type": "stream",
     "text": [
      "game:  481 , mean loss: 20.41 , recent outcomes:  [1, 1, -1, 1, -1, 1, -1, 1, 1, -1]\n"
     ]
    },
    {
     "name": "stderr",
     "output_type": "stream",
     "text": [
      "training loop:  24% |##########                                 | ETA:  3:30:12\r"
     ]
    },
    {
     "name": "stdout",
     "output_type": "stream",
     "text": [
      "game:  491 , mean loss: 19.38 , recent outcomes:  [-1, 1, 1, 1, 1, -1, 1, 1, 1, -1]\n"
     ]
    },
    {
     "name": "stderr",
     "output_type": "stream",
     "text": [
      "training loop:  25% |##########                                 | ETA:  3:30:39\r"
     ]
    },
    {
     "name": "stdout",
     "output_type": "stream",
     "text": [
      "game:  501 , mean loss: 21.05 , recent outcomes:  [-1, 1, -1, 1, -1, -1, -1, -1, -1, -1]\n"
     ]
    },
    {
     "name": "stderr",
     "output_type": "stream",
     "text": [
      "training loop:  25% |##########                                 | ETA:  3:31:08\r"
     ]
    },
    {
     "name": "stdout",
     "output_type": "stream",
     "text": [
      "game:  511 , mean loss: 21.72 , recent outcomes:  [1, 1, 1, -1, -1, -1, 1, 1, 1, -1]\n"
     ]
    },
    {
     "name": "stderr",
     "output_type": "stream",
     "text": [
      "training loop:  26% |###########                                | ETA:  3:31:29\r"
     ]
    },
    {
     "name": "stdout",
     "output_type": "stream",
     "text": [
      "game:  521 , mean loss: 20.41 , recent outcomes:  [1, 1, 1, 1, -1, 1, 1, 1, 1, 1]\n"
     ]
    },
    {
     "name": "stderr",
     "output_type": "stream",
     "text": [
      "training loop:  26% |###########                                | ETA:  3:31:04\r"
     ]
    },
    {
     "name": "stdout",
     "output_type": "stream",
     "text": [
      "game:  531 , mean loss: 22.02 , recent outcomes:  [1, -1, 1, -1, -1, -1, 1, 1, 1, -1]\n"
     ]
    },
    {
     "name": "stderr",
     "output_type": "stream",
     "text": [
      "training loop:  27% |###########                                | ETA:  3:29:21\r"
     ]
    },
    {
     "name": "stdout",
     "output_type": "stream",
     "text": [
      "game:  541 , mean loss: 19.34 , recent outcomes:  [1, 1, 1, 1, 1, 1, 1, 1, 1, -1]\n"
     ]
    },
    {
     "name": "stderr",
     "output_type": "stream",
     "text": [
      "training loop:  27% |###########                                | ETA:  3:27:37\r"
     ]
    },
    {
     "name": "stdout",
     "output_type": "stream",
     "text": [
      "game:  551 , mean loss: 19.24 , recent outcomes:  [-1, 1, -1, 1, 1, -1, -1, 1, 1, 1]\n"
     ]
    },
    {
     "name": "stderr",
     "output_type": "stream",
     "text": [
      "training loop:  28% |############                               | ETA:  3:27:01\r"
     ]
    },
    {
     "name": "stdout",
     "output_type": "stream",
     "text": [
      "game:  561 , mean loss: 21.08 , recent outcomes:  [-1, 1, 1, 1, -1, 1, 1, 1, 1, -1]\n"
     ]
    },
    {
     "name": "stderr",
     "output_type": "stream",
     "text": [
      "training loop:  28% |############                               | ETA:  3:29:11\r"
     ]
    },
    {
     "name": "stdout",
     "output_type": "stream",
     "text": [
      "game:  571 , mean loss: 18.87 , recent outcomes:  [1, 1, 1, -1, 1, 0, 1, 1, 1, 1]\n"
     ]
    },
    {
     "name": "stderr",
     "output_type": "stream",
     "text": [
      "training loop:  29% |############                               | ETA:  3:28:56\r"
     ]
    },
    {
     "name": "stdout",
     "output_type": "stream",
     "text": [
      "game:  581 , mean loss: 17.98 , recent outcomes:  [1, 1, 1, 1, -1, -1, 1, 1, 1, 1]\n"
     ]
    },
    {
     "name": "stderr",
     "output_type": "stream",
     "text": [
      "training loop:  29% |############                               | ETA:  3:29:00\r"
     ]
    },
    {
     "name": "stdout",
     "output_type": "stream",
     "text": [
      "game:  591 , mean loss: 16.02 , recent outcomes:  [-1, 1, 1, -1, 1, 1, 1, 1, 1, 1]\n"
     ]
    },
    {
     "name": "stderr",
     "output_type": "stream",
     "text": [
      "training loop:  30% |############                               | ETA:  3:29:30\r"
     ]
    },
    {
     "name": "stdout",
     "output_type": "stream",
     "text": [
      "game:  601 , mean loss: 12.27 , recent outcomes:  [1, 1, 1, 1, 1, 1, 1, 0, 1, 1]\n"
     ]
    },
    {
     "name": "stderr",
     "output_type": "stream",
     "text": [
      "training loop:  30% |#############                              | ETA:  3:29:19\r"
     ]
    },
    {
     "name": "stdout",
     "output_type": "stream",
     "text": [
      "game:  611 , mean loss: 11.90 , recent outcomes:  [1, 1, -1, 1, 1, 1, 1, -1, 1, -1]\n"
     ]
    },
    {
     "name": "stderr",
     "output_type": "stream",
     "text": [
      "training loop:  31% |#############                              | ETA:  3:29:14\r"
     ]
    },
    {
     "name": "stdout",
     "output_type": "stream",
     "text": [
      "game:  621 , mean loss: 13.28 , recent outcomes:  [1, -1, 1, 1, 1, 1, 1, 1, 1, 1]\n"
     ]
    },
    {
     "name": "stderr",
     "output_type": "stream",
     "text": [
      "training loop:  31% |#############                              | ETA:  3:27:50\r"
     ]
    },
    {
     "name": "stdout",
     "output_type": "stream",
     "text": [
      "game:  631 , mean loss: 13.58 , recent outcomes:  [1, 1, -1, 1, 1, -1, 1, 1, 1, 1]\n"
     ]
    },
    {
     "name": "stderr",
     "output_type": "stream",
     "text": [
      "training loop:  32% |#############                              | ETA:  3:25:58\r"
     ]
    },
    {
     "name": "stdout",
     "output_type": "stream",
     "text": [
      "game:  641 , mean loss: 14.10 , recent outcomes:  [-1, 1, -1, -1, 1, 1, 1, 1, 1, 1]\n"
     ]
    },
    {
     "name": "stderr",
     "output_type": "stream",
     "text": [
      "training loop:  32% |#############                              | ETA:  3:24:30\r"
     ]
    },
    {
     "name": "stdout",
     "output_type": "stream",
     "text": [
      "game:  651 , mean loss: 15.79 , recent outcomes:  [1, -1, 1, 1, 1, 1, 1, 1, -1, 1]\n"
     ]
    },
    {
     "name": "stderr",
     "output_type": "stream",
     "text": [
      "training loop:  33% |##############                             | ETA:  3:24:37\r"
     ]
    },
    {
     "name": "stdout",
     "output_type": "stream",
     "text": [
      "game:  661 , mean loss: 18.39 , recent outcomes:  [-1, 1, 1, 1, 0, 1, -1, 1, 1, -1]\n"
     ]
    },
    {
     "name": "stderr",
     "output_type": "stream",
     "text": [
      "training loop:  33% |##############                             | ETA:  3:23:00\r"
     ]
    },
    {
     "name": "stdout",
     "output_type": "stream",
     "text": [
      "game:  671 , mean loss: 15.29 , recent outcomes:  [1, 1, 1, -1, 1, 1, 1, 1, 1, 1]\n"
     ]
    },
    {
     "name": "stderr",
     "output_type": "stream",
     "text": [
      "training loop:  34% |##############                             | ETA:  3:20:11\r"
     ]
    },
    {
     "name": "stdout",
     "output_type": "stream",
     "text": [
      "game:  681 , mean loss: 9.97 , recent outcomes:  [1, 1, -1, 1, 1, 1, 1, 1, 1, 1]\n"
     ]
    },
    {
     "name": "stderr",
     "output_type": "stream",
     "text": [
      "training loop:  34% |##############                             | ETA:  3:17:29\r"
     ]
    },
    {
     "name": "stdout",
     "output_type": "stream",
     "text": [
      "game:  691 , mean loss: 6.19 , recent outcomes:  [1, 1, 1, 1, 1, 1, 1, 1, 1, 1]\n"
     ]
    },
    {
     "name": "stderr",
     "output_type": "stream",
     "text": [
      "training loop:  35% |###############                            | ETA:  3:15:12\r"
     ]
    },
    {
     "name": "stdout",
     "output_type": "stream",
     "text": [
      "game:  701 , mean loss: 6.45 , recent outcomes:  [1, 1, 1, 1, 1, 0, 1, 1, 1, 1]\n"
     ]
    },
    {
     "name": "stderr",
     "output_type": "stream",
     "text": [
      "training loop:  35% |###############                            | ETA:  3:14:03\r"
     ]
    },
    {
     "name": "stdout",
     "output_type": "stream",
     "text": [
      "game:  711 , mean loss: 8.39 , recent outcomes:  [1, 1, 1, 1, 1, 1, 1, 1, 1, 1]\n"
     ]
    },
    {
     "name": "stderr",
     "output_type": "stream",
     "text": [
      "training loop:  36% |###############                            | ETA:  3:12:13\r"
     ]
    },
    {
     "name": "stdout",
     "output_type": "stream",
     "text": [
      "game:  721 , mean loss: 9.62 , recent outcomes:  [1, 1, 1, 1, 1, 1, 1, -1, 1, 1]\n"
     ]
    },
    {
     "name": "stderr",
     "output_type": "stream",
     "text": [
      "training loop:  36% |###############                            | ETA:  3:10:11\r"
     ]
    },
    {
     "name": "stdout",
     "output_type": "stream",
     "text": [
      "game:  731 , mean loss: 8.78 , recent outcomes:  [1, 1, 1, -1, 1, 1, 1, 1, 1, 1]\n"
     ]
    },
    {
     "name": "stderr",
     "output_type": "stream",
     "text": [
      "training loop:  37% |###############                            | ETA:  3:08:38\r"
     ]
    },
    {
     "name": "stdout",
     "output_type": "stream",
     "text": [
      "game:  741 , mean loss: 5.88 , recent outcomes:  [1, 1, 1, 1, 1, 1, 1, 1, 1, 1]\n"
     ]
    },
    {
     "name": "stderr",
     "output_type": "stream",
     "text": [
      "training loop:  37% |################                           | ETA:  3:06:41\r"
     ]
    },
    {
     "name": "stdout",
     "output_type": "stream",
     "text": [
      "game:  751 , mean loss: 4.51 , recent outcomes:  [1, 1, 1, 1, 1, 1, 1, 1, 1, 1]\n"
     ]
    },
    {
     "name": "stderr",
     "output_type": "stream",
     "text": [
      "training loop:  38% |################                           | ETA:  3:04:59\r"
     ]
    },
    {
     "name": "stdout",
     "output_type": "stream",
     "text": [
      "game:  761 , mean loss: 6.57 , recent outcomes:  [1, 1, -1, 1, 1, 1, 1, 1, 1, 1]\n"
     ]
    },
    {
     "name": "stderr",
     "output_type": "stream",
     "text": [
      "training loop:  38% |################                           | ETA:  3:02:50\r"
     ]
    },
    {
     "name": "stdout",
     "output_type": "stream",
     "text": [
      "game:  771 , mean loss: 11.60 , recent outcomes:  [1, 1, 1, 1, 1, 1, -1, 1, 1, 1]\n"
     ]
    },
    {
     "name": "stderr",
     "output_type": "stream",
     "text": [
      "training loop:  39% |################                           | ETA:  3:00:31\r"
     ]
    },
    {
     "name": "stdout",
     "output_type": "stream",
     "text": [
      "game:  781 , mean loss: 11.97 , recent outcomes:  [1, 1, 1, 1, 1, 1, 1, 1, 1, -1]\n"
     ]
    },
    {
     "name": "stderr",
     "output_type": "stream",
     "text": [
      "training loop:  39% |#################                          | ETA:  2:59:04\r"
     ]
    },
    {
     "name": "stdout",
     "output_type": "stream",
     "text": [
      "game:  791 , mean loss: 11.11 , recent outcomes:  [1, 1, 1, 1, 1, 1, -1, 1, 1, 1]\n"
     ]
    },
    {
     "name": "stderr",
     "output_type": "stream",
     "text": [
      "training loop:  40% |#################                          | ETA:  2:57:26\r"
     ]
    },
    {
     "name": "stdout",
     "output_type": "stream",
     "text": [
      "game:  801 , mean loss: 11.89 , recent outcomes:  [1, -1, 1, 1, 1, 1, 1, 1, -1, 1]\n"
     ]
    },
    {
     "name": "stderr",
     "output_type": "stream",
     "text": [
      "training loop:  40% |#################                          | ETA:  2:56:04\r"
     ]
    },
    {
     "name": "stdout",
     "output_type": "stream",
     "text": [
      "game:  811 , mean loss: 12.87 , recent outcomes:  [-1, 0, 1, 1, 1, 1, 1, 1, 1, 1]\n"
     ]
    },
    {
     "name": "stderr",
     "output_type": "stream",
     "text": [
      "training loop:  41% |#################                          | ETA:  2:55:05\r"
     ]
    },
    {
     "name": "stdout",
     "output_type": "stream",
     "text": [
      "game:  821 , mean loss: 12.28 , recent outcomes:  [1, 1, 1, 1, 1, 1, 0, -1, 1, 1]\n"
     ]
    },
    {
     "name": "stderr",
     "output_type": "stream",
     "text": [
      "training loop:  41% |#################                          | ETA:  2:53:40\r"
     ]
    },
    {
     "name": "stdout",
     "output_type": "stream",
     "text": [
      "game:  831 , mean loss: 8.43 , recent outcomes:  [1, 1, 1, 1, 1, 1, 1, 1, 1, 1]\n"
     ]
    },
    {
     "name": "stderr",
     "output_type": "stream",
     "text": [
      "training loop:  42% |##################                         | ETA:  2:52:02\r"
     ]
    },
    {
     "name": "stdout",
     "output_type": "stream",
     "text": [
      "game:  841 , mean loss: 5.48 , recent outcomes:  [1, 1, 1, 1, 1, 1, 1, 1, 1, 1]\n"
     ]
    },
    {
     "name": "stderr",
     "output_type": "stream",
     "text": [
      "training loop:  42% |##################                         | ETA:  2:50:24\r"
     ]
    },
    {
     "name": "stdout",
     "output_type": "stream",
     "text": [
      "game:  851 , mean loss: 6.25 , recent outcomes:  [1, 1, 1, 1, 1, -1, 1, 1, 1, 1]\n"
     ]
    },
    {
     "name": "stderr",
     "output_type": "stream",
     "text": [
      "training loop:  43% |##################                         | ETA:  2:48:29\r"
     ]
    },
    {
     "name": "stdout",
     "output_type": "stream",
     "text": [
      "game:  861 , mean loss: 5.18 , recent outcomes:  [1, 1, 1, 1, 1, 1, 1, 1, 1, 1]\n"
     ]
    },
    {
     "name": "stderr",
     "output_type": "stream",
     "text": [
      "training loop:  43% |##################                         | ETA:  2:46:37\r"
     ]
    },
    {
     "name": "stdout",
     "output_type": "stream",
     "text": [
      "game:  871 , mean loss: 2.65 , recent outcomes:  [1, 1, 1, 1, 1, 1, 1, 1, 1, 1]\n"
     ]
    },
    {
     "name": "stderr",
     "output_type": "stream",
     "text": [
      "training loop:  44% |##################                         | ETA:  2:44:38\r"
     ]
    },
    {
     "name": "stdout",
     "output_type": "stream",
     "text": [
      "game:  881 , mean loss: 3.12 , recent outcomes:  [1, 1, 1, 1, 1, 1, 1, 1, 1, 1]\n"
     ]
    },
    {
     "name": "stderr",
     "output_type": "stream",
     "text": [
      "training loop:  44% |###################                        | ETA:  2:43:02\r"
     ]
    },
    {
     "name": "stdout",
     "output_type": "stream",
     "text": [
      "game:  891 , mean loss: 3.25 , recent outcomes:  [1, 1, 1, 1, 1, 1, 1, 1, 1, 1]\n"
     ]
    },
    {
     "name": "stderr",
     "output_type": "stream",
     "text": [
      "training loop:  45% |###################                        | ETA:  2:41:11\r"
     ]
    },
    {
     "name": "stdout",
     "output_type": "stream",
     "text": [
      "game:  901 , mean loss: 8.64 , recent outcomes:  [1, -1, 1, 1, 1, 1, 1, 1, 1, -1]\n"
     ]
    },
    {
     "name": "stderr",
     "output_type": "stream",
     "text": [
      "training loop:  45% |###################                        | ETA:  2:39:29\r"
     ]
    },
    {
     "name": "stdout",
     "output_type": "stream",
     "text": [
      "game:  911 , mean loss: 8.26 , recent outcomes:  [1, 1, 1, 1, 1, 1, 1, 1, 1, 1]\n"
     ]
    },
    {
     "name": "stderr",
     "output_type": "stream",
     "text": [
      "training loop:  46% |###################                        | ETA:  2:37:49\r"
     ]
    },
    {
     "name": "stdout",
     "output_type": "stream",
     "text": [
      "game:  921 , mean loss: 5.63 , recent outcomes:  [1, -1, 1, 1, 1, 1, 1, 1, 1, 1]\n"
     ]
    },
    {
     "name": "stderr",
     "output_type": "stream",
     "text": [
      "training loop:  46% |####################                       | ETA:  2:36:30\r"
     ]
    },
    {
     "name": "stdout",
     "output_type": "stream",
     "text": [
      "game:  931 , mean loss: 7.37 , recent outcomes:  [1, 1, 1, 1, 1, 1, 1, 1, 1, 1]\n"
     ]
    },
    {
     "name": "stderr",
     "output_type": "stream",
     "text": [
      "training loop:  47% |####################                       | ETA:  2:34:43\r"
     ]
    },
    {
     "name": "stdout",
     "output_type": "stream",
     "text": [
      "game:  941 , mean loss: 5.08 , recent outcomes:  [1, 1, 1, 1, 1, 1, 1, 1, 1, 1]\n"
     ]
    },
    {
     "name": "stderr",
     "output_type": "stream",
     "text": [
      "training loop:  47% |####################                       | ETA:  2:32:50\r"
     ]
    },
    {
     "name": "stdout",
     "output_type": "stream",
     "text": [
      "game:  951 , mean loss: 3.31 , recent outcomes:  [1, 1, 1, 1, 1, 1, 1, 1, 1, 1]\n"
     ]
    },
    {
     "name": "stderr",
     "output_type": "stream",
     "text": [
      "training loop:  48% |####################                       | ETA:  2:31:06\r"
     ]
    },
    {
     "name": "stdout",
     "output_type": "stream",
     "text": [
      "game:  961 , mean loss: 6.87 , recent outcomes:  [1, 1, 1, 1, 1, 1, 1, 1, -1, 1]\n"
     ]
    },
    {
     "name": "stderr",
     "output_type": "stream",
     "text": [
      "training loop:  48% |####################                       | ETA:  2:30:02\r"
     ]
    },
    {
     "name": "stdout",
     "output_type": "stream",
     "text": [
      "game:  971 , mean loss: 12.79 , recent outcomes:  [1, 1, 1, 1, 1, -1, 1, 1, 1, 1]\n"
     ]
    },
    {
     "name": "stderr",
     "output_type": "stream",
     "text": [
      "training loop:  49% |#####################                      | ETA:  2:29:04\r"
     ]
    },
    {
     "name": "stdout",
     "output_type": "stream",
     "text": [
      "game:  981 , mean loss: 12.13 , recent outcomes:  [1, -1, 1, 1, 1, 1, 1, 1, 1, 1]\n"
     ]
    },
    {
     "name": "stderr",
     "output_type": "stream",
     "text": [
      "training loop:  49% |#####################                      | ETA:  2:27:30\r"
     ]
    },
    {
     "name": "stdout",
     "output_type": "stream",
     "text": [
      "game:  991 , mean loss: 10.21 , recent outcomes:  [1, -1, 1, 1, 1, 1, 1, 1, 1, 1]\n"
     ]
    },
    {
     "name": "stderr",
     "output_type": "stream",
     "text": [
      "training loop:  50% |#####################                      | ETA:  2:25:54\r"
     ]
    },
    {
     "name": "stdout",
     "output_type": "stream",
     "text": [
      "game:  1001 , mean loss: 14.93 , recent outcomes:  [1, -1, 1, 1, 1, -1, 1, 1, 1, -1]\n"
     ]
    },
    {
     "name": "stderr",
     "output_type": "stream",
     "text": [
      "training loop:  50% |#####################                      | ETA:  2:24:09\r"
     ]
    },
    {
     "name": "stdout",
     "output_type": "stream",
     "text": [
      "game:  1011 , mean loss: 13.34 , recent outcomes:  [1, 1, 1, 1, 1, 1, 1, 1, -1, 1]\n"
     ]
    },
    {
     "name": "stderr",
     "output_type": "stream",
     "text": [
      "training loop:  51% |#####################                      | ETA:  2:22:39\r"
     ]
    },
    {
     "name": "stdout",
     "output_type": "stream",
     "text": [
      "game:  1021 , mean loss: 5.32 , recent outcomes:  [1, 1, 1, 1, 1, 1, 1, 1, 1, 1]\n"
     ]
    },
    {
     "name": "stderr",
     "output_type": "stream",
     "text": [
      "training loop:  51% |######################                     | ETA:  2:20:48\r"
     ]
    },
    {
     "name": "stdout",
     "output_type": "stream",
     "text": [
      "game:  1031 , mean loss: 3.19 , recent outcomes:  [1, 1, 1, 1, 1, 1, 1, 1, 1, 1]\n"
     ]
    },
    {
     "name": "stderr",
     "output_type": "stream",
     "text": [
      "training loop:  52% |######################                     | ETA:  2:19:03\r"
     ]
    },
    {
     "name": "stdout",
     "output_type": "stream",
     "text": [
      "game:  1041 , mean loss: 4.02 , recent outcomes:  [1, 1, 1, 1, 1, 1, 1, 1, 1, 1]\n"
     ]
    },
    {
     "name": "stderr",
     "output_type": "stream",
     "text": [
      "training loop:  52% |######################                     | ETA:  2:17:28\r"
     ]
    },
    {
     "name": "stdout",
     "output_type": "stream",
     "text": [
      "game:  1051 , mean loss: 4.41 , recent outcomes:  [1, 1, 1, 1, 1, 1, 1, 1, 1, 1]\n"
     ]
    },
    {
     "name": "stderr",
     "output_type": "stream",
     "text": [
      "training loop:  53% |######################                     | ETA:  2:15:44\r"
     ]
    },
    {
     "name": "stdout",
     "output_type": "stream",
     "text": [
      "game:  1061 , mean loss: 3.21 , recent outcomes:  [1, 1, 1, 1, 1, 1, 1, 1, 1, 1]\n"
     ]
    },
    {
     "name": "stderr",
     "output_type": "stream",
     "text": [
      "training loop:  53% |#######################                    | ETA:  2:13:58\r"
     ]
    },
    {
     "name": "stdout",
     "output_type": "stream",
     "text": [
      "game:  1071 , mean loss: 6.44 , recent outcomes:  [1, 1, 1, 1, -1, -1, 1, 1, 1, 1]\n"
     ]
    },
    {
     "name": "stderr",
     "output_type": "stream",
     "text": [
      "training loop:  54% |#######################                    | ETA:  2:12:10\r"
     ]
    },
    {
     "name": "stdout",
     "output_type": "stream",
     "text": [
      "game:  1081 , mean loss: 9.75 , recent outcomes:  [1, 1, -1, 1, -1, 1, 1, 1, 1, 1]\n"
     ]
    },
    {
     "name": "stderr",
     "output_type": "stream",
     "text": [
      "training loop:  54% |#######################                    | ETA:  2:10:13\r"
     ]
    },
    {
     "name": "stdout",
     "output_type": "stream",
     "text": [
      "game:  1091 , mean loss: 6.34 , recent outcomes:  [1, 1, 1, 1, 1, 1, 1, 1, 1, 1]\n"
     ]
    },
    {
     "name": "stderr",
     "output_type": "stream",
     "text": [
      "training loop:  55% |#######################                    | ETA:  2:08:38\r"
     ]
    },
    {
     "name": "stdout",
     "output_type": "stream",
     "text": [
      "game:  1101 , mean loss: 7.21 , recent outcomes:  [0, 1, 1, -1, 1, 1, 1, 1, 1, 1]\n"
     ]
    },
    {
     "name": "stderr",
     "output_type": "stream",
     "text": [
      "training loop:  55% |#######################                    | ETA:  2:07:00\r"
     ]
    },
    {
     "name": "stdout",
     "output_type": "stream",
     "text": [
      "game:  1111 , mean loss: 10.58 , recent outcomes:  [1, 1, 1, 1, 1, 1, 1, -1, 1, 1]\n"
     ]
    },
    {
     "name": "stderr",
     "output_type": "stream",
     "text": [
      "training loop:  56% |########################                   | ETA:  2:05:14\r"
     ]
    },
    {
     "name": "stdout",
     "output_type": "stream",
     "text": [
      "game:  1121 , mean loss: 8.15 , recent outcomes:  [1, 1, 1, 1, 1, 1, -1, 1, 1, 1]\n"
     ]
    },
    {
     "name": "stderr",
     "output_type": "stream",
     "text": [
      "training loop:  56% |########################                   | ETA:  2:03:26\r"
     ]
    },
    {
     "name": "stdout",
     "output_type": "stream",
     "text": [
      "game:  1131 , mean loss: 4.82 , recent outcomes:  [1, 1, 1, 1, 1, 1, 1, 1, 1, 1]\n"
     ]
    },
    {
     "name": "stderr",
     "output_type": "stream",
     "text": [
      "training loop:  57% |########################                   | ETA:  2:01:38\r"
     ]
    },
    {
     "name": "stdout",
     "output_type": "stream",
     "text": [
      "game:  1141 , mean loss: 2.96 , recent outcomes:  [1, 1, 1, 1, 1, 1, 1, 1, 1, 1]\n"
     ]
    },
    {
     "name": "stderr",
     "output_type": "stream",
     "text": [
      "training loop:  57% |########################                   | ETA:  2:00:01\r"
     ]
    },
    {
     "name": "stdout",
     "output_type": "stream",
     "text": [
      "game:  1151 , mean loss: 3.08 , recent outcomes:  [1, 1, 1, 1, 1, 1, 1, 1, 1, 1]\n"
     ]
    },
    {
     "name": "stderr",
     "output_type": "stream",
     "text": [
      "training loop:  58% |########################                   | ETA:  1:58:11\r"
     ]
    },
    {
     "name": "stdout",
     "output_type": "stream",
     "text": [
      "game:  1161 , mean loss: 2.47 , recent outcomes:  [1, 1, 1, 1, 1, 1, 1, 1, 1, 1]\n"
     ]
    },
    {
     "name": "stderr",
     "output_type": "stream",
     "text": [
      "training loop:  58% |#########################                  | ETA:  1:56:23\r"
     ]
    },
    {
     "name": "stdout",
     "output_type": "stream",
     "text": [
      "game:  1171 , mean loss: 2.51 , recent outcomes:  [1, 1, 1, 1, 1, 1, 1, 1, 1, 1]\n"
     ]
    },
    {
     "name": "stderr",
     "output_type": "stream",
     "text": [
      "training loop:  59% |#########################                  | ETA:  1:54:47\r"
     ]
    },
    {
     "name": "stdout",
     "output_type": "stream",
     "text": [
      "game:  1181 , mean loss: 3.61 , recent outcomes:  [1, 1, 1, 1, 1, 1, 1, 1, 1, 1]\n"
     ]
    },
    {
     "name": "stderr",
     "output_type": "stream",
     "text": [
      "training loop:  59% |#########################                  | ETA:  1:53:10\r"
     ]
    },
    {
     "name": "stdout",
     "output_type": "stream",
     "text": [
      "game:  1191 , mean loss: 3.35 , recent outcomes:  [1, 1, 1, 1, 1, 1, 1, 1, 1, 1]\n"
     ]
    },
    {
     "name": "stderr",
     "output_type": "stream",
     "text": [
      "training loop:  60% |#########################                  | ETA:  1:51:40\r"
     ]
    },
    {
     "name": "stdout",
     "output_type": "stream",
     "text": [
      "game:  1201 , mean loss: 5.35 , recent outcomes:  [1, 1, 1, -1, 1, 1, 1, 1, 1, 1]\n"
     ]
    },
    {
     "name": "stderr",
     "output_type": "stream",
     "text": [
      "training loop:  60% |##########################                 | ETA:  1:50:08\r"
     ]
    },
    {
     "name": "stdout",
     "output_type": "stream",
     "text": [
      "game:  1211 , mean loss: 5.37 , recent outcomes:  [1, 1, 1, 1, 1, 1, 1, 1, 1, 1]\n"
     ]
    },
    {
     "name": "stderr",
     "output_type": "stream",
     "text": [
      "training loop:  61% |##########################                 | ETA:  1:48:31\r"
     ]
    },
    {
     "name": "stdout",
     "output_type": "stream",
     "text": [
      "game:  1221 , mean loss: 3.06 , recent outcomes:  [1, 1, 1, 1, 1, 1, 1, 1, 1, 1]\n"
     ]
    },
    {
     "name": "stderr",
     "output_type": "stream",
     "text": [
      "training loop:  61% |##########################                 | ETA:  1:46:57\r"
     ]
    },
    {
     "name": "stdout",
     "output_type": "stream",
     "text": [
      "game:  1231 , mean loss: 5.10 , recent outcomes:  [1, 1, 1, -1, 1, 1, 1, 1, 1, 1]\n"
     ]
    },
    {
     "name": "stderr",
     "output_type": "stream",
     "text": [
      "training loop:  62% |##########################                 | ETA:  1:45:26\r"
     ]
    },
    {
     "name": "stdout",
     "output_type": "stream",
     "text": [
      "game:  1241 , mean loss: 7.13 , recent outcomes:  [1, -1, 1, 1, 1, 1, 1, 1, 1, 1]\n"
     ]
    },
    {
     "name": "stderr",
     "output_type": "stream",
     "text": [
      "training loop:  62% |##########################                 | ETA:  1:43:56\r"
     ]
    },
    {
     "name": "stdout",
     "output_type": "stream",
     "text": [
      "game:  1251 , mean loss: 6.13 , recent outcomes:  [1, 1, 1, 1, -1, 1, 1, 1, 1, 1]\n"
     ]
    },
    {
     "name": "stderr",
     "output_type": "stream",
     "text": [
      "training loop:  63% |###########################                | ETA:  1:42:22\r"
     ]
    },
    {
     "name": "stdout",
     "output_type": "stream",
     "text": [
      "game:  1261 , mean loss: 3.08 , recent outcomes:  [1, 1, 1, 1, 1, 1, 1, 1, 1, 1]\n"
     ]
    },
    {
     "name": "stderr",
     "output_type": "stream",
     "text": [
      "training loop:  63% |###########################                | ETA:  1:40:56\r"
     ]
    },
    {
     "name": "stdout",
     "output_type": "stream",
     "text": [
      "game:  1271 , mean loss: 4.58 , recent outcomes:  [1, 1, 1, 1, 1, -1, 1, 1, 1, 1]\n"
     ]
    },
    {
     "name": "stderr",
     "output_type": "stream",
     "text": [
      "training loop:  64% |###########################                | ETA:  1:39:24\r"
     ]
    },
    {
     "name": "stdout",
     "output_type": "stream",
     "text": [
      "game:  1281 , mean loss: 4.95 , recent outcomes:  [1, 1, 1, 1, 1, 1, 1, 1, 1, 1]\n"
     ]
    },
    {
     "name": "stderr",
     "output_type": "stream",
     "text": [
      "training loop:  64% |###########################                | ETA:  1:37:55\r"
     ]
    },
    {
     "name": "stdout",
     "output_type": "stream",
     "text": [
      "game:  1291 , mean loss: 3.29 , recent outcomes:  [1, 1, 1, 1, 1, -1, 1, 1, 1, 1]\n"
     ]
    },
    {
     "name": "stderr",
     "output_type": "stream",
     "text": [
      "training loop:  65% |###########################                | ETA:  1:36:21\r"
     ]
    },
    {
     "name": "stdout",
     "output_type": "stream",
     "text": [
      "game:  1301 , mean loss: 3.34 , recent outcomes:  [1, 1, 1, 1, 1, 1, 1, 1, 1, 1]\n"
     ]
    },
    {
     "name": "stderr",
     "output_type": "stream",
     "text": [
      "training loop:  65% |############################               | ETA:  1:34:42\r"
     ]
    },
    {
     "name": "stdout",
     "output_type": "stream",
     "text": [
      "game:  1311 , mean loss: 1.80 , recent outcomes:  [1, 1, 1, 1, 1, 1, 1, 1, 1, 1]\n"
     ]
    },
    {
     "name": "stderr",
     "output_type": "stream",
     "text": [
      "training loop:  66% |############################               | ETA:  1:33:03\r"
     ]
    },
    {
     "name": "stdout",
     "output_type": "stream",
     "text": [
      "game:  1321 , mean loss: 5.16 , recent outcomes:  [1, 1, 1, 1, 1, 1, -1, 1, 1, 1]\n"
     ]
    },
    {
     "name": "stderr",
     "output_type": "stream",
     "text": [
      "training loop:  66% |############################               | ETA:  1:31:27\r"
     ]
    },
    {
     "name": "stdout",
     "output_type": "stream",
     "text": [
      "game:  1331 , mean loss: 13.28 , recent outcomes:  [1, 1, -1, 1, -1, 1, 1, 1, 1, -1]\n"
     ]
    },
    {
     "name": "stderr",
     "output_type": "stream",
     "text": [
      "training loop:  67% |############################               | ETA:  1:29:49\r"
     ]
    },
    {
     "name": "stdout",
     "output_type": "stream",
     "text": [
      "game:  1341 , mean loss: 12.65 , recent outcomes:  [1, 1, 1, 1, 1, 1, 1, -1, 1, 1]\n"
     ]
    },
    {
     "name": "stderr",
     "output_type": "stream",
     "text": [
      "training loop:  67% |#############################              | ETA:  1:28:21\r"
     ]
    },
    {
     "name": "stdout",
     "output_type": "stream",
     "text": [
      "game:  1351 , mean loss: 8.13 , recent outcomes:  [1, -1, 1, 1, 1, 1, 1, 1, 1, 1]\n"
     ]
    },
    {
     "name": "stderr",
     "output_type": "stream",
     "text": [
      "training loop:  68% |#############################              | ETA:  1:26:48\r"
     ]
    },
    {
     "name": "stdout",
     "output_type": "stream",
     "text": [
      "game:  1361 , mean loss: 8.26 , recent outcomes:  [1, 1, 1, 1, 1, 1, 1, 1, 1, -1]\n"
     ]
    },
    {
     "name": "stderr",
     "output_type": "stream",
     "text": [
      "training loop:  68% |#############################              | ETA:  1:25:14\r"
     ]
    },
    {
     "name": "stdout",
     "output_type": "stream",
     "text": [
      "game:  1371 , mean loss: 5.82 , recent outcomes:  [1, 1, 1, 1, 1, 1, 1, 1, 1, 1]\n"
     ]
    },
    {
     "name": "stderr",
     "output_type": "stream",
     "text": [
      "training loop:  69% |#############################              | ETA:  1:24:04\r"
     ]
    },
    {
     "name": "stdout",
     "output_type": "stream",
     "text": [
      "game:  1381 , mean loss: 10.27 , recent outcomes:  [1, -1, 1, -1, 1, 1, 0, 1, 1, 0]\n"
     ]
    },
    {
     "name": "stderr",
     "output_type": "stream",
     "text": [
      "training loop:  69% |#############################              | ETA:  1:22:37\r"
     ]
    },
    {
     "name": "stdout",
     "output_type": "stream",
     "text": [
      "game:  1391 , mean loss: 11.05 , recent outcomes:  [1, 1, 1, 1, 1, 1, 1, 1, 1, 1]\n"
     ]
    },
    {
     "name": "stderr",
     "output_type": "stream",
     "text": [
      "training loop:  70% |##############################             | ETA:  1:21:13\r"
     ]
    },
    {
     "name": "stdout",
     "output_type": "stream",
     "text": [
      "game:  1401 , mean loss: 8.20 , recent outcomes:  [1, 1, 1, 1, 1, 1, 1, 1, 1, -1]\n"
     ]
    },
    {
     "name": "stderr",
     "output_type": "stream",
     "text": [
      "training loop:  70% |##############################             | ETA:  1:19:48\r"
     ]
    },
    {
     "name": "stdout",
     "output_type": "stream",
     "text": [
      "game:  1411 , mean loss: 6.82 , recent outcomes:  [1, 1, 1, 1, 1, 1, 1, 1, 1, 1]\n"
     ]
    },
    {
     "name": "stderr",
     "output_type": "stream",
     "text": [
      "training loop:  71% |##############################             | ETA:  1:18:23\r"
     ]
    },
    {
     "name": "stdout",
     "output_type": "stream",
     "text": [
      "game:  1421 , mean loss: 2.89 , recent outcomes:  [1, 1, 1, 1, 1, 1, 1, 1, 1, 1]\n"
     ]
    },
    {
     "name": "stderr",
     "output_type": "stream",
     "text": [
      "training loop:  71% |##############################             | ETA:  1:16:55\r"
     ]
    },
    {
     "name": "stdout",
     "output_type": "stream",
     "text": [
      "game:  1431 , mean loss: 2.20 , recent outcomes:  [1, 1, 1, 1, 1, 1, 1, 1, 1, 1]\n"
     ]
    },
    {
     "name": "stderr",
     "output_type": "stream",
     "text": [
      "training loop:  72% |##############################             | ETA:  1:15:28\r"
     ]
    },
    {
     "name": "stdout",
     "output_type": "stream",
     "text": [
      "game:  1441 , mean loss: 4.38 , recent outcomes:  [1, 1, 1, 1, -1, 1, 1, 1, 1, 1]\n"
     ]
    },
    {
     "name": "stderr",
     "output_type": "stream",
     "text": [
      "training loop:  72% |###############################            | ETA:  1:13:58\r"
     ]
    },
    {
     "name": "stdout",
     "output_type": "stream",
     "text": [
      "game:  1451 , mean loss: 6.71 , recent outcomes:  [1, 1, 1, 1, -1, 1, 1, 1, 1, 1]\n"
     ]
    },
    {
     "name": "stderr",
     "output_type": "stream",
     "text": [
      "training loop:  73% |###############################            | ETA:  1:12:35\r"
     ]
    },
    {
     "name": "stdout",
     "output_type": "stream",
     "text": [
      "game:  1461 , mean loss: 4.04 , recent outcomes:  [1, 1, 1, 1, 1, 1, 1, 1, 1, 1]\n"
     ]
    },
    {
     "name": "stderr",
     "output_type": "stream",
     "text": [
      "training loop:  73% |###############################            | ETA:  1:11:09\r"
     ]
    },
    {
     "name": "stdout",
     "output_type": "stream",
     "text": [
      "game:  1471 , mean loss: 3.74 , recent outcomes:  [1, 1, 1, 1, 1, 1, 1, -1, 1, 1]\n"
     ]
    },
    {
     "name": "stderr",
     "output_type": "stream",
     "text": [
      "training loop:  74% |###############################            | ETA:  1:09:41\r"
     ]
    },
    {
     "name": "stdout",
     "output_type": "stream",
     "text": [
      "game:  1481 , mean loss: 3.92 , recent outcomes:  [1, 1, 1, 1, 1, 1, 1, 1, 1, 1]\n"
     ]
    },
    {
     "name": "stderr",
     "output_type": "stream",
     "text": [
      "training loop:  74% |################################           | ETA:  1:08:17\r"
     ]
    },
    {
     "name": "stdout",
     "output_type": "stream",
     "text": [
      "game:  1491 , mean loss: 2.36 , recent outcomes:  [1, 1, 1, 1, 1, 1, 1, 1, 1, 1]\n"
     ]
    },
    {
     "name": "stderr",
     "output_type": "stream",
     "text": [
      "training loop:  75% |################################           | ETA:  1:06:55\r"
     ]
    },
    {
     "name": "stdout",
     "output_type": "stream",
     "text": [
      "game:  1501 , mean loss: 5.78 , recent outcomes:  [1, 1, -1, 1, 1, 1, 1, 1, 1, 1]\n"
     ]
    },
    {
     "name": "stderr",
     "output_type": "stream",
     "text": [
      "training loop:  75% |################################           | ETA:  1:05:30\r"
     ]
    },
    {
     "name": "stdout",
     "output_type": "stream",
     "text": [
      "game:  1511 , mean loss: 5.86 , recent outcomes:  [1, 1, 1, 1, 1, 1, 1, 1, 1, 1]\n"
     ]
    },
    {
     "name": "stderr",
     "output_type": "stream",
     "text": [
      "training loop:  76% |################################           | ETA:  1:03:59\r"
     ]
    },
    {
     "name": "stdout",
     "output_type": "stream",
     "text": [
      "game:  1521 , mean loss: 2.14 , recent outcomes:  [1, 1, 1, 1, 1, 1, 1, 1, 1, 1]\n"
     ]
    },
    {
     "name": "stderr",
     "output_type": "stream",
     "text": [
      "training loop:  76% |################################           | ETA:  1:02:31\r"
     ]
    },
    {
     "name": "stdout",
     "output_type": "stream",
     "text": [
      "game:  1531 , mean loss: 1.78 , recent outcomes:  [1, 1, 1, 1, 1, 1, 1, 1, 1, 1]\n"
     ]
    },
    {
     "name": "stderr",
     "output_type": "stream",
     "text": [
      "training loop:  77% |#################################          | ETA:  1:01:02\r"
     ]
    },
    {
     "name": "stdout",
     "output_type": "stream",
     "text": [
      "game:  1541 , mean loss: 2.74 , recent outcomes:  [1, 1, 1, 1, 1, 1, 1, 1, 1, 1]\n"
     ]
    },
    {
     "name": "stderr",
     "output_type": "stream",
     "text": [
      "training loop:  77% |#################################          | ETA:  0:59:36\r"
     ]
    },
    {
     "name": "stdout",
     "output_type": "stream",
     "text": [
      "game:  1551 , mean loss: 2.95 , recent outcomes:  [1, 1, 1, 1, 1, 1, 1, 1, 1, 1]\n"
     ]
    },
    {
     "name": "stderr",
     "output_type": "stream",
     "text": [
      "training loop:  78% |#################################          | ETA:  0:58:09\r"
     ]
    },
    {
     "name": "stdout",
     "output_type": "stream",
     "text": [
      "game:  1561 , mean loss: 1.75 , recent outcomes:  [1, 1, 1, 1, 1, 1, 1, 1, 1, 1]\n"
     ]
    },
    {
     "name": "stderr",
     "output_type": "stream",
     "text": [
      "training loop:  78% |#################################          | ETA:  0:56:44\r"
     ]
    },
    {
     "name": "stdout",
     "output_type": "stream",
     "text": [
      "game:  1571 , mean loss: 4.36 , recent outcomes:  [1, 1, 1, 1, 1, 1, 1, 1, -1, 1]\n"
     ]
    },
    {
     "name": "stderr",
     "output_type": "stream",
     "text": [
      "training loop:  79% |#################################          | ETA:  0:55:16\r"
     ]
    },
    {
     "name": "stdout",
     "output_type": "stream",
     "text": [
      "game:  1581 , mean loss: 4.99 , recent outcomes:  [1, 1, 1, 1, 1, 1, 1, 1, 1, 1]\n"
     ]
    },
    {
     "name": "stderr",
     "output_type": "stream",
     "text": [
      "training loop:  79% |##################################         | ETA:  0:53:52\r"
     ]
    },
    {
     "name": "stdout",
     "output_type": "stream",
     "text": [
      "game:  1591 , mean loss: 7.33 , recent outcomes:  [1, 1, -1, 1, 1, 1, 1, 1, 1, 1]\n"
     ]
    },
    {
     "name": "stderr",
     "output_type": "stream",
     "text": [
      "training loop:  80% |##################################         | ETA:  0:52:26\r"
     ]
    },
    {
     "name": "stdout",
     "output_type": "stream",
     "text": [
      "game:  1601 , mean loss: 7.63 , recent outcomes:  [1, 1, 1, 1, 1, 1, 1, 1, 1, 1]\n"
     ]
    },
    {
     "name": "stderr",
     "output_type": "stream",
     "text": [
      "training loop:  80% |##################################         | ETA:  0:51:02\r"
     ]
    },
    {
     "name": "stdout",
     "output_type": "stream",
     "text": [
      "game:  1611 , mean loss: 3.34 , recent outcomes:  [1, 1, 1, 1, 1, 1, 1, 1, 1, 1]\n"
     ]
    },
    {
     "name": "stderr",
     "output_type": "stream",
     "text": [
      "training loop:  81% |##################################         | ETA:  0:49:40\r"
     ]
    },
    {
     "name": "stdout",
     "output_type": "stream",
     "text": [
      "game:  1621 , mean loss: 5.82 , recent outcomes:  [1, 1, 1, 1, 1, -1, 1, 1, 1, 1]\n"
     ]
    },
    {
     "name": "stderr",
     "output_type": "stream",
     "text": [
      "training loop:  81% |###################################        | ETA:  0:48:17\r"
     ]
    },
    {
     "name": "stdout",
     "output_type": "stream",
     "text": [
      "game:  1631 , mean loss: 5.44 , recent outcomes:  [1, 1, 1, 1, 1, 1, 1, 1, 1, 1]\n"
     ]
    },
    {
     "name": "stderr",
     "output_type": "stream",
     "text": [
      "training loop:  82% |###################################        | ETA:  0:46:57\r"
     ]
    },
    {
     "name": "stdout",
     "output_type": "stream",
     "text": [
      "game:  1641 , mean loss: 5.87 , recent outcomes:  [-1, 1, 1, 1, 1, -1, 1, 1, 1, 1]\n"
     ]
    },
    {
     "name": "stderr",
     "output_type": "stream",
     "text": [
      "training loop:  82% |###################################        | ETA:  0:45:35\r"
     ]
    },
    {
     "name": "stdout",
     "output_type": "stream",
     "text": [
      "game:  1651 , mean loss: 7.04 , recent outcomes:  [1, 1, 1, 1, 1, 1, -1, 1, 1, 1]\n"
     ]
    },
    {
     "name": "stderr",
     "output_type": "stream",
     "text": [
      "training loop:  83% |###################################        | ETA:  0:44:12\r"
     ]
    },
    {
     "name": "stdout",
     "output_type": "stream",
     "text": [
      "game:  1661 , mean loss: 3.35 , recent outcomes:  [1, 1, 1, 1, 1, 1, 1, 1, 1, 1]\n"
     ]
    },
    {
     "name": "stderr",
     "output_type": "stream",
     "text": [
      "training loop:  83% |###################################        | ETA:  0:42:52\r"
     ]
    },
    {
     "name": "stdout",
     "output_type": "stream",
     "text": [
      "game:  1671 , mean loss: 4.82 , recent outcomes:  [1, -1, 1, 1, 1, 1, 1, 1, 1, 1]\n"
     ]
    },
    {
     "name": "stderr",
     "output_type": "stream",
     "text": [
      "training loop:  84% |####################################       | ETA:  0:41:30\r"
     ]
    },
    {
     "name": "stdout",
     "output_type": "stream",
     "text": [
      "game:  1681 , mean loss: 5.02 , recent outcomes:  [1, 1, 1, 1, 1, 1, 1, 1, 1, 1]\n"
     ]
    },
    {
     "name": "stderr",
     "output_type": "stream",
     "text": [
      "training loop:  84% |####################################       | ETA:  0:40:07\r"
     ]
    },
    {
     "name": "stdout",
     "output_type": "stream",
     "text": [
      "game:  1691 , mean loss: 2.08 , recent outcomes:  [1, 1, 1, 1, 1, 1, 1, 1, 1, 1]\n"
     ]
    },
    {
     "name": "stderr",
     "output_type": "stream",
     "text": [
      "training loop:  85% |####################################       | ETA:  0:38:46\r"
     ]
    },
    {
     "name": "stdout",
     "output_type": "stream",
     "text": [
      "game:  1701 , mean loss: 1.62 , recent outcomes:  [1, 1, 1, 1, 1, 1, 1, 1, 1, 1]\n"
     ]
    },
    {
     "name": "stderr",
     "output_type": "stream",
     "text": [
      "training loop:  85% |####################################       | ETA:  0:37:27\r"
     ]
    },
    {
     "name": "stdout",
     "output_type": "stream",
     "text": [
      "game:  1711 , mean loss: 1.52 , recent outcomes:  [1, 1, 1, 1, 1, 1, 1, 1, 1, 1]\n"
     ]
    },
    {
     "name": "stderr",
     "output_type": "stream",
     "text": [
      "training loop:  86% |#####################################      | ETA:  0:36:07\r"
     ]
    },
    {
     "name": "stdout",
     "output_type": "stream",
     "text": [
      "game:  1721 , mean loss: 1.72 , recent outcomes:  [1, 1, 1, 1, 1, 1, 1, 1, 1, 1]\n"
     ]
    },
    {
     "name": "stderr",
     "output_type": "stream",
     "text": [
      "training loop:  86% |#####################################      | ETA:  0:34:48\r"
     ]
    },
    {
     "name": "stdout",
     "output_type": "stream",
     "text": [
      "game:  1731 , mean loss: 1.43 , recent outcomes:  [1, 1, 1, 1, 1, 1, 1, 1, 1, 1]\n"
     ]
    },
    {
     "name": "stderr",
     "output_type": "stream",
     "text": [
      "training loop:  87% |#####################################      | ETA:  0:33:28\r"
     ]
    },
    {
     "name": "stdout",
     "output_type": "stream",
     "text": [
      "game:  1741 , mean loss: 1.95 , recent outcomes:  [1, 1, 1, 1, 1, 1, 1, 1, 1, 1]\n"
     ]
    },
    {
     "name": "stderr",
     "output_type": "stream",
     "text": [
      "training loop:  87% |#####################################      | ETA:  0:32:08\r"
     ]
    },
    {
     "name": "stdout",
     "output_type": "stream",
     "text": [
      "game:  1751 , mean loss: 2.44 , recent outcomes:  [1, 1, 1, 1, 1, 1, 1, 1, 1, 1]\n"
     ]
    },
    {
     "name": "stderr",
     "output_type": "stream",
     "text": [
      "training loop:  88% |#####################################      | ETA:  0:30:48\r"
     ]
    },
    {
     "name": "stdout",
     "output_type": "stream",
     "text": [
      "game:  1761 , mean loss: 4.08 , recent outcomes:  [1, 1, -1, 1, 1, 1, 1, 1, 1, 1]\n"
     ]
    },
    {
     "name": "stderr",
     "output_type": "stream",
     "text": [
      "training loop:  88% |######################################     | ETA:  0:29:29\r"
     ]
    },
    {
     "name": "stdout",
     "output_type": "stream",
     "text": [
      "game:  1771 , mean loss: 3.81 , recent outcomes:  [1, 1, 1, 1, 1, 1, 1, 1, 1, 1]\n"
     ]
    },
    {
     "name": "stderr",
     "output_type": "stream",
     "text": [
      "training loop:  89% |######################################     | ETA:  0:28:10\r"
     ]
    },
    {
     "name": "stdout",
     "output_type": "stream",
     "text": [
      "game:  1781 , mean loss: 1.55 , recent outcomes:  [1, 1, 1, 1, 1, 1, 1, 1, 1, 1]\n"
     ]
    },
    {
     "name": "stderr",
     "output_type": "stream",
     "text": [
      "training loop:  89% |######################################     | ETA:  0:26:50\r"
     ]
    },
    {
     "name": "stdout",
     "output_type": "stream",
     "text": [
      "game:  1791 , mean loss: 1.15 , recent outcomes:  [1, 1, 1, 1, 1, 1, 1, 1, 1, 1]\n"
     ]
    },
    {
     "name": "stderr",
     "output_type": "stream",
     "text": [
      "training loop:  90% |######################################     | ETA:  0:25:31\r"
     ]
    },
    {
     "name": "stdout",
     "output_type": "stream",
     "text": [
      "game:  1801 , mean loss: 1.10 , recent outcomes:  [1, 1, 1, 1, 1, 1, 1, 1, 1, 1]\n"
     ]
    },
    {
     "name": "stderr",
     "output_type": "stream",
     "text": [
      "training loop:  90% |######################################     | ETA:  0:24:12\r"
     ]
    },
    {
     "name": "stdout",
     "output_type": "stream",
     "text": [
      "game:  1811 , mean loss: 5.59 , recent outcomes:  [1, -1, 1, 1, 1, 1, 1, 1, -1, 1]\n"
     ]
    },
    {
     "name": "stderr",
     "output_type": "stream",
     "text": [
      "training loop:  91% |#######################################    | ETA:  0:22:53\r"
     ]
    },
    {
     "name": "stdout",
     "output_type": "stream",
     "text": [
      "game:  1821 , mean loss: 10.34 , recent outcomes:  [1, 1, 1, 1, 1, -1, 1, 1, -1, 1]\n"
     ]
    },
    {
     "name": "stderr",
     "output_type": "stream",
     "text": [
      "training loop:  91% |#######################################    | ETA:  0:21:34\r"
     ]
    },
    {
     "name": "stdout",
     "output_type": "stream",
     "text": [
      "game:  1831 , mean loss: 6.05 , recent outcomes:  [1, 1, 1, 1, 1, 1, 1, 1, 1, 1]\n"
     ]
    },
    {
     "name": "stderr",
     "output_type": "stream",
     "text": [
      "training loop:  92% |#######################################    | ETA:  0:20:15\r"
     ]
    },
    {
     "name": "stdout",
     "output_type": "stream",
     "text": [
      "game:  1841 , mean loss: 1.40 , recent outcomes:  [1, 1, 1, 1, 1, 1, 1, 1, 1, 1]\n"
     ]
    },
    {
     "name": "stderr",
     "output_type": "stream",
     "text": [
      "training loop:  92% |#######################################    | ETA:  0:18:55\r"
     ]
    },
    {
     "name": "stdout",
     "output_type": "stream",
     "text": [
      "game:  1851 , mean loss: 1.39 , recent outcomes:  [1, 1, 1, 1, 1, 1, 1, 1, 1, 1]\n"
     ]
    },
    {
     "name": "stderr",
     "output_type": "stream",
     "text": [
      "training loop:  93% |########################################   | ETA:  0:17:36\r"
     ]
    },
    {
     "name": "stdout",
     "output_type": "stream",
     "text": [
      "game:  1861 , mean loss: 1.34 , recent outcomes:  [1, 1, 1, 1, 1, 1, 1, 1, 1, 1]\n"
     ]
    },
    {
     "name": "stderr",
     "output_type": "stream",
     "text": [
      "training loop:  93% |########################################   | ETA:  0:16:18\r"
     ]
    },
    {
     "name": "stdout",
     "output_type": "stream",
     "text": [
      "game:  1871 , mean loss: 1.14 , recent outcomes:  [1, 1, 1, 1, 1, 1, 1, 1, 1, 1]\n"
     ]
    },
    {
     "name": "stderr",
     "output_type": "stream",
     "text": [
      "training loop:  94% |########################################   | ETA:  0:14:59\r"
     ]
    },
    {
     "name": "stdout",
     "output_type": "stream",
     "text": [
      "game:  1881 , mean loss: 1.05 , recent outcomes:  [1, 1, 1, 1, 1, 1, 1, 1, 1, 1]\n"
     ]
    },
    {
     "name": "stderr",
     "output_type": "stream",
     "text": [
      "training loop:  94% |########################################   | ETA:  0:13:41\r"
     ]
    },
    {
     "name": "stdout",
     "output_type": "stream",
     "text": [
      "game:  1891 , mean loss: 1.03 , recent outcomes:  [1, 1, 1, 1, 1, 1, 1, 1, 1, 1]\n"
     ]
    },
    {
     "name": "stderr",
     "output_type": "stream",
     "text": [
      "training loop:  95% |########################################   | ETA:  0:12:24\r"
     ]
    },
    {
     "name": "stdout",
     "output_type": "stream",
     "text": [
      "game:  1901 , mean loss: 0.73 , recent outcomes:  [1, 1, 1, 1, 1, 1, 1, 1, 1, 1]\n"
     ]
    },
    {
     "name": "stderr",
     "output_type": "stream",
     "text": [
      "training loop:  95% |#########################################  | ETA:  0:11:07\r"
     ]
    },
    {
     "name": "stdout",
     "output_type": "stream",
     "text": [
      "game:  1911 , mean loss: 1.34 , recent outcomes:  [1, 1, 1, 1, 1, 1, 1, 1, 1, 1]\n"
     ]
    },
    {
     "name": "stderr",
     "output_type": "stream",
     "text": [
      "training loop:  96% |#########################################  | ETA:  0:09:50\r"
     ]
    },
    {
     "name": "stdout",
     "output_type": "stream",
     "text": [
      "game:  1921 , mean loss: 1.34 , recent outcomes:  [1, 1, 1, 1, 1, 1, 1, 1, 1, 1]\n"
     ]
    },
    {
     "name": "stderr",
     "output_type": "stream",
     "text": [
      "training loop:  96% |#########################################  | ETA:  0:08:35\r"
     ]
    },
    {
     "name": "stdout",
     "output_type": "stream",
     "text": [
      "game:  1931 , mean loss: 3.06 , recent outcomes:  [1, 1, 1, 1, 1, 1, 1, -1, 1, 1]\n"
     ]
    },
    {
     "name": "stderr",
     "output_type": "stream",
     "text": [
      "training loop:  97% |#########################################  | ETA:  0:07:19\r"
     ]
    },
    {
     "name": "stdout",
     "output_type": "stream",
     "text": [
      "game:  1941 , mean loss: 5.77 , recent outcomes:  [-1, 1, 1, 1, 1, 1, 1, 1, 1, 1]\n"
     ]
    },
    {
     "name": "stderr",
     "output_type": "stream",
     "text": [
      "training loop:  97% |#########################################  | ETA:  0:06:04\r"
     ]
    },
    {
     "name": "stdout",
     "output_type": "stream",
     "text": [
      "game:  1951 , mean loss: 8.46 , recent outcomes:  [1, 1, 1, 1, 1, 1, 1, 1, -1, 1]\n"
     ]
    },
    {
     "name": "stderr",
     "output_type": "stream",
     "text": [
      "training loop:  98% |########################################## | ETA:  0:04:49\r"
     ]
    },
    {
     "name": "stdout",
     "output_type": "stream",
     "text": [
      "game:  1961 , mean loss: 6.49 , recent outcomes:  [1, 1, 1, 1, 1, 1, 1, 1, 1, 1]\n"
     ]
    },
    {
     "name": "stderr",
     "output_type": "stream",
     "text": [
      "training loop:  98% |########################################## | ETA:  0:03:35\r"
     ]
    },
    {
     "name": "stdout",
     "output_type": "stream",
     "text": [
      "game:  1971 , mean loss: 5.95 , recent outcomes:  [1, 1, 1, -1, 1, 1, 1, 1, 1, 1]\n"
     ]
    },
    {
     "name": "stderr",
     "output_type": "stream",
     "text": [
      "training loop:  99% |########################################## | ETA:  0:02:20\r"
     ]
    },
    {
     "name": "stdout",
     "output_type": "stream",
     "text": [
      "game:  1981 , mean loss: 6.05 , recent outcomes:  [1, 1, 1, 1, 1, 1, 1, 1, 1, 1]\n"
     ]
    },
    {
     "name": "stderr",
     "output_type": "stream",
     "text": [
      "training loop:  99% |########################################## | ETA:  0:01:06\r"
     ]
    },
    {
     "name": "stdout",
     "output_type": "stream",
     "text": [
      "game:  1991 , mean loss: 3.46 , recent outcomes:  [1, 1, 1, 1, 1, 1, 1, 1, -1, 1]\n"
     ]
    },
    {
     "name": "stderr",
     "output_type": "stream",
     "text": [
      "training loop: 100% |###########################################| Time: 4:05:55\n"
     ]
    }
   ],
   "source": [
    "# train our agent\n",
    "\n",
    "from collections import deque\n",
    "import MCTS\n",
    "\n",
    "# try a higher number\n",
    "episodes = 2000\n",
    "\n",
    "import progressbar as pb\n",
    "widget = ['training loop: ', pb.Percentage(), ' ', \n",
    "          pb.Bar(), ' ', pb.ETA() ]\n",
    "timer = pb.ProgressBar(widgets=widget, maxval=episodes).start()\n",
    "\n",
    "outcomes = []\n",
    "policy_loss = []\n",
    "\n",
    "Nmax = 1000\n",
    "\n",
    "for e in range(episodes):\n",
    "\n",
    "    mytree = MCTS.Node(game)\n",
    "    logterm = []\n",
    "    vterm = []\n",
    "    \n",
    "    while mytree.outcome is None:\n",
    "        for _ in range(Nmax):\n",
    "            mytree.explore(policy)\n",
    "            if mytree.N >= Nmax:\n",
    "                break\n",
    "            \n",
    "        current_player = mytree.game.player\n",
    "        mytree, (v, nn_v, p, nn_p) = mytree.next()\n",
    "        mytree.detach_mother()\n",
    "        \n",
    "        loglist = torch.log(nn_p)*p\n",
    "        constant = torch.where(p>0, p*torch.log(p),torch.tensor(0.))\n",
    "        logterm.append(-torch.sum(loglist-constant))\n",
    "\n",
    "        vterm.append(nn_v*current_player)\n",
    "        \n",
    "    # we compute the \"policy_loss\" for computing gradient\n",
    "    outcome = mytree.outcome\n",
    "    outcomes.append(outcome)\n",
    "    \n",
    "    loss = torch.sum( (torch.stack(vterm)-outcome)**2 + torch.stack(logterm) )\n",
    "    optimizer.zero_grad()\n",
    "    loss.backward()\n",
    "    policy_loss.append(float(loss))\n",
    "\n",
    "    optimizer.step()\n",
    "    \n",
    "    if e%10==0:\n",
    "        print(\"game: \",e+1, \", mean loss: {:3.2f}\".format(np.mean(policy_loss[-20:])),\n",
    "              \", recent outcomes: \", outcomes[-10:])\n",
    "    \n",
    "    if e%500==0:\n",
    "        torch.save(policy,'6-6-4-pie-{:d}.mypolicy'.format(e))\n",
    "    del loss\n",
    "    \n",
    "    timer.update(e+1)\n",
    "    \n",
    "timer.finish()\n",
    "\n",
    "\n",
    "\n"
   ]
  },
  {
   "cell_type": "markdown",
   "metadata": {},
   "source": [
    "# setup environment to pit your AI against the challenge policy '6-6-4-pie.policy'"
   ]
  },
  {
   "cell_type": "code",
   "execution_count": 12,
   "metadata": {},
   "outputs": [],
   "source": [
    "challenge_policy = torch.load('6-6-4-pie.policy')\n",
    "\n",
    "def Challenge_Player_MCTS(game):\n",
    "    mytree = MCTS.Node(copy(game))\n",
    "    for _ in range(1000):\n",
    "        mytree.explore(challenge_policy)\n",
    "       \n",
    "    mytreenext, (v, nn_v, p, nn_p) = mytree.next(temperature=0.1)\n",
    "    \n",
    "    return mytreenext.game.last_move\n",
    "\n"
   ]
  },
  {
   "cell_type": "markdown",
   "metadata": {},
   "source": [
    "# Let the game begin!"
   ]
  },
  {
   "cell_type": "code",
   "execution_count": 18,
   "metadata": {},
   "outputs": [
    {
     "data": {
      "application/javascript": [
       "/* Put everything inside the global mpl namespace */\n",
       "window.mpl = {};\n",
       "\n",
       "\n",
       "mpl.get_websocket_type = function() {\n",
       "    if (typeof(WebSocket) !== 'undefined') {\n",
       "        return WebSocket;\n",
       "    } else if (typeof(MozWebSocket) !== 'undefined') {\n",
       "        return MozWebSocket;\n",
       "    } else {\n",
       "        alert('Your browser does not have WebSocket support.' +\n",
       "              'Please try Chrome, Safari or Firefox ≥ 6. ' +\n",
       "              'Firefox 4 and 5 are also supported but you ' +\n",
       "              'have to enable WebSockets in about:config.');\n",
       "    };\n",
       "}\n",
       "\n",
       "mpl.figure = function(figure_id, websocket, ondownload, parent_element) {\n",
       "    this.id = figure_id;\n",
       "\n",
       "    this.ws = websocket;\n",
       "\n",
       "    this.supports_binary = (this.ws.binaryType != undefined);\n",
       "\n",
       "    if (!this.supports_binary) {\n",
       "        var warnings = document.getElementById(\"mpl-warnings\");\n",
       "        if (warnings) {\n",
       "            warnings.style.display = 'block';\n",
       "            warnings.textContent = (\n",
       "                \"This browser does not support binary websocket messages. \" +\n",
       "                    \"Performance may be slow.\");\n",
       "        }\n",
       "    }\n",
       "\n",
       "    this.imageObj = new Image();\n",
       "\n",
       "    this.context = undefined;\n",
       "    this.message = undefined;\n",
       "    this.canvas = undefined;\n",
       "    this.rubberband_canvas = undefined;\n",
       "    this.rubberband_context = undefined;\n",
       "    this.format_dropdown = undefined;\n",
       "\n",
       "    this.image_mode = 'full';\n",
       "\n",
       "    this.root = $('<div/>');\n",
       "    this._root_extra_style(this.root)\n",
       "    this.root.attr('style', 'display: inline-block');\n",
       "\n",
       "    $(parent_element).append(this.root);\n",
       "\n",
       "    this._init_header(this);\n",
       "    this._init_canvas(this);\n",
       "    this._init_toolbar(this);\n",
       "\n",
       "    var fig = this;\n",
       "\n",
       "    this.waiting = false;\n",
       "\n",
       "    this.ws.onopen =  function () {\n",
       "            fig.send_message(\"supports_binary\", {value: fig.supports_binary});\n",
       "            fig.send_message(\"send_image_mode\", {});\n",
       "            if (mpl.ratio != 1) {\n",
       "                fig.send_message(\"set_dpi_ratio\", {'dpi_ratio': mpl.ratio});\n",
       "            }\n",
       "            fig.send_message(\"refresh\", {});\n",
       "        }\n",
       "\n",
       "    this.imageObj.onload = function() {\n",
       "            if (fig.image_mode == 'full') {\n",
       "                // Full images could contain transparency (where diff images\n",
       "                // almost always do), so we need to clear the canvas so that\n",
       "                // there is no ghosting.\n",
       "                fig.context.clearRect(0, 0, fig.canvas.width, fig.canvas.height);\n",
       "            }\n",
       "            fig.context.drawImage(fig.imageObj, 0, 0);\n",
       "        };\n",
       "\n",
       "    this.imageObj.onunload = function() {\n",
       "        fig.ws.close();\n",
       "    }\n",
       "\n",
       "    this.ws.onmessage = this._make_on_message_function(this);\n",
       "\n",
       "    this.ondownload = ondownload;\n",
       "}\n",
       "\n",
       "mpl.figure.prototype._init_header = function() {\n",
       "    var titlebar = $(\n",
       "        '<div class=\"ui-dialog-titlebar ui-widget-header ui-corner-all ' +\n",
       "        'ui-helper-clearfix\"/>');\n",
       "    var titletext = $(\n",
       "        '<div class=\"ui-dialog-title\" style=\"width: 100%; ' +\n",
       "        'text-align: center; padding: 3px;\"/>');\n",
       "    titlebar.append(titletext)\n",
       "    this.root.append(titlebar);\n",
       "    this.header = titletext[0];\n",
       "}\n",
       "\n",
       "\n",
       "\n",
       "mpl.figure.prototype._canvas_extra_style = function(canvas_div) {\n",
       "\n",
       "}\n",
       "\n",
       "\n",
       "mpl.figure.prototype._root_extra_style = function(canvas_div) {\n",
       "\n",
       "}\n",
       "\n",
       "mpl.figure.prototype._init_canvas = function() {\n",
       "    var fig = this;\n",
       "\n",
       "    var canvas_div = $('<div/>');\n",
       "\n",
       "    canvas_div.attr('style', 'position: relative; clear: both; outline: 0');\n",
       "\n",
       "    function canvas_keyboard_event(event) {\n",
       "        return fig.key_event(event, event['data']);\n",
       "    }\n",
       "\n",
       "    canvas_div.keydown('key_press', canvas_keyboard_event);\n",
       "    canvas_div.keyup('key_release', canvas_keyboard_event);\n",
       "    this.canvas_div = canvas_div\n",
       "    this._canvas_extra_style(canvas_div)\n",
       "    this.root.append(canvas_div);\n",
       "\n",
       "    var canvas = $('<canvas/>');\n",
       "    canvas.addClass('mpl-canvas');\n",
       "    canvas.attr('style', \"left: 0; top: 0; z-index: 0; outline: 0\")\n",
       "\n",
       "    this.canvas = canvas[0];\n",
       "    this.context = canvas[0].getContext(\"2d\");\n",
       "\n",
       "    var backingStore = this.context.backingStorePixelRatio ||\n",
       "\tthis.context.webkitBackingStorePixelRatio ||\n",
       "\tthis.context.mozBackingStorePixelRatio ||\n",
       "\tthis.context.msBackingStorePixelRatio ||\n",
       "\tthis.context.oBackingStorePixelRatio ||\n",
       "\tthis.context.backingStorePixelRatio || 1;\n",
       "\n",
       "    mpl.ratio = (window.devicePixelRatio || 1) / backingStore;\n",
       "\n",
       "    var rubberband = $('<canvas/>');\n",
       "    rubberband.attr('style', \"position: absolute; left: 0; top: 0; z-index: 1;\")\n",
       "\n",
       "    var pass_mouse_events = true;\n",
       "\n",
       "    canvas_div.resizable({\n",
       "        start: function(event, ui) {\n",
       "            pass_mouse_events = false;\n",
       "        },\n",
       "        resize: function(event, ui) {\n",
       "            fig.request_resize(ui.size.width, ui.size.height);\n",
       "        },\n",
       "        stop: function(event, ui) {\n",
       "            pass_mouse_events = true;\n",
       "            fig.request_resize(ui.size.width, ui.size.height);\n",
       "        },\n",
       "    });\n",
       "\n",
       "    function mouse_event_fn(event) {\n",
       "        if (pass_mouse_events)\n",
       "            return fig.mouse_event(event, event['data']);\n",
       "    }\n",
       "\n",
       "    rubberband.mousedown('button_press', mouse_event_fn);\n",
       "    rubberband.mouseup('button_release', mouse_event_fn);\n",
       "    // Throttle sequential mouse events to 1 every 20ms.\n",
       "    rubberband.mousemove('motion_notify', mouse_event_fn);\n",
       "\n",
       "    rubberband.mouseenter('figure_enter', mouse_event_fn);\n",
       "    rubberband.mouseleave('figure_leave', mouse_event_fn);\n",
       "\n",
       "    canvas_div.on(\"wheel\", function (event) {\n",
       "        event = event.originalEvent;\n",
       "        event['data'] = 'scroll'\n",
       "        if (event.deltaY < 0) {\n",
       "            event.step = 1;\n",
       "        } else {\n",
       "            event.step = -1;\n",
       "        }\n",
       "        mouse_event_fn(event);\n",
       "    });\n",
       "\n",
       "    canvas_div.append(canvas);\n",
       "    canvas_div.append(rubberband);\n",
       "\n",
       "    this.rubberband = rubberband;\n",
       "    this.rubberband_canvas = rubberband[0];\n",
       "    this.rubberband_context = rubberband[0].getContext(\"2d\");\n",
       "    this.rubberband_context.strokeStyle = \"#000000\";\n",
       "\n",
       "    this._resize_canvas = function(width, height) {\n",
       "        // Keep the size of the canvas, canvas container, and rubber band\n",
       "        // canvas in synch.\n",
       "        canvas_div.css('width', width)\n",
       "        canvas_div.css('height', height)\n",
       "\n",
       "        canvas.attr('width', width * mpl.ratio);\n",
       "        canvas.attr('height', height * mpl.ratio);\n",
       "        canvas.attr('style', 'width: ' + width + 'px; height: ' + height + 'px;');\n",
       "\n",
       "        rubberband.attr('width', width);\n",
       "        rubberband.attr('height', height);\n",
       "    }\n",
       "\n",
       "    // Set the figure to an initial 600x600px, this will subsequently be updated\n",
       "    // upon first draw.\n",
       "    this._resize_canvas(600, 600);\n",
       "\n",
       "    // Disable right mouse context menu.\n",
       "    $(this.rubberband_canvas).bind(\"contextmenu\",function(e){\n",
       "        return false;\n",
       "    });\n",
       "\n",
       "    function set_focus () {\n",
       "        canvas.focus();\n",
       "        canvas_div.focus();\n",
       "    }\n",
       "\n",
       "    window.setTimeout(set_focus, 100);\n",
       "}\n",
       "\n",
       "mpl.figure.prototype._init_toolbar = function() {\n",
       "    var fig = this;\n",
       "\n",
       "    var nav_element = $('<div/>')\n",
       "    nav_element.attr('style', 'width: 100%');\n",
       "    this.root.append(nav_element);\n",
       "\n",
       "    // Define a callback function for later on.\n",
       "    function toolbar_event(event) {\n",
       "        return fig.toolbar_button_onclick(event['data']);\n",
       "    }\n",
       "    function toolbar_mouse_event(event) {\n",
       "        return fig.toolbar_button_onmouseover(event['data']);\n",
       "    }\n",
       "\n",
       "    for(var toolbar_ind in mpl.toolbar_items) {\n",
       "        var name = mpl.toolbar_items[toolbar_ind][0];\n",
       "        var tooltip = mpl.toolbar_items[toolbar_ind][1];\n",
       "        var image = mpl.toolbar_items[toolbar_ind][2];\n",
       "        var method_name = mpl.toolbar_items[toolbar_ind][3];\n",
       "\n",
       "        if (!name) {\n",
       "            // put a spacer in here.\n",
       "            continue;\n",
       "        }\n",
       "        var button = $('<button/>');\n",
       "        button.addClass('ui-button ui-widget ui-state-default ui-corner-all ' +\n",
       "                        'ui-button-icon-only');\n",
       "        button.attr('role', 'button');\n",
       "        button.attr('aria-disabled', 'false');\n",
       "        button.click(method_name, toolbar_event);\n",
       "        button.mouseover(tooltip, toolbar_mouse_event);\n",
       "\n",
       "        var icon_img = $('<span/>');\n",
       "        icon_img.addClass('ui-button-icon-primary ui-icon');\n",
       "        icon_img.addClass(image);\n",
       "        icon_img.addClass('ui-corner-all');\n",
       "\n",
       "        var tooltip_span = $('<span/>');\n",
       "        tooltip_span.addClass('ui-button-text');\n",
       "        tooltip_span.html(tooltip);\n",
       "\n",
       "        button.append(icon_img);\n",
       "        button.append(tooltip_span);\n",
       "\n",
       "        nav_element.append(button);\n",
       "    }\n",
       "\n",
       "    var fmt_picker_span = $('<span/>');\n",
       "\n",
       "    var fmt_picker = $('<select/>');\n",
       "    fmt_picker.addClass('mpl-toolbar-option ui-widget ui-widget-content');\n",
       "    fmt_picker_span.append(fmt_picker);\n",
       "    nav_element.append(fmt_picker_span);\n",
       "    this.format_dropdown = fmt_picker[0];\n",
       "\n",
       "    for (var ind in mpl.extensions) {\n",
       "        var fmt = mpl.extensions[ind];\n",
       "        var option = $(\n",
       "            '<option/>', {selected: fmt === mpl.default_extension}).html(fmt);\n",
       "        fmt_picker.append(option)\n",
       "    }\n",
       "\n",
       "    // Add hover states to the ui-buttons\n",
       "    $( \".ui-button\" ).hover(\n",
       "        function() { $(this).addClass(\"ui-state-hover\");},\n",
       "        function() { $(this).removeClass(\"ui-state-hover\");}\n",
       "    );\n",
       "\n",
       "    var status_bar = $('<span class=\"mpl-message\"/>');\n",
       "    nav_element.append(status_bar);\n",
       "    this.message = status_bar[0];\n",
       "}\n",
       "\n",
       "mpl.figure.prototype.request_resize = function(x_pixels, y_pixels) {\n",
       "    // Request matplotlib to resize the figure. Matplotlib will then trigger a resize in the client,\n",
       "    // which will in turn request a refresh of the image.\n",
       "    this.send_message('resize', {'width': x_pixels, 'height': y_pixels});\n",
       "}\n",
       "\n",
       "mpl.figure.prototype.send_message = function(type, properties) {\n",
       "    properties['type'] = type;\n",
       "    properties['figure_id'] = this.id;\n",
       "    this.ws.send(JSON.stringify(properties));\n",
       "}\n",
       "\n",
       "mpl.figure.prototype.send_draw_message = function() {\n",
       "    if (!this.waiting) {\n",
       "        this.waiting = true;\n",
       "        this.ws.send(JSON.stringify({type: \"draw\", figure_id: this.id}));\n",
       "    }\n",
       "}\n",
       "\n",
       "\n",
       "mpl.figure.prototype.handle_save = function(fig, msg) {\n",
       "    var format_dropdown = fig.format_dropdown;\n",
       "    var format = format_dropdown.options[format_dropdown.selectedIndex].value;\n",
       "    fig.ondownload(fig, format);\n",
       "}\n",
       "\n",
       "\n",
       "mpl.figure.prototype.handle_resize = function(fig, msg) {\n",
       "    var size = msg['size'];\n",
       "    if (size[0] != fig.canvas.width || size[1] != fig.canvas.height) {\n",
       "        fig._resize_canvas(size[0], size[1]);\n",
       "        fig.send_message(\"refresh\", {});\n",
       "    };\n",
       "}\n",
       "\n",
       "mpl.figure.prototype.handle_rubberband = function(fig, msg) {\n",
       "    var x0 = msg['x0'] / mpl.ratio;\n",
       "    var y0 = (fig.canvas.height - msg['y0']) / mpl.ratio;\n",
       "    var x1 = msg['x1'] / mpl.ratio;\n",
       "    var y1 = (fig.canvas.height - msg['y1']) / mpl.ratio;\n",
       "    x0 = Math.floor(x0) + 0.5;\n",
       "    y0 = Math.floor(y0) + 0.5;\n",
       "    x1 = Math.floor(x1) + 0.5;\n",
       "    y1 = Math.floor(y1) + 0.5;\n",
       "    var min_x = Math.min(x0, x1);\n",
       "    var min_y = Math.min(y0, y1);\n",
       "    var width = Math.abs(x1 - x0);\n",
       "    var height = Math.abs(y1 - y0);\n",
       "\n",
       "    fig.rubberband_context.clearRect(\n",
       "        0, 0, fig.canvas.width, fig.canvas.height);\n",
       "\n",
       "    fig.rubberband_context.strokeRect(min_x, min_y, width, height);\n",
       "}\n",
       "\n",
       "mpl.figure.prototype.handle_figure_label = function(fig, msg) {\n",
       "    // Updates the figure title.\n",
       "    fig.header.textContent = msg['label'];\n",
       "}\n",
       "\n",
       "mpl.figure.prototype.handle_cursor = function(fig, msg) {\n",
       "    var cursor = msg['cursor'];\n",
       "    switch(cursor)\n",
       "    {\n",
       "    case 0:\n",
       "        cursor = 'pointer';\n",
       "        break;\n",
       "    case 1:\n",
       "        cursor = 'default';\n",
       "        break;\n",
       "    case 2:\n",
       "        cursor = 'crosshair';\n",
       "        break;\n",
       "    case 3:\n",
       "        cursor = 'move';\n",
       "        break;\n",
       "    }\n",
       "    fig.rubberband_canvas.style.cursor = cursor;\n",
       "}\n",
       "\n",
       "mpl.figure.prototype.handle_message = function(fig, msg) {\n",
       "    fig.message.textContent = msg['message'];\n",
       "}\n",
       "\n",
       "mpl.figure.prototype.handle_draw = function(fig, msg) {\n",
       "    // Request the server to send over a new figure.\n",
       "    fig.send_draw_message();\n",
       "}\n",
       "\n",
       "mpl.figure.prototype.handle_image_mode = function(fig, msg) {\n",
       "    fig.image_mode = msg['mode'];\n",
       "}\n",
       "\n",
       "mpl.figure.prototype.updated_canvas_event = function() {\n",
       "    // Called whenever the canvas gets updated.\n",
       "    this.send_message(\"ack\", {});\n",
       "}\n",
       "\n",
       "// A function to construct a web socket function for onmessage handling.\n",
       "// Called in the figure constructor.\n",
       "mpl.figure.prototype._make_on_message_function = function(fig) {\n",
       "    return function socket_on_message(evt) {\n",
       "        if (evt.data instanceof Blob) {\n",
       "            /* FIXME: We get \"Resource interpreted as Image but\n",
       "             * transferred with MIME type text/plain:\" errors on\n",
       "             * Chrome.  But how to set the MIME type?  It doesn't seem\n",
       "             * to be part of the websocket stream */\n",
       "            evt.data.type = \"image/png\";\n",
       "\n",
       "            /* Free the memory for the previous frames */\n",
       "            if (fig.imageObj.src) {\n",
       "                (window.URL || window.webkitURL).revokeObjectURL(\n",
       "                    fig.imageObj.src);\n",
       "            }\n",
       "\n",
       "            fig.imageObj.src = (window.URL || window.webkitURL).createObjectURL(\n",
       "                evt.data);\n",
       "            fig.updated_canvas_event();\n",
       "            fig.waiting = false;\n",
       "            return;\n",
       "        }\n",
       "        else if (typeof evt.data === 'string' && evt.data.slice(0, 21) == \"data:image/png;base64\") {\n",
       "            fig.imageObj.src = evt.data;\n",
       "            fig.updated_canvas_event();\n",
       "            fig.waiting = false;\n",
       "            return;\n",
       "        }\n",
       "\n",
       "        var msg = JSON.parse(evt.data);\n",
       "        var msg_type = msg['type'];\n",
       "\n",
       "        // Call the  \"handle_{type}\" callback, which takes\n",
       "        // the figure and JSON message as its only arguments.\n",
       "        try {\n",
       "            var callback = fig[\"handle_\" + msg_type];\n",
       "        } catch (e) {\n",
       "            console.log(\"No handler for the '\" + msg_type + \"' message type: \", msg);\n",
       "            return;\n",
       "        }\n",
       "\n",
       "        if (callback) {\n",
       "            try {\n",
       "                // console.log(\"Handling '\" + msg_type + \"' message: \", msg);\n",
       "                callback(fig, msg);\n",
       "            } catch (e) {\n",
       "                console.log(\"Exception inside the 'handler_\" + msg_type + \"' callback:\", e, e.stack, msg);\n",
       "            }\n",
       "        }\n",
       "    };\n",
       "}\n",
       "\n",
       "// from http://stackoverflow.com/questions/1114465/getting-mouse-location-in-canvas\n",
       "mpl.findpos = function(e) {\n",
       "    //this section is from http://www.quirksmode.org/js/events_properties.html\n",
       "    var targ;\n",
       "    if (!e)\n",
       "        e = window.event;\n",
       "    if (e.target)\n",
       "        targ = e.target;\n",
       "    else if (e.srcElement)\n",
       "        targ = e.srcElement;\n",
       "    if (targ.nodeType == 3) // defeat Safari bug\n",
       "        targ = targ.parentNode;\n",
       "\n",
       "    // jQuery normalizes the pageX and pageY\n",
       "    // pageX,Y are the mouse positions relative to the document\n",
       "    // offset() returns the position of the element relative to the document\n",
       "    var x = e.pageX - $(targ).offset().left;\n",
       "    var y = e.pageY - $(targ).offset().top;\n",
       "\n",
       "    return {\"x\": x, \"y\": y};\n",
       "};\n",
       "\n",
       "/*\n",
       " * return a copy of an object with only non-object keys\n",
       " * we need this to avoid circular references\n",
       " * http://stackoverflow.com/a/24161582/3208463\n",
       " */\n",
       "function simpleKeys (original) {\n",
       "  return Object.keys(original).reduce(function (obj, key) {\n",
       "    if (typeof original[key] !== 'object')\n",
       "        obj[key] = original[key]\n",
       "    return obj;\n",
       "  }, {});\n",
       "}\n",
       "\n",
       "mpl.figure.prototype.mouse_event = function(event, name) {\n",
       "    var canvas_pos = mpl.findpos(event)\n",
       "\n",
       "    if (name === 'button_press')\n",
       "    {\n",
       "        this.canvas.focus();\n",
       "        this.canvas_div.focus();\n",
       "    }\n",
       "\n",
       "    var x = canvas_pos.x * mpl.ratio;\n",
       "    var y = canvas_pos.y * mpl.ratio;\n",
       "\n",
       "    this.send_message(name, {x: x, y: y, button: event.button,\n",
       "                             step: event.step,\n",
       "                             guiEvent: simpleKeys(event)});\n",
       "\n",
       "    /* This prevents the web browser from automatically changing to\n",
       "     * the text insertion cursor when the button is pressed.  We want\n",
       "     * to control all of the cursor setting manually through the\n",
       "     * 'cursor' event from matplotlib */\n",
       "    event.preventDefault();\n",
       "    return false;\n",
       "}\n",
       "\n",
       "mpl.figure.prototype._key_event_extra = function(event, name) {\n",
       "    // Handle any extra behaviour associated with a key event\n",
       "}\n",
       "\n",
       "mpl.figure.prototype.key_event = function(event, name) {\n",
       "\n",
       "    // Prevent repeat events\n",
       "    if (name == 'key_press')\n",
       "    {\n",
       "        if (event.which === this._key)\n",
       "            return;\n",
       "        else\n",
       "            this._key = event.which;\n",
       "    }\n",
       "    if (name == 'key_release')\n",
       "        this._key = null;\n",
       "\n",
       "    var value = '';\n",
       "    if (event.ctrlKey && event.which != 17)\n",
       "        value += \"ctrl+\";\n",
       "    if (event.altKey && event.which != 18)\n",
       "        value += \"alt+\";\n",
       "    if (event.shiftKey && event.which != 16)\n",
       "        value += \"shift+\";\n",
       "\n",
       "    value += 'k';\n",
       "    value += event.which.toString();\n",
       "\n",
       "    this._key_event_extra(event, name);\n",
       "\n",
       "    this.send_message(name, {key: value,\n",
       "                             guiEvent: simpleKeys(event)});\n",
       "    return false;\n",
       "}\n",
       "\n",
       "mpl.figure.prototype.toolbar_button_onclick = function(name) {\n",
       "    if (name == 'download') {\n",
       "        this.handle_save(this, null);\n",
       "    } else {\n",
       "        this.send_message(\"toolbar_button\", {name: name});\n",
       "    }\n",
       "};\n",
       "\n",
       "mpl.figure.prototype.toolbar_button_onmouseover = function(tooltip) {\n",
       "    this.message.textContent = tooltip;\n",
       "};\n",
       "mpl.toolbar_items = [[\"Home\", \"Reset original view\", \"fa fa-home icon-home\", \"home\"], [\"Back\", \"Back to  previous view\", \"fa fa-arrow-left icon-arrow-left\", \"back\"], [\"Forward\", \"Forward to next view\", \"fa fa-arrow-right icon-arrow-right\", \"forward\"], [\"\", \"\", \"\", \"\"], [\"Pan\", \"Pan axes with left mouse, zoom with right\", \"fa fa-arrows icon-move\", \"pan\"], [\"Zoom\", \"Zoom to rectangle\", \"fa fa-square-o icon-check-empty\", \"zoom\"], [\"\", \"\", \"\", \"\"], [\"Download\", \"Download plot\", \"fa fa-floppy-o icon-save\", \"download\"]];\n",
       "\n",
       "mpl.extensions = [\"eps\", \"jpeg\", \"pdf\", \"png\", \"ps\", \"raw\", \"svg\", \"tif\"];\n",
       "\n",
       "mpl.default_extension = \"png\";var comm_websocket_adapter = function(comm) {\n",
       "    // Create a \"websocket\"-like object which calls the given IPython comm\n",
       "    // object with the appropriate methods. Currently this is a non binary\n",
       "    // socket, so there is still some room for performance tuning.\n",
       "    var ws = {};\n",
       "\n",
       "    ws.close = function() {\n",
       "        comm.close()\n",
       "    };\n",
       "    ws.send = function(m) {\n",
       "        //console.log('sending', m);\n",
       "        comm.send(m);\n",
       "    };\n",
       "    // Register the callback with on_msg.\n",
       "    comm.on_msg(function(msg) {\n",
       "        //console.log('receiving', msg['content']['data'], msg);\n",
       "        // Pass the mpl event to the overriden (by mpl) onmessage function.\n",
       "        ws.onmessage(msg['content']['data'])\n",
       "    });\n",
       "    return ws;\n",
       "}\n",
       "\n",
       "mpl.mpl_figure_comm = function(comm, msg) {\n",
       "    // This is the function which gets called when the mpl process\n",
       "    // starts-up an IPython Comm through the \"matplotlib\" channel.\n",
       "\n",
       "    var id = msg.content.data.id;\n",
       "    // Get hold of the div created by the display call when the Comm\n",
       "    // socket was opened in Python.\n",
       "    var element = $(\"#\" + id);\n",
       "    var ws_proxy = comm_websocket_adapter(comm)\n",
       "\n",
       "    function ondownload(figure, format) {\n",
       "        window.open(figure.imageObj.src);\n",
       "    }\n",
       "\n",
       "    var fig = new mpl.figure(id, ws_proxy,\n",
       "                           ondownload,\n",
       "                           element.get(0));\n",
       "\n",
       "    // Call onopen now - mpl needs it, as it is assuming we've passed it a real\n",
       "    // web socket which is closed, not our websocket->open comm proxy.\n",
       "    ws_proxy.onopen();\n",
       "\n",
       "    fig.parent_element = element.get(0);\n",
       "    fig.cell_info = mpl.find_output_cell(\"<div id='\" + id + \"'></div>\");\n",
       "    if (!fig.cell_info) {\n",
       "        console.error(\"Failed to find cell for figure\", id, fig);\n",
       "        return;\n",
       "    }\n",
       "\n",
       "    var output_index = fig.cell_info[2]\n",
       "    var cell = fig.cell_info[0];\n",
       "\n",
       "};\n",
       "\n",
       "mpl.figure.prototype.handle_close = function(fig, msg) {\n",
       "    var width = fig.canvas.width/mpl.ratio\n",
       "    fig.root.unbind('remove')\n",
       "\n",
       "    // Update the output cell to use the data from the current canvas.\n",
       "    fig.push_to_output();\n",
       "    var dataURL = fig.canvas.toDataURL();\n",
       "    // Re-enable the keyboard manager in IPython - without this line, in FF,\n",
       "    // the notebook keyboard shortcuts fail.\n",
       "    IPython.keyboard_manager.enable()\n",
       "    $(fig.parent_element).html('<img src=\"' + dataURL + '\" width=\"' + width + '\">');\n",
       "    fig.close_ws(fig, msg);\n",
       "}\n",
       "\n",
       "mpl.figure.prototype.close_ws = function(fig, msg){\n",
       "    fig.send_message('closing', msg);\n",
       "    // fig.ws.close()\n",
       "}\n",
       "\n",
       "mpl.figure.prototype.push_to_output = function(remove_interactive) {\n",
       "    // Turn the data on the canvas into data in the output cell.\n",
       "    var width = this.canvas.width/mpl.ratio\n",
       "    var dataURL = this.canvas.toDataURL();\n",
       "    this.cell_info[1]['text/html'] = '<img src=\"' + dataURL + '\" width=\"' + width + '\">';\n",
       "}\n",
       "\n",
       "mpl.figure.prototype.updated_canvas_event = function() {\n",
       "    // Tell IPython that the notebook contents must change.\n",
       "    IPython.notebook.set_dirty(true);\n",
       "    this.send_message(\"ack\", {});\n",
       "    var fig = this;\n",
       "    // Wait a second, then push the new image to the DOM so\n",
       "    // that it is saved nicely (might be nice to debounce this).\n",
       "    setTimeout(function () { fig.push_to_output() }, 1000);\n",
       "}\n",
       "\n",
       "mpl.figure.prototype._init_toolbar = function() {\n",
       "    var fig = this;\n",
       "\n",
       "    var nav_element = $('<div/>')\n",
       "    nav_element.attr('style', 'width: 100%');\n",
       "    this.root.append(nav_element);\n",
       "\n",
       "    // Define a callback function for later on.\n",
       "    function toolbar_event(event) {\n",
       "        return fig.toolbar_button_onclick(event['data']);\n",
       "    }\n",
       "    function toolbar_mouse_event(event) {\n",
       "        return fig.toolbar_button_onmouseover(event['data']);\n",
       "    }\n",
       "\n",
       "    for(var toolbar_ind in mpl.toolbar_items){\n",
       "        var name = mpl.toolbar_items[toolbar_ind][0];\n",
       "        var tooltip = mpl.toolbar_items[toolbar_ind][1];\n",
       "        var image = mpl.toolbar_items[toolbar_ind][2];\n",
       "        var method_name = mpl.toolbar_items[toolbar_ind][3];\n",
       "\n",
       "        if (!name) { continue; };\n",
       "\n",
       "        var button = $('<button class=\"btn btn-default\" href=\"#\" title=\"' + name + '\"><i class=\"fa ' + image + ' fa-lg\"></i></button>');\n",
       "        button.click(method_name, toolbar_event);\n",
       "        button.mouseover(tooltip, toolbar_mouse_event);\n",
       "        nav_element.append(button);\n",
       "    }\n",
       "\n",
       "    // Add the status bar.\n",
       "    var status_bar = $('<span class=\"mpl-message\" style=\"text-align:right; float: right;\"/>');\n",
       "    nav_element.append(status_bar);\n",
       "    this.message = status_bar[0];\n",
       "\n",
       "    // Add the close button to the window.\n",
       "    var buttongrp = $('<div class=\"btn-group inline pull-right\"></div>');\n",
       "    var button = $('<button class=\"btn btn-mini btn-primary\" href=\"#\" title=\"Stop Interaction\"><i class=\"fa fa-power-off icon-remove icon-large\"></i></button>');\n",
       "    button.click(function (evt) { fig.handle_close(fig, {}); } );\n",
       "    button.mouseover('Stop Interaction', toolbar_mouse_event);\n",
       "    buttongrp.append(button);\n",
       "    var titlebar = this.root.find($('.ui-dialog-titlebar'));\n",
       "    titlebar.prepend(buttongrp);\n",
       "}\n",
       "\n",
       "mpl.figure.prototype._root_extra_style = function(el){\n",
       "    var fig = this\n",
       "    el.on(\"remove\", function(){\n",
       "\tfig.close_ws(fig, {});\n",
       "    });\n",
       "}\n",
       "\n",
       "mpl.figure.prototype._canvas_extra_style = function(el){\n",
       "    // this is important to make the div 'focusable\n",
       "    el.attr('tabindex', 0)\n",
       "    // reach out to IPython and tell the keyboard manager to turn it's self\n",
       "    // off when our div gets focus\n",
       "\n",
       "    // location in version 3\n",
       "    if (IPython.notebook.keyboard_manager) {\n",
       "        IPython.notebook.keyboard_manager.register_events(el);\n",
       "    }\n",
       "    else {\n",
       "        // location in version 2\n",
       "        IPython.keyboard_manager.register_events(el);\n",
       "    }\n",
       "\n",
       "}\n",
       "\n",
       "mpl.figure.prototype._key_event_extra = function(event, name) {\n",
       "    var manager = IPython.notebook.keyboard_manager;\n",
       "    if (!manager)\n",
       "        manager = IPython.keyboard_manager;\n",
       "\n",
       "    // Check for shift+enter\n",
       "    if (event.shiftKey && event.which == 13) {\n",
       "        this.canvas_div.blur();\n",
       "        event.shiftKey = false;\n",
       "        // Send a \"J\" for go to next cell\n",
       "        event.which = 74;\n",
       "        event.keyCode = 74;\n",
       "        manager.command_mode();\n",
       "        manager.handle_keydown(event);\n",
       "    }\n",
       "}\n",
       "\n",
       "mpl.figure.prototype.handle_save = function(fig, msg) {\n",
       "    fig.ondownload(fig, null);\n",
       "}\n",
       "\n",
       "\n",
       "mpl.find_output_cell = function(html_output) {\n",
       "    // Return the cell and output element which can be found *uniquely* in the notebook.\n",
       "    // Note - this is a bit hacky, but it is done because the \"notebook_saving.Notebook\"\n",
       "    // IPython event is triggered only after the cells have been serialised, which for\n",
       "    // our purposes (turning an active figure into a static one), is too late.\n",
       "    var cells = IPython.notebook.get_cells();\n",
       "    var ncells = cells.length;\n",
       "    for (var i=0; i<ncells; i++) {\n",
       "        var cell = cells[i];\n",
       "        if (cell.cell_type === 'code'){\n",
       "            for (var j=0; j<cell.output_area.outputs.length; j++) {\n",
       "                var data = cell.output_area.outputs[j];\n",
       "                if (data.data) {\n",
       "                    // IPython >= 3 moved mimebundle to data attribute of output\n",
       "                    data = data.data;\n",
       "                }\n",
       "                if (data['text/html'] == html_output) {\n",
       "                    return [cell, data, j];\n",
       "                }\n",
       "            }\n",
       "        }\n",
       "    }\n",
       "}\n",
       "\n",
       "// Register the function which deals with the matplotlib target/channel.\n",
       "// The kernel may be null if the page has been refreshed.\n",
       "if (IPython.notebook.kernel != null) {\n",
       "    IPython.notebook.kernel.comm_manager.register_target('matplotlib', mpl.mpl_figure_comm);\n",
       "}\n"
      ],
      "text/plain": [
       "<IPython.core.display.Javascript object>"
      ]
     },
     "metadata": {},
     "output_type": "display_data"
    },
    {
     "data": {
      "text/html": [
       "<img src=\"data:image/png;base64,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\" width=\"285\">"
      ],
      "text/plain": [
       "<IPython.core.display.HTML object>"
      ]
     },
     "metadata": {},
     "output_type": "display_data"
    }
   ],
   "source": [
    "%matplotlib notebook\n",
    "gameplay=Play(ConnectN(**game_setting), \n",
    "              player2=Policy_Player_MCTS, \n",
    "              player1=Challenge_Player_MCTS)"
   ]
  },
  {
   "cell_type": "code",
   "execution_count": 21,
   "metadata": {},
   "outputs": [
    {
     "data": {
      "application/javascript": [
       "/* Put everything inside the global mpl namespace */\n",
       "window.mpl = {};\n",
       "\n",
       "\n",
       "mpl.get_websocket_type = function() {\n",
       "    if (typeof(WebSocket) !== 'undefined') {\n",
       "        return WebSocket;\n",
       "    } else if (typeof(MozWebSocket) !== 'undefined') {\n",
       "        return MozWebSocket;\n",
       "    } else {\n",
       "        alert('Your browser does not have WebSocket support.' +\n",
       "              'Please try Chrome, Safari or Firefox ≥ 6. ' +\n",
       "              'Firefox 4 and 5 are also supported but you ' +\n",
       "              'have to enable WebSockets in about:config.');\n",
       "    };\n",
       "}\n",
       "\n",
       "mpl.figure = function(figure_id, websocket, ondownload, parent_element) {\n",
       "    this.id = figure_id;\n",
       "\n",
       "    this.ws = websocket;\n",
       "\n",
       "    this.supports_binary = (this.ws.binaryType != undefined);\n",
       "\n",
       "    if (!this.supports_binary) {\n",
       "        var warnings = document.getElementById(\"mpl-warnings\");\n",
       "        if (warnings) {\n",
       "            warnings.style.display = 'block';\n",
       "            warnings.textContent = (\n",
       "                \"This browser does not support binary websocket messages. \" +\n",
       "                    \"Performance may be slow.\");\n",
       "        }\n",
       "    }\n",
       "\n",
       "    this.imageObj = new Image();\n",
       "\n",
       "    this.context = undefined;\n",
       "    this.message = undefined;\n",
       "    this.canvas = undefined;\n",
       "    this.rubberband_canvas = undefined;\n",
       "    this.rubberband_context = undefined;\n",
       "    this.format_dropdown = undefined;\n",
       "\n",
       "    this.image_mode = 'full';\n",
       "\n",
       "    this.root = $('<div/>');\n",
       "    this._root_extra_style(this.root)\n",
       "    this.root.attr('style', 'display: inline-block');\n",
       "\n",
       "    $(parent_element).append(this.root);\n",
       "\n",
       "    this._init_header(this);\n",
       "    this._init_canvas(this);\n",
       "    this._init_toolbar(this);\n",
       "\n",
       "    var fig = this;\n",
       "\n",
       "    this.waiting = false;\n",
       "\n",
       "    this.ws.onopen =  function () {\n",
       "            fig.send_message(\"supports_binary\", {value: fig.supports_binary});\n",
       "            fig.send_message(\"send_image_mode\", {});\n",
       "            if (mpl.ratio != 1) {\n",
       "                fig.send_message(\"set_dpi_ratio\", {'dpi_ratio': mpl.ratio});\n",
       "            }\n",
       "            fig.send_message(\"refresh\", {});\n",
       "        }\n",
       "\n",
       "    this.imageObj.onload = function() {\n",
       "            if (fig.image_mode == 'full') {\n",
       "                // Full images could contain transparency (where diff images\n",
       "                // almost always do), so we need to clear the canvas so that\n",
       "                // there is no ghosting.\n",
       "                fig.context.clearRect(0, 0, fig.canvas.width, fig.canvas.height);\n",
       "            }\n",
       "            fig.context.drawImage(fig.imageObj, 0, 0);\n",
       "        };\n",
       "\n",
       "    this.imageObj.onunload = function() {\n",
       "        fig.ws.close();\n",
       "    }\n",
       "\n",
       "    this.ws.onmessage = this._make_on_message_function(this);\n",
       "\n",
       "    this.ondownload = ondownload;\n",
       "}\n",
       "\n",
       "mpl.figure.prototype._init_header = function() {\n",
       "    var titlebar = $(\n",
       "        '<div class=\"ui-dialog-titlebar ui-widget-header ui-corner-all ' +\n",
       "        'ui-helper-clearfix\"/>');\n",
       "    var titletext = $(\n",
       "        '<div class=\"ui-dialog-title\" style=\"width: 100%; ' +\n",
       "        'text-align: center; padding: 3px;\"/>');\n",
       "    titlebar.append(titletext)\n",
       "    this.root.append(titlebar);\n",
       "    this.header = titletext[0];\n",
       "}\n",
       "\n",
       "\n",
       "\n",
       "mpl.figure.prototype._canvas_extra_style = function(canvas_div) {\n",
       "\n",
       "}\n",
       "\n",
       "\n",
       "mpl.figure.prototype._root_extra_style = function(canvas_div) {\n",
       "\n",
       "}\n",
       "\n",
       "mpl.figure.prototype._init_canvas = function() {\n",
       "    var fig = this;\n",
       "\n",
       "    var canvas_div = $('<div/>');\n",
       "\n",
       "    canvas_div.attr('style', 'position: relative; clear: both; outline: 0');\n",
       "\n",
       "    function canvas_keyboard_event(event) {\n",
       "        return fig.key_event(event, event['data']);\n",
       "    }\n",
       "\n",
       "    canvas_div.keydown('key_press', canvas_keyboard_event);\n",
       "    canvas_div.keyup('key_release', canvas_keyboard_event);\n",
       "    this.canvas_div = canvas_div\n",
       "    this._canvas_extra_style(canvas_div)\n",
       "    this.root.append(canvas_div);\n",
       "\n",
       "    var canvas = $('<canvas/>');\n",
       "    canvas.addClass('mpl-canvas');\n",
       "    canvas.attr('style', \"left: 0; top: 0; z-index: 0; outline: 0\")\n",
       "\n",
       "    this.canvas = canvas[0];\n",
       "    this.context = canvas[0].getContext(\"2d\");\n",
       "\n",
       "    var backingStore = this.context.backingStorePixelRatio ||\n",
       "\tthis.context.webkitBackingStorePixelRatio ||\n",
       "\tthis.context.mozBackingStorePixelRatio ||\n",
       "\tthis.context.msBackingStorePixelRatio ||\n",
       "\tthis.context.oBackingStorePixelRatio ||\n",
       "\tthis.context.backingStorePixelRatio || 1;\n",
       "\n",
       "    mpl.ratio = (window.devicePixelRatio || 1) / backingStore;\n",
       "\n",
       "    var rubberband = $('<canvas/>');\n",
       "    rubberband.attr('style', \"position: absolute; left: 0; top: 0; z-index: 1;\")\n",
       "\n",
       "    var pass_mouse_events = true;\n",
       "\n",
       "    canvas_div.resizable({\n",
       "        start: function(event, ui) {\n",
       "            pass_mouse_events = false;\n",
       "        },\n",
       "        resize: function(event, ui) {\n",
       "            fig.request_resize(ui.size.width, ui.size.height);\n",
       "        },\n",
       "        stop: function(event, ui) {\n",
       "            pass_mouse_events = true;\n",
       "            fig.request_resize(ui.size.width, ui.size.height);\n",
       "        },\n",
       "    });\n",
       "\n",
       "    function mouse_event_fn(event) {\n",
       "        if (pass_mouse_events)\n",
       "            return fig.mouse_event(event, event['data']);\n",
       "    }\n",
       "\n",
       "    rubberband.mousedown('button_press', mouse_event_fn);\n",
       "    rubberband.mouseup('button_release', mouse_event_fn);\n",
       "    // Throttle sequential mouse events to 1 every 20ms.\n",
       "    rubberband.mousemove('motion_notify', mouse_event_fn);\n",
       "\n",
       "    rubberband.mouseenter('figure_enter', mouse_event_fn);\n",
       "    rubberband.mouseleave('figure_leave', mouse_event_fn);\n",
       "\n",
       "    canvas_div.on(\"wheel\", function (event) {\n",
       "        event = event.originalEvent;\n",
       "        event['data'] = 'scroll'\n",
       "        if (event.deltaY < 0) {\n",
       "            event.step = 1;\n",
       "        } else {\n",
       "            event.step = -1;\n",
       "        }\n",
       "        mouse_event_fn(event);\n",
       "    });\n",
       "\n",
       "    canvas_div.append(canvas);\n",
       "    canvas_div.append(rubberband);\n",
       "\n",
       "    this.rubberband = rubberband;\n",
       "    this.rubberband_canvas = rubberband[0];\n",
       "    this.rubberband_context = rubberband[0].getContext(\"2d\");\n",
       "    this.rubberband_context.strokeStyle = \"#000000\";\n",
       "\n",
       "    this._resize_canvas = function(width, height) {\n",
       "        // Keep the size of the canvas, canvas container, and rubber band\n",
       "        // canvas in synch.\n",
       "        canvas_div.css('width', width)\n",
       "        canvas_div.css('height', height)\n",
       "\n",
       "        canvas.attr('width', width * mpl.ratio);\n",
       "        canvas.attr('height', height * mpl.ratio);\n",
       "        canvas.attr('style', 'width: ' + width + 'px; height: ' + height + 'px;');\n",
       "\n",
       "        rubberband.attr('width', width);\n",
       "        rubberband.attr('height', height);\n",
       "    }\n",
       "\n",
       "    // Set the figure to an initial 600x600px, this will subsequently be updated\n",
       "    // upon first draw.\n",
       "    this._resize_canvas(600, 600);\n",
       "\n",
       "    // Disable right mouse context menu.\n",
       "    $(this.rubberband_canvas).bind(\"contextmenu\",function(e){\n",
       "        return false;\n",
       "    });\n",
       "\n",
       "    function set_focus () {\n",
       "        canvas.focus();\n",
       "        canvas_div.focus();\n",
       "    }\n",
       "\n",
       "    window.setTimeout(set_focus, 100);\n",
       "}\n",
       "\n",
       "mpl.figure.prototype._init_toolbar = function() {\n",
       "    var fig = this;\n",
       "\n",
       "    var nav_element = $('<div/>')\n",
       "    nav_element.attr('style', 'width: 100%');\n",
       "    this.root.append(nav_element);\n",
       "\n",
       "    // Define a callback function for later on.\n",
       "    function toolbar_event(event) {\n",
       "        return fig.toolbar_button_onclick(event['data']);\n",
       "    }\n",
       "    function toolbar_mouse_event(event) {\n",
       "        return fig.toolbar_button_onmouseover(event['data']);\n",
       "    }\n",
       "\n",
       "    for(var toolbar_ind in mpl.toolbar_items) {\n",
       "        var name = mpl.toolbar_items[toolbar_ind][0];\n",
       "        var tooltip = mpl.toolbar_items[toolbar_ind][1];\n",
       "        var image = mpl.toolbar_items[toolbar_ind][2];\n",
       "        var method_name = mpl.toolbar_items[toolbar_ind][3];\n",
       "\n",
       "        if (!name) {\n",
       "            // put a spacer in here.\n",
       "            continue;\n",
       "        }\n",
       "        var button = $('<button/>');\n",
       "        button.addClass('ui-button ui-widget ui-state-default ui-corner-all ' +\n",
       "                        'ui-button-icon-only');\n",
       "        button.attr('role', 'button');\n",
       "        button.attr('aria-disabled', 'false');\n",
       "        button.click(method_name, toolbar_event);\n",
       "        button.mouseover(tooltip, toolbar_mouse_event);\n",
       "\n",
       "        var icon_img = $('<span/>');\n",
       "        icon_img.addClass('ui-button-icon-primary ui-icon');\n",
       "        icon_img.addClass(image);\n",
       "        icon_img.addClass('ui-corner-all');\n",
       "\n",
       "        var tooltip_span = $('<span/>');\n",
       "        tooltip_span.addClass('ui-button-text');\n",
       "        tooltip_span.html(tooltip);\n",
       "\n",
       "        button.append(icon_img);\n",
       "        button.append(tooltip_span);\n",
       "\n",
       "        nav_element.append(button);\n",
       "    }\n",
       "\n",
       "    var fmt_picker_span = $('<span/>');\n",
       "\n",
       "    var fmt_picker = $('<select/>');\n",
       "    fmt_picker.addClass('mpl-toolbar-option ui-widget ui-widget-content');\n",
       "    fmt_picker_span.append(fmt_picker);\n",
       "    nav_element.append(fmt_picker_span);\n",
       "    this.format_dropdown = fmt_picker[0];\n",
       "\n",
       "    for (var ind in mpl.extensions) {\n",
       "        var fmt = mpl.extensions[ind];\n",
       "        var option = $(\n",
       "            '<option/>', {selected: fmt === mpl.default_extension}).html(fmt);\n",
       "        fmt_picker.append(option)\n",
       "    }\n",
       "\n",
       "    // Add hover states to the ui-buttons\n",
       "    $( \".ui-button\" ).hover(\n",
       "        function() { $(this).addClass(\"ui-state-hover\");},\n",
       "        function() { $(this).removeClass(\"ui-state-hover\");}\n",
       "    );\n",
       "\n",
       "    var status_bar = $('<span class=\"mpl-message\"/>');\n",
       "    nav_element.append(status_bar);\n",
       "    this.message = status_bar[0];\n",
       "}\n",
       "\n",
       "mpl.figure.prototype.request_resize = function(x_pixels, y_pixels) {\n",
       "    // Request matplotlib to resize the figure. Matplotlib will then trigger a resize in the client,\n",
       "    // which will in turn request a refresh of the image.\n",
       "    this.send_message('resize', {'width': x_pixels, 'height': y_pixels});\n",
       "}\n",
       "\n",
       "mpl.figure.prototype.send_message = function(type, properties) {\n",
       "    properties['type'] = type;\n",
       "    properties['figure_id'] = this.id;\n",
       "    this.ws.send(JSON.stringify(properties));\n",
       "}\n",
       "\n",
       "mpl.figure.prototype.send_draw_message = function() {\n",
       "    if (!this.waiting) {\n",
       "        this.waiting = true;\n",
       "        this.ws.send(JSON.stringify({type: \"draw\", figure_id: this.id}));\n",
       "    }\n",
       "}\n",
       "\n",
       "\n",
       "mpl.figure.prototype.handle_save = function(fig, msg) {\n",
       "    var format_dropdown = fig.format_dropdown;\n",
       "    var format = format_dropdown.options[format_dropdown.selectedIndex].value;\n",
       "    fig.ondownload(fig, format);\n",
       "}\n",
       "\n",
       "\n",
       "mpl.figure.prototype.handle_resize = function(fig, msg) {\n",
       "    var size = msg['size'];\n",
       "    if (size[0] != fig.canvas.width || size[1] != fig.canvas.height) {\n",
       "        fig._resize_canvas(size[0], size[1]);\n",
       "        fig.send_message(\"refresh\", {});\n",
       "    };\n",
       "}\n",
       "\n",
       "mpl.figure.prototype.handle_rubberband = function(fig, msg) {\n",
       "    var x0 = msg['x0'] / mpl.ratio;\n",
       "    var y0 = (fig.canvas.height - msg['y0']) / mpl.ratio;\n",
       "    var x1 = msg['x1'] / mpl.ratio;\n",
       "    var y1 = (fig.canvas.height - msg['y1']) / mpl.ratio;\n",
       "    x0 = Math.floor(x0) + 0.5;\n",
       "    y0 = Math.floor(y0) + 0.5;\n",
       "    x1 = Math.floor(x1) + 0.5;\n",
       "    y1 = Math.floor(y1) + 0.5;\n",
       "    var min_x = Math.min(x0, x1);\n",
       "    var min_y = Math.min(y0, y1);\n",
       "    var width = Math.abs(x1 - x0);\n",
       "    var height = Math.abs(y1 - y0);\n",
       "\n",
       "    fig.rubberband_context.clearRect(\n",
       "        0, 0, fig.canvas.width, fig.canvas.height);\n",
       "\n",
       "    fig.rubberband_context.strokeRect(min_x, min_y, width, height);\n",
       "}\n",
       "\n",
       "mpl.figure.prototype.handle_figure_label = function(fig, msg) {\n",
       "    // Updates the figure title.\n",
       "    fig.header.textContent = msg['label'];\n",
       "}\n",
       "\n",
       "mpl.figure.prototype.handle_cursor = function(fig, msg) {\n",
       "    var cursor = msg['cursor'];\n",
       "    switch(cursor)\n",
       "    {\n",
       "    case 0:\n",
       "        cursor = 'pointer';\n",
       "        break;\n",
       "    case 1:\n",
       "        cursor = 'default';\n",
       "        break;\n",
       "    case 2:\n",
       "        cursor = 'crosshair';\n",
       "        break;\n",
       "    case 3:\n",
       "        cursor = 'move';\n",
       "        break;\n",
       "    }\n",
       "    fig.rubberband_canvas.style.cursor = cursor;\n",
       "}\n",
       "\n",
       "mpl.figure.prototype.handle_message = function(fig, msg) {\n",
       "    fig.message.textContent = msg['message'];\n",
       "}\n",
       "\n",
       "mpl.figure.prototype.handle_draw = function(fig, msg) {\n",
       "    // Request the server to send over a new figure.\n",
       "    fig.send_draw_message();\n",
       "}\n",
       "\n",
       "mpl.figure.prototype.handle_image_mode = function(fig, msg) {\n",
       "    fig.image_mode = msg['mode'];\n",
       "}\n",
       "\n",
       "mpl.figure.prototype.updated_canvas_event = function() {\n",
       "    // Called whenever the canvas gets updated.\n",
       "    this.send_message(\"ack\", {});\n",
       "}\n",
       "\n",
       "// A function to construct a web socket function for onmessage handling.\n",
       "// Called in the figure constructor.\n",
       "mpl.figure.prototype._make_on_message_function = function(fig) {\n",
       "    return function socket_on_message(evt) {\n",
       "        if (evt.data instanceof Blob) {\n",
       "            /* FIXME: We get \"Resource interpreted as Image but\n",
       "             * transferred with MIME type text/plain:\" errors on\n",
       "             * Chrome.  But how to set the MIME type?  It doesn't seem\n",
       "             * to be part of the websocket stream */\n",
       "            evt.data.type = \"image/png\";\n",
       "\n",
       "            /* Free the memory for the previous frames */\n",
       "            if (fig.imageObj.src) {\n",
       "                (window.URL || window.webkitURL).revokeObjectURL(\n",
       "                    fig.imageObj.src);\n",
       "            }\n",
       "\n",
       "            fig.imageObj.src = (window.URL || window.webkitURL).createObjectURL(\n",
       "                evt.data);\n",
       "            fig.updated_canvas_event();\n",
       "            fig.waiting = false;\n",
       "            return;\n",
       "        }\n",
       "        else if (typeof evt.data === 'string' && evt.data.slice(0, 21) == \"data:image/png;base64\") {\n",
       "            fig.imageObj.src = evt.data;\n",
       "            fig.updated_canvas_event();\n",
       "            fig.waiting = false;\n",
       "            return;\n",
       "        }\n",
       "\n",
       "        var msg = JSON.parse(evt.data);\n",
       "        var msg_type = msg['type'];\n",
       "\n",
       "        // Call the  \"handle_{type}\" callback, which takes\n",
       "        // the figure and JSON message as its only arguments.\n",
       "        try {\n",
       "            var callback = fig[\"handle_\" + msg_type];\n",
       "        } catch (e) {\n",
       "            console.log(\"No handler for the '\" + msg_type + \"' message type: \", msg);\n",
       "            return;\n",
       "        }\n",
       "\n",
       "        if (callback) {\n",
       "            try {\n",
       "                // console.log(\"Handling '\" + msg_type + \"' message: \", msg);\n",
       "                callback(fig, msg);\n",
       "            } catch (e) {\n",
       "                console.log(\"Exception inside the 'handler_\" + msg_type + \"' callback:\", e, e.stack, msg);\n",
       "            }\n",
       "        }\n",
       "    };\n",
       "}\n",
       "\n",
       "// from http://stackoverflow.com/questions/1114465/getting-mouse-location-in-canvas\n",
       "mpl.findpos = function(e) {\n",
       "    //this section is from http://www.quirksmode.org/js/events_properties.html\n",
       "    var targ;\n",
       "    if (!e)\n",
       "        e = window.event;\n",
       "    if (e.target)\n",
       "        targ = e.target;\n",
       "    else if (e.srcElement)\n",
       "        targ = e.srcElement;\n",
       "    if (targ.nodeType == 3) // defeat Safari bug\n",
       "        targ = targ.parentNode;\n",
       "\n",
       "    // jQuery normalizes the pageX and pageY\n",
       "    // pageX,Y are the mouse positions relative to the document\n",
       "    // offset() returns the position of the element relative to the document\n",
       "    var x = e.pageX - $(targ).offset().left;\n",
       "    var y = e.pageY - $(targ).offset().top;\n",
       "\n",
       "    return {\"x\": x, \"y\": y};\n",
       "};\n",
       "\n",
       "/*\n",
       " * return a copy of an object with only non-object keys\n",
       " * we need this to avoid circular references\n",
       " * http://stackoverflow.com/a/24161582/3208463\n",
       " */\n",
       "function simpleKeys (original) {\n",
       "  return Object.keys(original).reduce(function (obj, key) {\n",
       "    if (typeof original[key] !== 'object')\n",
       "        obj[key] = original[key]\n",
       "    return obj;\n",
       "  }, {});\n",
       "}\n",
       "\n",
       "mpl.figure.prototype.mouse_event = function(event, name) {\n",
       "    var canvas_pos = mpl.findpos(event)\n",
       "\n",
       "    if (name === 'button_press')\n",
       "    {\n",
       "        this.canvas.focus();\n",
       "        this.canvas_div.focus();\n",
       "    }\n",
       "\n",
       "    var x = canvas_pos.x * mpl.ratio;\n",
       "    var y = canvas_pos.y * mpl.ratio;\n",
       "\n",
       "    this.send_message(name, {x: x, y: y, button: event.button,\n",
       "                             step: event.step,\n",
       "                             guiEvent: simpleKeys(event)});\n",
       "\n",
       "    /* This prevents the web browser from automatically changing to\n",
       "     * the text insertion cursor when the button is pressed.  We want\n",
       "     * to control all of the cursor setting manually through the\n",
       "     * 'cursor' event from matplotlib */\n",
       "    event.preventDefault();\n",
       "    return false;\n",
       "}\n",
       "\n",
       "mpl.figure.prototype._key_event_extra = function(event, name) {\n",
       "    // Handle any extra behaviour associated with a key event\n",
       "}\n",
       "\n",
       "mpl.figure.prototype.key_event = function(event, name) {\n",
       "\n",
       "    // Prevent repeat events\n",
       "    if (name == 'key_press')\n",
       "    {\n",
       "        if (event.which === this._key)\n",
       "            return;\n",
       "        else\n",
       "            this._key = event.which;\n",
       "    }\n",
       "    if (name == 'key_release')\n",
       "        this._key = null;\n",
       "\n",
       "    var value = '';\n",
       "    if (event.ctrlKey && event.which != 17)\n",
       "        value += \"ctrl+\";\n",
       "    if (event.altKey && event.which != 18)\n",
       "        value += \"alt+\";\n",
       "    if (event.shiftKey && event.which != 16)\n",
       "        value += \"shift+\";\n",
       "\n",
       "    value += 'k';\n",
       "    value += event.which.toString();\n",
       "\n",
       "    this._key_event_extra(event, name);\n",
       "\n",
       "    this.send_message(name, {key: value,\n",
       "                             guiEvent: simpleKeys(event)});\n",
       "    return false;\n",
       "}\n",
       "\n",
       "mpl.figure.prototype.toolbar_button_onclick = function(name) {\n",
       "    if (name == 'download') {\n",
       "        this.handle_save(this, null);\n",
       "    } else {\n",
       "        this.send_message(\"toolbar_button\", {name: name});\n",
       "    }\n",
       "};\n",
       "\n",
       "mpl.figure.prototype.toolbar_button_onmouseover = function(tooltip) {\n",
       "    this.message.textContent = tooltip;\n",
       "};\n",
       "mpl.toolbar_items = [[\"Home\", \"Reset original view\", \"fa fa-home icon-home\", \"home\"], [\"Back\", \"Back to  previous view\", \"fa fa-arrow-left icon-arrow-left\", \"back\"], [\"Forward\", \"Forward to next view\", \"fa fa-arrow-right icon-arrow-right\", \"forward\"], [\"\", \"\", \"\", \"\"], [\"Pan\", \"Pan axes with left mouse, zoom with right\", \"fa fa-arrows icon-move\", \"pan\"], [\"Zoom\", \"Zoom to rectangle\", \"fa fa-square-o icon-check-empty\", \"zoom\"], [\"\", \"\", \"\", \"\"], [\"Download\", \"Download plot\", \"fa fa-floppy-o icon-save\", \"download\"]];\n",
       "\n",
       "mpl.extensions = [\"eps\", \"jpeg\", \"pdf\", \"png\", \"ps\", \"raw\", \"svg\", \"tif\"];\n",
       "\n",
       "mpl.default_extension = \"png\";var comm_websocket_adapter = function(comm) {\n",
       "    // Create a \"websocket\"-like object which calls the given IPython comm\n",
       "    // object with the appropriate methods. Currently this is a non binary\n",
       "    // socket, so there is still some room for performance tuning.\n",
       "    var ws = {};\n",
       "\n",
       "    ws.close = function() {\n",
       "        comm.close()\n",
       "    };\n",
       "    ws.send = function(m) {\n",
       "        //console.log('sending', m);\n",
       "        comm.send(m);\n",
       "    };\n",
       "    // Register the callback with on_msg.\n",
       "    comm.on_msg(function(msg) {\n",
       "        //console.log('receiving', msg['content']['data'], msg);\n",
       "        // Pass the mpl event to the overriden (by mpl) onmessage function.\n",
       "        ws.onmessage(msg['content']['data'])\n",
       "    });\n",
       "    return ws;\n",
       "}\n",
       "\n",
       "mpl.mpl_figure_comm = function(comm, msg) {\n",
       "    // This is the function which gets called when the mpl process\n",
       "    // starts-up an IPython Comm through the \"matplotlib\" channel.\n",
       "\n",
       "    var id = msg.content.data.id;\n",
       "    // Get hold of the div created by the display call when the Comm\n",
       "    // socket was opened in Python.\n",
       "    var element = $(\"#\" + id);\n",
       "    var ws_proxy = comm_websocket_adapter(comm)\n",
       "\n",
       "    function ondownload(figure, format) {\n",
       "        window.open(figure.imageObj.src);\n",
       "    }\n",
       "\n",
       "    var fig = new mpl.figure(id, ws_proxy,\n",
       "                           ondownload,\n",
       "                           element.get(0));\n",
       "\n",
       "    // Call onopen now - mpl needs it, as it is assuming we've passed it a real\n",
       "    // web socket which is closed, not our websocket->open comm proxy.\n",
       "    ws_proxy.onopen();\n",
       "\n",
       "    fig.parent_element = element.get(0);\n",
       "    fig.cell_info = mpl.find_output_cell(\"<div id='\" + id + \"'></div>\");\n",
       "    if (!fig.cell_info) {\n",
       "        console.error(\"Failed to find cell for figure\", id, fig);\n",
       "        return;\n",
       "    }\n",
       "\n",
       "    var output_index = fig.cell_info[2]\n",
       "    var cell = fig.cell_info[0];\n",
       "\n",
       "};\n",
       "\n",
       "mpl.figure.prototype.handle_close = function(fig, msg) {\n",
       "    var width = fig.canvas.width/mpl.ratio\n",
       "    fig.root.unbind('remove')\n",
       "\n",
       "    // Update the output cell to use the data from the current canvas.\n",
       "    fig.push_to_output();\n",
       "    var dataURL = fig.canvas.toDataURL();\n",
       "    // Re-enable the keyboard manager in IPython - without this line, in FF,\n",
       "    // the notebook keyboard shortcuts fail.\n",
       "    IPython.keyboard_manager.enable()\n",
       "    $(fig.parent_element).html('<img src=\"' + dataURL + '\" width=\"' + width + '\">');\n",
       "    fig.close_ws(fig, msg);\n",
       "}\n",
       "\n",
       "mpl.figure.prototype.close_ws = function(fig, msg){\n",
       "    fig.send_message('closing', msg);\n",
       "    // fig.ws.close()\n",
       "}\n",
       "\n",
       "mpl.figure.prototype.push_to_output = function(remove_interactive) {\n",
       "    // Turn the data on the canvas into data in the output cell.\n",
       "    var width = this.canvas.width/mpl.ratio\n",
       "    var dataURL = this.canvas.toDataURL();\n",
       "    this.cell_info[1]['text/html'] = '<img src=\"' + dataURL + '\" width=\"' + width + '\">';\n",
       "}\n",
       "\n",
       "mpl.figure.prototype.updated_canvas_event = function() {\n",
       "    // Tell IPython that the notebook contents must change.\n",
       "    IPython.notebook.set_dirty(true);\n",
       "    this.send_message(\"ack\", {});\n",
       "    var fig = this;\n",
       "    // Wait a second, then push the new image to the DOM so\n",
       "    // that it is saved nicely (might be nice to debounce this).\n",
       "    setTimeout(function () { fig.push_to_output() }, 1000);\n",
       "}\n",
       "\n",
       "mpl.figure.prototype._init_toolbar = function() {\n",
       "    var fig = this;\n",
       "\n",
       "    var nav_element = $('<div/>')\n",
       "    nav_element.attr('style', 'width: 100%');\n",
       "    this.root.append(nav_element);\n",
       "\n",
       "    // Define a callback function for later on.\n",
       "    function toolbar_event(event) {\n",
       "        return fig.toolbar_button_onclick(event['data']);\n",
       "    }\n",
       "    function toolbar_mouse_event(event) {\n",
       "        return fig.toolbar_button_onmouseover(event['data']);\n",
       "    }\n",
       "\n",
       "    for(var toolbar_ind in mpl.toolbar_items){\n",
       "        var name = mpl.toolbar_items[toolbar_ind][0];\n",
       "        var tooltip = mpl.toolbar_items[toolbar_ind][1];\n",
       "        var image = mpl.toolbar_items[toolbar_ind][2];\n",
       "        var method_name = mpl.toolbar_items[toolbar_ind][3];\n",
       "\n",
       "        if (!name) { continue; };\n",
       "\n",
       "        var button = $('<button class=\"btn btn-default\" href=\"#\" title=\"' + name + '\"><i class=\"fa ' + image + ' fa-lg\"></i></button>');\n",
       "        button.click(method_name, toolbar_event);\n",
       "        button.mouseover(tooltip, toolbar_mouse_event);\n",
       "        nav_element.append(button);\n",
       "    }\n",
       "\n",
       "    // Add the status bar.\n",
       "    var status_bar = $('<span class=\"mpl-message\" style=\"text-align:right; float: right;\"/>');\n",
       "    nav_element.append(status_bar);\n",
       "    this.message = status_bar[0];\n",
       "\n",
       "    // Add the close button to the window.\n",
       "    var buttongrp = $('<div class=\"btn-group inline pull-right\"></div>');\n",
       "    var button = $('<button class=\"btn btn-mini btn-primary\" href=\"#\" title=\"Stop Interaction\"><i class=\"fa fa-power-off icon-remove icon-large\"></i></button>');\n",
       "    button.click(function (evt) { fig.handle_close(fig, {}); } );\n",
       "    button.mouseover('Stop Interaction', toolbar_mouse_event);\n",
       "    buttongrp.append(button);\n",
       "    var titlebar = this.root.find($('.ui-dialog-titlebar'));\n",
       "    titlebar.prepend(buttongrp);\n",
       "}\n",
       "\n",
       "mpl.figure.prototype._root_extra_style = function(el){\n",
       "    var fig = this\n",
       "    el.on(\"remove\", function(){\n",
       "\tfig.close_ws(fig, {});\n",
       "    });\n",
       "}\n",
       "\n",
       "mpl.figure.prototype._canvas_extra_style = function(el){\n",
       "    // this is important to make the div 'focusable\n",
       "    el.attr('tabindex', 0)\n",
       "    // reach out to IPython and tell the keyboard manager to turn it's self\n",
       "    // off when our div gets focus\n",
       "\n",
       "    // location in version 3\n",
       "    if (IPython.notebook.keyboard_manager) {\n",
       "        IPython.notebook.keyboard_manager.register_events(el);\n",
       "    }\n",
       "    else {\n",
       "        // location in version 2\n",
       "        IPython.keyboard_manager.register_events(el);\n",
       "    }\n",
       "\n",
       "}\n",
       "\n",
       "mpl.figure.prototype._key_event_extra = function(event, name) {\n",
       "    var manager = IPython.notebook.keyboard_manager;\n",
       "    if (!manager)\n",
       "        manager = IPython.keyboard_manager;\n",
       "\n",
       "    // Check for shift+enter\n",
       "    if (event.shiftKey && event.which == 13) {\n",
       "        this.canvas_div.blur();\n",
       "        event.shiftKey = false;\n",
       "        // Send a \"J\" for go to next cell\n",
       "        event.which = 74;\n",
       "        event.keyCode = 74;\n",
       "        manager.command_mode();\n",
       "        manager.handle_keydown(event);\n",
       "    }\n",
       "}\n",
       "\n",
       "mpl.figure.prototype.handle_save = function(fig, msg) {\n",
       "    fig.ondownload(fig, null);\n",
       "}\n",
       "\n",
       "\n",
       "mpl.find_output_cell = function(html_output) {\n",
       "    // Return the cell and output element which can be found *uniquely* in the notebook.\n",
       "    // Note - this is a bit hacky, but it is done because the \"notebook_saving.Notebook\"\n",
       "    // IPython event is triggered only after the cells have been serialised, which for\n",
       "    // our purposes (turning an active figure into a static one), is too late.\n",
       "    var cells = IPython.notebook.get_cells();\n",
       "    var ncells = cells.length;\n",
       "    for (var i=0; i<ncells; i++) {\n",
       "        var cell = cells[i];\n",
       "        if (cell.cell_type === 'code'){\n",
       "            for (var j=0; j<cell.output_area.outputs.length; j++) {\n",
       "                var data = cell.output_area.outputs[j];\n",
       "                if (data.data) {\n",
       "                    // IPython >= 3 moved mimebundle to data attribute of output\n",
       "                    data = data.data;\n",
       "                }\n",
       "                if (data['text/html'] == html_output) {\n",
       "                    return [cell, data, j];\n",
       "                }\n",
       "            }\n",
       "        }\n",
       "    }\n",
       "}\n",
       "\n",
       "// Register the function which deals with the matplotlib target/channel.\n",
       "// The kernel may be null if the page has been refreshed.\n",
       "if (IPython.notebook.kernel != null) {\n",
       "    IPython.notebook.kernel.comm_manager.register_target('matplotlib', mpl.mpl_figure_comm);\n",
       "}\n"
      ],
      "text/plain": [
       "<IPython.core.display.Javascript object>"
      ]
     },
     "metadata": {},
     "output_type": "display_data"
    },
    {
     "data": {
      "text/html": [
       "<img src=\"data:image/png;base64,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\" width=\"285\">"
      ],
      "text/plain": [
       "<IPython.core.display.HTML object>"
      ]
     },
     "metadata": {},
     "output_type": "display_data"
    }
   ],
   "source": [
    "player_1_policy = torch.load('6-6-4-pie-1500.mypolicy')\n",
    "\n",
    "def Player_1_Trained(game):\n",
    "    mytree = MCTS.Node(copy(game))\n",
    "    for _ in range(1000):\n",
    "        mytree.explore(player_1_policy)\n",
    "       \n",
    "    mytreenext, (v, nn_v, p, nn_p) = mytree.next(temperature=0.1)\n",
    "    \n",
    "    return mytreenext.game.last_move\n",
    "\n",
    "player_2_policy = torch.load('6-6-4-pie-1500.mypolicy')\n",
    "\n",
    "def Player_2_Trained(game):\n",
    "    mytree = MCTS.Node(copy(game))\n",
    "    for _ in range(1000):\n",
    "        mytree.explore(player_2_policy)\n",
    "       \n",
    "    mytreenext, (v, nn_v, p, nn_p) = mytree.next(temperature=0.1)\n",
    "    \n",
    "    return mytreenext.game.last_move\n",
    "\n",
    "%matplotlib notebook\n",
    "gameplay=Play(ConnectN(**game_setting), \n",
    "              player2=Player_2_Trained, \n",
    "              player1=Player_1_Trained)"
   ]
  },
  {
   "cell_type": "code",
   "execution_count": null,
   "metadata": {},
   "outputs": [],
   "source": []
  }
 ],
 "metadata": {
  "kernelspec": {
   "display_name": "Python [default]",
   "language": "python",
   "name": "python3"
  },
  "language_info": {
   "codemirror_mode": {
    "name": "ipython",
    "version": 3
   },
   "file_extension": ".py",
   "mimetype": "text/x-python",
   "name": "python",
   "nbconvert_exporter": "python",
   "pygments_lexer": "ipython3",
   "version": "3.6.8"
  }
 },
 "nbformat": 4,
 "nbformat_minor": 2
}
